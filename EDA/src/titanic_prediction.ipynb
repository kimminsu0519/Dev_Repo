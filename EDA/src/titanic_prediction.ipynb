{
 "cells": [
  {
   "cell_type": "code",
   "execution_count": 1,
   "metadata": {},
   "outputs": [
    {
     "ename": "ValueError",
     "evalue": "Excel file format cannot be determined, you must specify an engine manually.",
     "output_type": "error",
     "traceback": [
      "\u001b[0;31m---------------------------------------------------------------------------\u001b[0m",
      "\u001b[0;31mValueError\u001b[0m                                Traceback (most recent call last)",
      "Cell \u001b[0;32mIn[1], line 4\u001b[0m\n\u001b[1;32m      1\u001b[0m \u001b[38;5;28;01mimport\u001b[39;00m\u001b[38;5;250m \u001b[39m\u001b[38;5;21;01mpandas\u001b[39;00m\u001b[38;5;250m \u001b[39m\u001b[38;5;28;01mas\u001b[39;00m\u001b[38;5;250m \u001b[39m\u001b[38;5;21;01mpd\u001b[39;00m\n\u001b[1;32m      3\u001b[0m titanic_url \u001b[38;5;241m=\u001b[39m \u001b[38;5;124m\"\u001b[39m\u001b[38;5;124mhttps://github.com/PinkWink/ML_tutorial/blob/master/dataset/titanic.xls\u001b[39m\u001b[38;5;124m\"\u001b[39m\n\u001b[0;32m----> 4\u001b[0m titanic \u001b[38;5;241m=\u001b[39m \u001b[43mpd\u001b[49m\u001b[38;5;241;43m.\u001b[39;49m\u001b[43mread_excel\u001b[49m\u001b[43m(\u001b[49m\u001b[43mtitanic_url\u001b[49m\u001b[43m)\u001b[49m\n\u001b[1;32m      5\u001b[0m titanic\u001b[38;5;241m.\u001b[39mhead()\n",
      "File \u001b[0;32m~/venv/eda_venv/lib/python3.10/site-packages/pandas/io/excel/_base.py:495\u001b[0m, in \u001b[0;36mread_excel\u001b[0;34m(io, sheet_name, header, names, index_col, usecols, dtype, engine, converters, true_values, false_values, skiprows, nrows, na_values, keep_default_na, na_filter, verbose, parse_dates, date_parser, date_format, thousands, decimal, comment, skipfooter, storage_options, dtype_backend, engine_kwargs)\u001b[0m\n\u001b[1;32m    493\u001b[0m \u001b[38;5;28;01mif\u001b[39;00m \u001b[38;5;129;01mnot\u001b[39;00m \u001b[38;5;28misinstance\u001b[39m(io, ExcelFile):\n\u001b[1;32m    494\u001b[0m     should_close \u001b[38;5;241m=\u001b[39m \u001b[38;5;28;01mTrue\u001b[39;00m\n\u001b[0;32m--> 495\u001b[0m     io \u001b[38;5;241m=\u001b[39m \u001b[43mExcelFile\u001b[49m\u001b[43m(\u001b[49m\n\u001b[1;32m    496\u001b[0m \u001b[43m        \u001b[49m\u001b[43mio\u001b[49m\u001b[43m,\u001b[49m\n\u001b[1;32m    497\u001b[0m \u001b[43m        \u001b[49m\u001b[43mstorage_options\u001b[49m\u001b[38;5;241;43m=\u001b[39;49m\u001b[43mstorage_options\u001b[49m\u001b[43m,\u001b[49m\n\u001b[1;32m    498\u001b[0m \u001b[43m        \u001b[49m\u001b[43mengine\u001b[49m\u001b[38;5;241;43m=\u001b[39;49m\u001b[43mengine\u001b[49m\u001b[43m,\u001b[49m\n\u001b[1;32m    499\u001b[0m \u001b[43m        \u001b[49m\u001b[43mengine_kwargs\u001b[49m\u001b[38;5;241;43m=\u001b[39;49m\u001b[43mengine_kwargs\u001b[49m\u001b[43m,\u001b[49m\n\u001b[1;32m    500\u001b[0m \u001b[43m    \u001b[49m\u001b[43m)\u001b[49m\n\u001b[1;32m    501\u001b[0m \u001b[38;5;28;01melif\u001b[39;00m engine \u001b[38;5;129;01mand\u001b[39;00m engine \u001b[38;5;241m!=\u001b[39m io\u001b[38;5;241m.\u001b[39mengine:\n\u001b[1;32m    502\u001b[0m     \u001b[38;5;28;01mraise\u001b[39;00m \u001b[38;5;167;01mValueError\u001b[39;00m(\n\u001b[1;32m    503\u001b[0m         \u001b[38;5;124m\"\u001b[39m\u001b[38;5;124mEngine should not be specified when passing \u001b[39m\u001b[38;5;124m\"\u001b[39m\n\u001b[1;32m    504\u001b[0m         \u001b[38;5;124m\"\u001b[39m\u001b[38;5;124man ExcelFile - ExcelFile already has the engine set\u001b[39m\u001b[38;5;124m\"\u001b[39m\n\u001b[1;32m    505\u001b[0m     )\n",
      "File \u001b[0;32m~/venv/eda_venv/lib/python3.10/site-packages/pandas/io/excel/_base.py:1554\u001b[0m, in \u001b[0;36mExcelFile.__init__\u001b[0;34m(self, path_or_buffer, engine, storage_options, engine_kwargs)\u001b[0m\n\u001b[1;32m   1550\u001b[0m     ext \u001b[38;5;241m=\u001b[39m inspect_excel_format(\n\u001b[1;32m   1551\u001b[0m         content_or_path\u001b[38;5;241m=\u001b[39mpath_or_buffer, storage_options\u001b[38;5;241m=\u001b[39mstorage_options\n\u001b[1;32m   1552\u001b[0m     )\n\u001b[1;32m   1553\u001b[0m     \u001b[38;5;28;01mif\u001b[39;00m ext \u001b[38;5;129;01mis\u001b[39;00m \u001b[38;5;28;01mNone\u001b[39;00m:\n\u001b[0;32m-> 1554\u001b[0m         \u001b[38;5;28;01mraise\u001b[39;00m \u001b[38;5;167;01mValueError\u001b[39;00m(\n\u001b[1;32m   1555\u001b[0m             \u001b[38;5;124m\"\u001b[39m\u001b[38;5;124mExcel file format cannot be determined, you must specify \u001b[39m\u001b[38;5;124m\"\u001b[39m\n\u001b[1;32m   1556\u001b[0m             \u001b[38;5;124m\"\u001b[39m\u001b[38;5;124man engine manually.\u001b[39m\u001b[38;5;124m\"\u001b[39m\n\u001b[1;32m   1557\u001b[0m         )\n\u001b[1;32m   1559\u001b[0m engine \u001b[38;5;241m=\u001b[39m config\u001b[38;5;241m.\u001b[39mget_option(\u001b[38;5;124mf\u001b[39m\u001b[38;5;124m\"\u001b[39m\u001b[38;5;124mio.excel.\u001b[39m\u001b[38;5;132;01m{\u001b[39;00mext\u001b[38;5;132;01m}\u001b[39;00m\u001b[38;5;124m.reader\u001b[39m\u001b[38;5;124m\"\u001b[39m, silent\u001b[38;5;241m=\u001b[39m\u001b[38;5;28;01mTrue\u001b[39;00m)\n\u001b[1;32m   1560\u001b[0m \u001b[38;5;28;01mif\u001b[39;00m engine \u001b[38;5;241m==\u001b[39m \u001b[38;5;124m\"\u001b[39m\u001b[38;5;124mauto\u001b[39m\u001b[38;5;124m\"\u001b[39m:\n",
      "\u001b[0;31mValueError\u001b[0m: Excel file format cannot be determined, you must specify an engine manually."
     ]
    }
   ],
   "source": [
    "import pandas as pd\n",
    "\n",
    "titanic_url = \"https://github.com/PinkWink/ML_tutorial/blob/master/dataset/titanic.xls\"\n",
    "titanic = pd.read_excel(titanic_url)\n",
    "titanic.head()"
   ]
  },
  {
   "cell_type": "code",
   "execution_count": 3,
   "metadata": {},
   "outputs": [
    {
     "data": {
      "text/html": [
       "<div>\n",
       "<style scoped>\n",
       "    .dataframe tbody tr th:only-of-type {\n",
       "        vertical-align: middle;\n",
       "    }\n",
       "\n",
       "    .dataframe tbody tr th {\n",
       "        vertical-align: top;\n",
       "    }\n",
       "\n",
       "    .dataframe thead th {\n",
       "        text-align: right;\n",
       "    }\n",
       "</style>\n",
       "<table border=\"1\" class=\"dataframe\">\n",
       "  <thead>\n",
       "    <tr style=\"text-align: right;\">\n",
       "      <th></th>\n",
       "      <th>pclass</th>\n",
       "      <th>survived</th>\n",
       "      <th>name</th>\n",
       "      <th>sex</th>\n",
       "      <th>age</th>\n",
       "      <th>sibsp</th>\n",
       "      <th>parch</th>\n",
       "      <th>ticket</th>\n",
       "      <th>fare</th>\n",
       "      <th>cabin</th>\n",
       "      <th>embarked</th>\n",
       "      <th>boat</th>\n",
       "      <th>body</th>\n",
       "      <th>home.dest</th>\n",
       "    </tr>\n",
       "  </thead>\n",
       "  <tbody>\n",
       "    <tr>\n",
       "      <th>0</th>\n",
       "      <td>1</td>\n",
       "      <td>1</td>\n",
       "      <td>Allen, Miss. Elisabeth Walton</td>\n",
       "      <td>female</td>\n",
       "      <td>29.0000</td>\n",
       "      <td>0</td>\n",
       "      <td>0</td>\n",
       "      <td>24160</td>\n",
       "      <td>211.3375</td>\n",
       "      <td>B5</td>\n",
       "      <td>S</td>\n",
       "      <td>2</td>\n",
       "      <td>NaN</td>\n",
       "      <td>St Louis, MO</td>\n",
       "    </tr>\n",
       "    <tr>\n",
       "      <th>1</th>\n",
       "      <td>1</td>\n",
       "      <td>1</td>\n",
       "      <td>Allison, Master. Hudson Trevor</td>\n",
       "      <td>male</td>\n",
       "      <td>0.9167</td>\n",
       "      <td>1</td>\n",
       "      <td>2</td>\n",
       "      <td>113781</td>\n",
       "      <td>151.5500</td>\n",
       "      <td>C22 C26</td>\n",
       "      <td>S</td>\n",
       "      <td>11</td>\n",
       "      <td>NaN</td>\n",
       "      <td>Montreal, PQ / Chesterville, ON</td>\n",
       "    </tr>\n",
       "    <tr>\n",
       "      <th>2</th>\n",
       "      <td>1</td>\n",
       "      <td>0</td>\n",
       "      <td>Allison, Miss. Helen Loraine</td>\n",
       "      <td>female</td>\n",
       "      <td>2.0000</td>\n",
       "      <td>1</td>\n",
       "      <td>2</td>\n",
       "      <td>113781</td>\n",
       "      <td>151.5500</td>\n",
       "      <td>C22 C26</td>\n",
       "      <td>S</td>\n",
       "      <td>NaN</td>\n",
       "      <td>NaN</td>\n",
       "      <td>Montreal, PQ / Chesterville, ON</td>\n",
       "    </tr>\n",
       "    <tr>\n",
       "      <th>3</th>\n",
       "      <td>1</td>\n",
       "      <td>0</td>\n",
       "      <td>Allison, Mr. Hudson Joshua Creighton</td>\n",
       "      <td>male</td>\n",
       "      <td>30.0000</td>\n",
       "      <td>1</td>\n",
       "      <td>2</td>\n",
       "      <td>113781</td>\n",
       "      <td>151.5500</td>\n",
       "      <td>C22 C26</td>\n",
       "      <td>S</td>\n",
       "      <td>NaN</td>\n",
       "      <td>135.0</td>\n",
       "      <td>Montreal, PQ / Chesterville, ON</td>\n",
       "    </tr>\n",
       "    <tr>\n",
       "      <th>4</th>\n",
       "      <td>1</td>\n",
       "      <td>0</td>\n",
       "      <td>Allison, Mrs. Hudson J C (Bessie Waldo Daniels)</td>\n",
       "      <td>female</td>\n",
       "      <td>25.0000</td>\n",
       "      <td>1</td>\n",
       "      <td>2</td>\n",
       "      <td>113781</td>\n",
       "      <td>151.5500</td>\n",
       "      <td>C22 C26</td>\n",
       "      <td>S</td>\n",
       "      <td>NaN</td>\n",
       "      <td>NaN</td>\n",
       "      <td>Montreal, PQ / Chesterville, ON</td>\n",
       "    </tr>\n",
       "  </tbody>\n",
       "</table>\n",
       "</div>"
      ],
      "text/plain": [
       "   pclass  survived                                             name     sex  \\\n",
       "0       1         1                    Allen, Miss. Elisabeth Walton  female   \n",
       "1       1         1                   Allison, Master. Hudson Trevor    male   \n",
       "2       1         0                     Allison, Miss. Helen Loraine  female   \n",
       "3       1         0             Allison, Mr. Hudson Joshua Creighton    male   \n",
       "4       1         0  Allison, Mrs. Hudson J C (Bessie Waldo Daniels)  female   \n",
       "\n",
       "       age  sibsp  parch  ticket      fare    cabin embarked boat   body  \\\n",
       "0  29.0000      0      0   24160  211.3375       B5        S    2    NaN   \n",
       "1   0.9167      1      2  113781  151.5500  C22 C26        S   11    NaN   \n",
       "2   2.0000      1      2  113781  151.5500  C22 C26        S  NaN    NaN   \n",
       "3  30.0000      1      2  113781  151.5500  C22 C26        S  NaN  135.0   \n",
       "4  25.0000      1      2  113781  151.5500  C22 C26        S  NaN    NaN   \n",
       "\n",
       "                         home.dest  \n",
       "0                     St Louis, MO  \n",
       "1  Montreal, PQ / Chesterville, ON  \n",
       "2  Montreal, PQ / Chesterville, ON  \n",
       "3  Montreal, PQ / Chesterville, ON  \n",
       "4  Montreal, PQ / Chesterville, ON  "
      ]
     },
     "execution_count": 3,
     "metadata": {},
     "output_type": "execute_result"
    }
   ],
   "source": [
    "import pandas as pd\n",
    "\n",
    "titanic_url = \"https://raw.githubusercontent.com/PinkWink/ML_tutorial/master/dataset/titanic.xls\"\n",
    "# titanic_url = \"https://github.com/PinkWink/ML_tutorial/blob/master/dataset/titanic.xls\"\n",
    "titanic = pd.read_excel(titanic_url)\n",
    "titanic.head()"
   ]
  },
  {
   "cell_type": "code",
   "execution_count": 7,
   "metadata": {},
   "outputs": [
    {
     "data": {
      "image/png": "[encoded data removed]",
      "text/plain": [
       "<Figure size 1800x800 with 2 Axes>"
      ]
     },
     "metadata": {},
     "output_type": "display_data"
    }
   ],
   "source": [
    "import matplotlib.pyplot as plt\n",
    "import seaborn as sns\n",
    "\n",
    "f, ax = plt.subplots(1, 2, figsize=(18, 8))\n",
    "\n",
    "titanic[\"survived\"].value_counts().plot.pie(explode=[0, 0.1], autopct=\"%1.1f%%\", ax=ax[0], shadow=True)\n",
    "ax[0].set_title(\"Pie plot - Survived\")\n",
    "ax[0].set_ylabel('')\n",
    "\n",
    "sns.countplot(data=titanic, x=\"survived\", hue=\"survived\", ax=ax[1])\n",
    "ax[1].set_title(\"Count plot - Survived\")\n",
    "\n",
    "plt.show()"
   ]
  },
  {
   "cell_type": "code",
   "execution_count": 20,
   "metadata": {},
   "outputs": [
    {
     "data": {
      "image/png": "[encoded data removed]",
      "text/plain": [
       "<Figure size 1800x800 with 2 Axes>"
      ]
     },
     "metadata": {},
     "output_type": "display_data"
    }
   ],
   "source": [
    "f, ax = plt.subplots(1, 2, figsize=(18, 8))\n",
    "\n",
    "sns.countplot(data=titanic, x=\"sex\", ax=ax[0])\n",
    "ax[0].set_title(\"Count of Passengers of Sex\")\n",
    "ax[0].set_ylabel('')\n",
    "\n",
    "sns.countplot(data=titanic, x=\"sex\", hue=\"survived\", ax=ax[1])\n",
    "ax[1].set_title(\"Sex: Survived and Unsurvived\")\n",
    "\n",
    "plt.show()"
   ]
  },
  {
   "cell_type": "code",
   "execution_count": 21,
   "metadata": {},
   "outputs": [
    {
     "data": {
      "text/html": [
       "<div>\n",
       "<style scoped>\n",
       "    .dataframe tbody tr th:only-of-type {\n",
       "        vertical-align: middle;\n",
       "    }\n",
       "\n",
       "    .dataframe tbody tr th {\n",
       "        vertical-align: top;\n",
       "    }\n",
       "\n",
       "    .dataframe thead th {\n",
       "        text-align: right;\n",
       "    }\n",
       "</style>\n",
       "<table border=\"1\" class=\"dataframe\">\n",
       "  <thead>\n",
       "    <tr style=\"text-align: right;\">\n",
       "      <th>survived</th>\n",
       "      <th>0</th>\n",
       "      <th>1</th>\n",
       "      <th>All</th>\n",
       "    </tr>\n",
       "    <tr>\n",
       "      <th>pclass</th>\n",
       "      <th></th>\n",
       "      <th></th>\n",
       "      <th></th>\n",
       "    </tr>\n",
       "  </thead>\n",
       "  <tbody>\n",
       "    <tr>\n",
       "      <th>1</th>\n",
       "      <td>123</td>\n",
       "      <td>200</td>\n",
       "      <td>323</td>\n",
       "    </tr>\n",
       "    <tr>\n",
       "      <th>2</th>\n",
       "      <td>158</td>\n",
       "      <td>119</td>\n",
       "      <td>277</td>\n",
       "    </tr>\n",
       "    <tr>\n",
       "      <th>3</th>\n",
       "      <td>528</td>\n",
       "      <td>181</td>\n",
       "      <td>709</td>\n",
       "    </tr>\n",
       "    <tr>\n",
       "      <th>All</th>\n",
       "      <td>809</td>\n",
       "      <td>500</td>\n",
       "      <td>1309</td>\n",
       "    </tr>\n",
       "  </tbody>\n",
       "</table>\n",
       "</div>"
      ],
      "text/plain": [
       "survived    0    1   All\n",
       "pclass                  \n",
       "1         123  200   323\n",
       "2         158  119   277\n",
       "3         528  181   709\n",
       "All       809  500  1309"
      ]
     },
     "execution_count": 21,
     "metadata": {},
     "output_type": "execute_result"
    }
   ],
   "source": [
    "pd.crosstab(titanic[\"pclass\"], titanic[\"survived\"], margins=True)"
   ]
  },
  {
   "cell_type": "code",
   "execution_count": 22,
   "metadata": {},
   "outputs": [
    {
     "data": {
      "text/plain": [
       "<seaborn.axisgrid.FacetGrid at 0x72ce1212a260>"
      ]
     },
     "execution_count": 22,
     "metadata": {},
     "output_type": "execute_result"
    },
    {
     "data": {
      "image/png": "[encoded data removed]",
      "text/plain": [
       "<Figure size 1611.11x1200 with 6 Axes>"
      ]
     },
     "metadata": {},
     "output_type": "display_data"
    }
   ],
   "source": [
    "grid = sns.FacetGrid(titanic, row=\"pclass\", col=\"sex\", height=4, aspect=2)\n",
    "grid.map(plt.hist, \"age\", alpha=.8, bins=20)\n",
    "grid.add_legend()"
   ]
  },
  {
   "cell_type": "code",
   "execution_count": 25,
   "metadata": {},
   "outputs": [
    {
     "data": {
      "application/vnd.plotly.v1+json": {
       "config": {
        "plotlyServerURL": "https://plot.ly"
       },
       "data": [
        {
         "bingroup": "x",
         "hovertemplate": "age=%{x}<br>count=%{y}<extra></extra>",
         "legendgroup": "",
         "marker": {
          "color": "#636efa",
          "pattern": {
           "shape": ""
          }
         },
         "name": "",
         "orientation": "v",
         "showlegend": false,
         "type": "histogram",
         "x": {
          "bdata": "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",
          "dtype": "f8"
         },
         "xaxis": "x",
         "yaxis": "y"
        }
       ],
       "layout": {
        "barmode": "relative",
        "legend": {
         "tracegroupgap": 0
        },
        "margin": {
         "t": 60
        },
        "template": {
         "data": {
          "bar": [
           {
            "error_x": {
             "color": "#2a3f5f"
            },
            "error_y": {
             "color": "#2a3f5f"
            },
            "marker": {
             "line": {
              "color": "#E5ECF6",
              "width": 0.5
             },
             "pattern": {
              "fillmode": "overlay",
              "size": 10,
              "solidity": 0.2
             }
            },
            "type": "bar"
           }
          ],
          "barpolar": [
           {
            "marker": {
             "line": {
              "color": "#E5ECF6",
              "width": 0.5
             },
             "pattern": {
              "fillmode": "overlay",
              "size": 10,
              "solidity": 0.2
             }
            },
            "type": "barpolar"
           }
          ],
          "carpet": [
           {
            "aaxis": {
             "endlinecolor": "#2a3f5f",
             "gridcolor": "white",
             "linecolor": "white",
             "minorgridcolor": "white",
             "startlinecolor": "#2a3f5f"
            },
            "baxis": {
             "endlinecolor": "#2a3f5f",
             "gridcolor": "white",
             "linecolor": "white",
             "minorgridcolor": "white",
             "startlinecolor": "#2a3f5f"
            },
            "type": "carpet"
           }
          ],
          "choropleth": [
           {
            "colorbar": {
             "outlinewidth": 0,
             "ticks": ""
            },
            "type": "choropleth"
           }
          ],
          "contour": [
           {
            "colorbar": {
             "outlinewidth": 0,
             "ticks": ""
            },
            "colorscale": [
             [
              0,
              "#0d0887"
             ],
             [
              0.1111111111111111,
              "#46039f"
             ],
             [
              0.2222222222222222,
              "#7201a8"
             ],
             [
              0.3333333333333333,
              "#9c179e"
             ],
             [
              0.4444444444444444,
              "#bd3786"
             ],
             [
              0.5555555555555556,
              "#d8576b"
             ],
             [
              0.6666666666666666,
              "#ed7953"
             ],
             [
              0.7777777777777778,
              "#fb9f3a"
             ],
             [
              0.8888888888888888,
              "#fdca26"
             ],
             [
              1,
              "#f0f921"
             ]
            ],
            "type": "contour"
           }
          ],
          "contourcarpet": [
           {
            "colorbar": {
             "outlinewidth": 0,
             "ticks": ""
            },
            "type": "contourcarpet"
           }
          ],
          "heatmap": [
           {
            "colorbar": {
             "outlinewidth": 0,
             "ticks": ""
            },
            "colorscale": [
             [
              0,
              "#0d0887"
             ],
             [
              0.1111111111111111,
              "#46039f"
             ],
             [
              0.2222222222222222,
              "#7201a8"
             ],
             [
              0.3333333333333333,
              "#9c179e"
             ],
             [
              0.4444444444444444,
              "#bd3786"
             ],
             [
              0.5555555555555556,
              "#d8576b"
             ],
             [
              0.6666666666666666,
              "#ed7953"
             ],
             [
              0.7777777777777778,
              "#fb9f3a"
             ],
             [
              0.8888888888888888,
              "#fdca26"
             ],
             [
              1,
              "#f0f921"
             ]
            ],
            "type": "heatmap"
           }
          ],
          "histogram": [
           {
            "marker": {
             "pattern": {
              "fillmode": "overlay",
              "size": 10,
              "solidity": 0.2
             }
            },
            "type": "histogram"
           }
          ],
          "histogram2d": [
           {
            "colorbar": {
             "outlinewidth": 0,
             "ticks": ""
            },
            "colorscale": [
             [
              0,
              "#0d0887"
             ],
             [
              0.1111111111111111,
              "#46039f"
             ],
             [
              0.2222222222222222,
              "#7201a8"
             ],
             [
              0.3333333333333333,
              "#9c179e"
             ],
             [
              0.4444444444444444,
              "#bd3786"
             ],
             [
              0.5555555555555556,
              "#d8576b"
             ],
             [
              0.6666666666666666,
              "#ed7953"
             ],
             [
              0.7777777777777778,
              "#fb9f3a"
             ],
             [
              0.8888888888888888,
              "#fdca26"
             ],
             [
              1,
              "#f0f921"
             ]
            ],
            "type": "histogram2d"
           }
          ],
          "histogram2dcontour": [
           {
            "colorbar": {
             "outlinewidth": 0,
             "ticks": ""
            },
            "colorscale": [
             [
              0,
              "#0d0887"
             ],
             [
              0.1111111111111111,
              "#46039f"
             ],
             [
              0.2222222222222222,
              "#7201a8"
             ],
             [
              0.3333333333333333,
              "#9c179e"
             ],
             [
              0.4444444444444444,
              "#bd3786"
             ],
             [
              0.5555555555555556,
              "#d8576b"
             ],
             [
              0.6666666666666666,
              "#ed7953"
             ],
             [
              0.7777777777777778,
              "#fb9f3a"
             ],
             [
              0.8888888888888888,
              "#fdca26"
             ],
             [
              1,
              "#f0f921"
             ]
            ],
            "type": "histogram2dcontour"
           }
          ],
          "mesh3d": [
           {
            "colorbar": {
             "outlinewidth": 0,
             "ticks": ""
            },
            "type": "mesh3d"
           }
          ],
          "parcoords": [
           {
            "line": {
             "colorbar": {
              "outlinewidth": 0,
              "ticks": ""
             }
            },
            "type": "parcoords"
           }
          ],
          "pie": [
           {
            "automargin": true,
            "type": "pie"
           }
          ],
          "scatter": [
           {
            "fillpattern": {
             "fillmode": "overlay",
             "size": 10,
             "solidity": 0.2
            },
            "type": "scatter"
           }
          ],
          "scatter3d": [
           {
            "line": {
             "colorbar": {
              "outlinewidth": 0,
              "ticks": ""
             }
            },
            "marker": {
             "colorbar": {
              "outlinewidth": 0,
              "ticks": ""
             }
            },
            "type": "scatter3d"
           }
          ],
          "scattercarpet": [
           {
            "marker": {
             "colorbar": {
              "outlinewidth": 0,
              "ticks": ""
             }
            },
            "type": "scattercarpet"
           }
          ],
          "scattergeo": [
           {
            "marker": {
             "colorbar": {
              "outlinewidth": 0,
              "ticks": ""
             }
            },
            "type": "scattergeo"
           }
          ],
          "scattergl": [
           {
            "marker": {
             "colorbar": {
              "outlinewidth": 0,
              "ticks": ""
             }
            },
            "type": "scattergl"
           }
          ],
          "scattermap": [
           {
            "marker": {
             "colorbar": {
              "outlinewidth": 0,
              "ticks": ""
             }
            },
            "type": "scattermap"
           }
          ],
          "scattermapbox": [
           {
            "marker": {
             "colorbar": {
              "outlinewidth": 0,
              "ticks": ""
             }
            },
            "type": "scattermapbox"
           }
          ],
          "scatterpolar": [
           {
            "marker": {
             "colorbar": {
              "outlinewidth": 0,
              "ticks": ""
             }
            },
            "type": "scatterpolar"
           }
          ],
          "scatterpolargl": [
           {
            "marker": {
             "colorbar": {
              "outlinewidth": 0,
              "ticks": ""
             }
            },
            "type": "scatterpolargl"
           }
          ],
          "scatterternary": [
           {
            "marker": {
             "colorbar": {
              "outlinewidth": 0,
              "ticks": ""
             }
            },
            "type": "scatterternary"
           }
          ],
          "surface": [
           {
            "colorbar": {
             "outlinewidth": 0,
             "ticks": ""
            },
            "colorscale": [
             [
              0,
              "#0d0887"
             ],
             [
              0.1111111111111111,
              "#46039f"
             ],
             [
              0.2222222222222222,
              "#7201a8"
             ],
             [
              0.3333333333333333,
              "#9c179e"
             ],
             [
              0.4444444444444444,
              "#bd3786"
             ],
             [
              0.5555555555555556,
              "#d8576b"
             ],
             [
              0.6666666666666666,
              "#ed7953"
             ],
             [
              0.7777777777777778,
              "#fb9f3a"
             ],
             [
              0.8888888888888888,
              "#fdca26"
             ],
             [
              1,
              "#f0f921"
             ]
            ],
            "type": "surface"
           }
          ],
          "table": [
           {
            "cells": {
             "fill": {
              "color": "#EBF0F8"
             },
             "line": {
              "color": "white"
             }
            },
            "header": {
             "fill": {
              "color": "#C8D4E3"
             },
             "line": {
              "color": "white"
             }
            },
            "type": "table"
           }
          ]
         },
         "layout": {
          "annotationdefaults": {
           "arrowcolor": "#2a3f5f",
           "arrowhead": 0,
           "arrowwidth": 1
          },
          "autotypenumbers": "strict",
          "coloraxis": {
           "colorbar": {
            "outlinewidth": 0,
            "ticks": ""
           }
          },
          "colorscale": {
           "diverging": [
            [
             0,
             "#8e0152"
            ],
            [
             0.1,
             "#c51b7d"
            ],
            [
             0.2,
             "#de77ae"
            ],
            [
             0.3,
             "#f1b6da"
            ],
            [
             0.4,
             "#fde0ef"
            ],
            [
             0.5,
             "#f7f7f7"
            ],
            [
             0.6,
             "#e6f5d0"
            ],
            [
             0.7,
             "#b8e186"
            ],
            [
             0.8,
             "#7fbc41"
            ],
            [
             0.9,
             "#4d9221"
            ],
            [
             1,
             "#276419"
            ]
           ],
           "sequential": [
            [
             0,
             "#0d0887"
            ],
            [
             0.1111111111111111,
             "#46039f"
            ],
            [
             0.2222222222222222,
             "#7201a8"
            ],
            [
             0.3333333333333333,
             "#9c179e"
            ],
            [
             0.4444444444444444,
             "#bd3786"
            ],
            [
             0.5555555555555556,
             "#d8576b"
            ],
            [
             0.6666666666666666,
             "#ed7953"
            ],
            [
             0.7777777777777778,
             "#fb9f3a"
            ],
            [
             0.8888888888888888,
             "#fdca26"
            ],
            [
             1,
             "#f0f921"
            ]
           ],
           "sequentialminus": [
            [
             0,
             "#0d0887"
            ],
            [
             0.1111111111111111,
             "#46039f"
            ],
            [
             0.2222222222222222,
             "#7201a8"
            ],
            [
             0.3333333333333333,
             "#9c179e"
            ],
            [
             0.4444444444444444,
             "#bd3786"
            ],
            [
             0.5555555555555556,
             "#d8576b"
            ],
            [
             0.6666666666666666,
             "#ed7953"
            ],
            [
             0.7777777777777778,
             "#fb9f3a"
            ],
            [
             0.8888888888888888,
             "#fdca26"
            ],
            [
             1,
             "#f0f921"
            ]
           ]
          },
          "colorway": [
           "#636efa",
           "#EF553B",
           "#00cc96",
           "#ab63fa",
           "#FFA15A",
           "#19d3f3",
           "#FF6692",
           "#B6E880",
           "#FF97FF",
           "#FECB52"
          ],
          "font": {
           "color": "#2a3f5f"
          },
          "geo": {
           "bgcolor": "white",
           "lakecolor": "white",
           "landcolor": "#E5ECF6",
           "showlakes": true,
           "showland": true,
           "subunitcolor": "white"
          },
          "hoverlabel": {
           "align": "left"
          },
          "hovermode": "closest",
          "mapbox": {
           "style": "light"
          },
          "paper_bgcolor": "white",
          "plot_bgcolor": "#E5ECF6",
          "polar": {
           "angularaxis": {
            "gridcolor": "white",
            "linecolor": "white",
            "ticks": ""
           },
           "bgcolor": "#E5ECF6",
           "radialaxis": {
            "gridcolor": "white",
            "linecolor": "white",
            "ticks": ""
           }
          },
          "scene": {
           "xaxis": {
            "backgroundcolor": "#E5ECF6",
            "gridcolor": "white",
            "gridwidth": 2,
            "linecolor": "white",
            "showbackground": true,
            "ticks": "",
            "zerolinecolor": "white"
           },
           "yaxis": {
            "backgroundcolor": "#E5ECF6",
            "gridcolor": "white",
            "gridwidth": 2,
            "linecolor": "white",
            "showbackground": true,
            "ticks": "",
            "zerolinecolor": "white"
           },
           "zaxis": {
            "backgroundcolor": "#E5ECF6",
            "gridcolor": "white",
            "gridwidth": 2,
            "linecolor": "white",
            "showbackground": true,
            "ticks": "",
            "zerolinecolor": "white"
           }
          },
          "shapedefaults": {
           "line": {
            "color": "#2a3f5f"
           }
          },
          "ternary": {
           "aaxis": {
            "gridcolor": "white",
            "linecolor": "white",
            "ticks": ""
           },
           "baxis": {
            "gridcolor": "white",
            "linecolor": "white",
            "ticks": ""
           },
           "bgcolor": "#E5ECF6",
           "caxis": {
            "gridcolor": "white",
            "linecolor": "white",
            "ticks": ""
           }
          },
          "title": {
           "x": 0.05
          },
          "xaxis": {
           "automargin": true,
           "gridcolor": "white",
           "linecolor": "white",
           "ticks": "",
           "title": {
            "standoff": 15
           },
           "zerolinecolor": "white",
           "zerolinewidth": 2
          },
          "yaxis": {
           "automargin": true,
           "gridcolor": "white",
           "linecolor": "white",
           "ticks": "",
           "title": {
            "standoff": 15
           },
           "zerolinecolor": "white",
           "zerolinewidth": 2
          }
         }
        },
        "xaxis": {
         "anchor": "y",
         "domain": [
          0,
          1
         ],
         "title": {
          "text": "age"
         }
        },
        "yaxis": {
         "anchor": "x",
         "domain": [
          0,
          1
         ],
         "title": {
          "text": "count"
         }
        }
       }
      }
     },
     "metadata": {},
     "output_type": "display_data"
    }
   ],
   "source": [
    "import plotly.express as px\n",
    "\n",
    "fig = px.histogram(titanic, x=\"age\")\n",
    "fig.show()"
   ]
  },
  {
   "cell_type": "code",
   "execution_count": 26,
   "metadata": {},
   "outputs": [
    {
     "data": {
      "text/plain": [
       "<seaborn.axisgrid.FacetGrid at 0x72ce11f73fa0>"
      ]
     },
     "execution_count": 26,
     "metadata": {},
     "output_type": "execute_result"
    },
    {
     "data": {
      "image/png": "[encoded data removed]",
      "text/plain": [
       "<Figure size 1611.11x1200 with 6 Axes>"
      ]
     },
     "metadata": {},
     "output_type": "display_data"
    }
   ],
   "source": [
    "grid = sns.FacetGrid(titanic, col=\"survived\", row=\"pclass\", height=4, aspect=2)\n",
    "grid.map(plt.hist, \"age\", alpha=.5, bins=20)\n",
    "grid.add_legend()"
   ]
  },
  {
   "cell_type": "code",
   "execution_count": 27,
   "metadata": {},
   "outputs": [
    {
     "data": {
      "text/html": [
       "<div>\n",
       "<style scoped>\n",
       "    .dataframe tbody tr th:only-of-type {\n",
       "        vertical-align: middle;\n",
       "    }\n",
       "\n",
       "    .dataframe tbody tr th {\n",
       "        vertical-align: top;\n",
       "    }\n",
       "\n",
       "    .dataframe thead th {\n",
       "        text-align: right;\n",
       "    }\n",
       "</style>\n",
       "<table border=\"1\" class=\"dataframe\">\n",
       "  <thead>\n",
       "    <tr style=\"text-align: right;\">\n",
       "      <th></th>\n",
       "      <th>pclass</th>\n",
       "      <th>survived</th>\n",
       "      <th>name</th>\n",
       "      <th>sex</th>\n",
       "      <th>age</th>\n",
       "      <th>sibsp</th>\n",
       "      <th>parch</th>\n",
       "      <th>ticket</th>\n",
       "      <th>fare</th>\n",
       "      <th>cabin</th>\n",
       "      <th>embarked</th>\n",
       "      <th>boat</th>\n",
       "      <th>body</th>\n",
       "      <th>home.dest</th>\n",
       "      <th>age_cat</th>\n",
       "    </tr>\n",
       "  </thead>\n",
       "  <tbody>\n",
       "    <tr>\n",
       "      <th>0</th>\n",
       "      <td>1</td>\n",
       "      <td>1</td>\n",
       "      <td>Allen, Miss. Elisabeth Walton</td>\n",
       "      <td>female</td>\n",
       "      <td>29.0000</td>\n",
       "      <td>0</td>\n",
       "      <td>0</td>\n",
       "      <td>24160</td>\n",
       "      <td>211.3375</td>\n",
       "      <td>B5</td>\n",
       "      <td>S</td>\n",
       "      <td>2</td>\n",
       "      <td>NaN</td>\n",
       "      <td>St Louis, MO</td>\n",
       "      <td>young</td>\n",
       "    </tr>\n",
       "    <tr>\n",
       "      <th>1</th>\n",
       "      <td>1</td>\n",
       "      <td>1</td>\n",
       "      <td>Allison, Master. Hudson Trevor</td>\n",
       "      <td>male</td>\n",
       "      <td>0.9167</td>\n",
       "      <td>1</td>\n",
       "      <td>2</td>\n",
       "      <td>113781</td>\n",
       "      <td>151.5500</td>\n",
       "      <td>C22 C26</td>\n",
       "      <td>S</td>\n",
       "      <td>11</td>\n",
       "      <td>NaN</td>\n",
       "      <td>Montreal, PQ / Chesterville, ON</td>\n",
       "      <td>baby</td>\n",
       "    </tr>\n",
       "    <tr>\n",
       "      <th>2</th>\n",
       "      <td>1</td>\n",
       "      <td>0</td>\n",
       "      <td>Allison, Miss. Helen Loraine</td>\n",
       "      <td>female</td>\n",
       "      <td>2.0000</td>\n",
       "      <td>1</td>\n",
       "      <td>2</td>\n",
       "      <td>113781</td>\n",
       "      <td>151.5500</td>\n",
       "      <td>C22 C26</td>\n",
       "      <td>S</td>\n",
       "      <td>NaN</td>\n",
       "      <td>NaN</td>\n",
       "      <td>Montreal, PQ / Chesterville, ON</td>\n",
       "      <td>baby</td>\n",
       "    </tr>\n",
       "    <tr>\n",
       "      <th>3</th>\n",
       "      <td>1</td>\n",
       "      <td>0</td>\n",
       "      <td>Allison, Mr. Hudson Joshua Creighton</td>\n",
       "      <td>male</td>\n",
       "      <td>30.0000</td>\n",
       "      <td>1</td>\n",
       "      <td>2</td>\n",
       "      <td>113781</td>\n",
       "      <td>151.5500</td>\n",
       "      <td>C22 C26</td>\n",
       "      <td>S</td>\n",
       "      <td>NaN</td>\n",
       "      <td>135.0</td>\n",
       "      <td>Montreal, PQ / Chesterville, ON</td>\n",
       "      <td>young</td>\n",
       "    </tr>\n",
       "    <tr>\n",
       "      <th>4</th>\n",
       "      <td>1</td>\n",
       "      <td>0</td>\n",
       "      <td>Allison, Mrs. Hudson J C (Bessie Waldo Daniels)</td>\n",
       "      <td>female</td>\n",
       "      <td>25.0000</td>\n",
       "      <td>1</td>\n",
       "      <td>2</td>\n",
       "      <td>113781</td>\n",
       "      <td>151.5500</td>\n",
       "      <td>C22 C26</td>\n",
       "      <td>S</td>\n",
       "      <td>NaN</td>\n",
       "      <td>NaN</td>\n",
       "      <td>Montreal, PQ / Chesterville, ON</td>\n",
       "      <td>young</td>\n",
       "    </tr>\n",
       "  </tbody>\n",
       "</table>\n",
       "</div>"
      ],
      "text/plain": [
       "   pclass  survived                                             name     sex  \\\n",
       "0       1         1                    Allen, Miss. Elisabeth Walton  female   \n",
       "1       1         1                   Allison, Master. Hudson Trevor    male   \n",
       "2       1         0                     Allison, Miss. Helen Loraine  female   \n",
       "3       1         0             Allison, Mr. Hudson Joshua Creighton    male   \n",
       "4       1         0  Allison, Mrs. Hudson J C (Bessie Waldo Daniels)  female   \n",
       "\n",
       "       age  sibsp  parch  ticket      fare    cabin embarked boat   body  \\\n",
       "0  29.0000      0      0   24160  211.3375       B5        S    2    NaN   \n",
       "1   0.9167      1      2  113781  151.5500  C22 C26        S   11    NaN   \n",
       "2   2.0000      1      2  113781  151.5500  C22 C26        S  NaN    NaN   \n",
       "3  30.0000      1      2  113781  151.5500  C22 C26        S  NaN  135.0   \n",
       "4  25.0000      1      2  113781  151.5500  C22 C26        S  NaN    NaN   \n",
       "\n",
       "                         home.dest age_cat  \n",
       "0                     St Louis, MO   young  \n",
       "1  Montreal, PQ / Chesterville, ON    baby  \n",
       "2  Montreal, PQ / Chesterville, ON    baby  \n",
       "3  Montreal, PQ / Chesterville, ON   young  \n",
       "4  Montreal, PQ / Chesterville, ON   young  "
      ]
     },
     "execution_count": 27,
     "metadata": {},
     "output_type": "execute_result"
    }
   ],
   "source": [
    "titanic[\"age_cat\"]= pd.cut(titanic[\"age\"], bins=[0, 7, 15, 30, 60, 100],\n",
    "                           include_lowest=True,\n",
    "                           labels=[\"baby\", \"teen\", \"young\", \"adult\", \"old\"])\n",
    "titanic.head()"
   ]
  },
  {
   "cell_type": "code",
   "execution_count": 33,
   "metadata": {},
   "outputs": [
    {
     "ename": "TypeError",
     "evalue": "barplot() got multiple values for argument 'data'",
     "output_type": "error",
     "traceback": [
      "\u001b[0;31m---------------------------------------------------------------------------\u001b[0m",
      "\u001b[0;31mTypeError\u001b[0m                                 Traceback (most recent call last)",
      "Cell \u001b[0;32mIn[33], line 5\u001b[0m\n\u001b[1;32m      3\u001b[0m plt\u001b[38;5;241m.\u001b[39mfigure(figsize\u001b[38;5;241m=\u001b[39m(\u001b[38;5;241m12\u001b[39m,\u001b[38;5;241m4\u001b[39m))\n\u001b[1;32m      4\u001b[0m plt\u001b[38;5;241m.\u001b[39msubplot(\u001b[38;5;241m131\u001b[39m)\n\u001b[0;32m----> 5\u001b[0m \u001b[43msns\u001b[49m\u001b[38;5;241;43m.\u001b[39;49m\u001b[43mbarplot\u001b[49m\u001b[43m(\u001b[49m\u001b[38;5;124;43m'\u001b[39;49m\u001b[38;5;124;43mpclass\u001b[39;49m\u001b[38;5;124;43m'\u001b[39;49m\u001b[43m,\u001b[49m\u001b[43m \u001b[49m\u001b[38;5;124;43m'\u001b[39;49m\u001b[38;5;124;43msurvived\u001b[39;49m\u001b[38;5;124;43m'\u001b[39;49m\u001b[43m,\u001b[49m\u001b[43m \u001b[49m\u001b[43mdata\u001b[49m\u001b[38;5;241;43m=\u001b[39;49m\u001b[43mtitanic\u001b[49m\u001b[43m)\u001b[49m\n\u001b[1;32m      6\u001b[0m plt\u001b[38;5;241m.\u001b[39msubplot(\u001b[38;5;241m132\u001b[39m)\n\u001b[1;32m      7\u001b[0m sns\u001b[38;5;241m.\u001b[39mbarplot(\u001b[38;5;124m'\u001b[39m\u001b[38;5;124mage_cat\u001b[39m\u001b[38;5;124m'\u001b[39m, \u001b[38;5;124m'\u001b[39m\u001b[38;5;124msurvived\u001b[39m\u001b[38;5;124m'\u001b[39m, data\u001b[38;5;241m=\u001b[39mtitanic)\n",
      "\u001b[0;31mTypeError\u001b[0m: barplot() got multiple values for argument 'data'"
     ]
    },
    {
     "data": {
      "image/png": "[encoded data removed]",
      "text/plain": [
       "<Figure size 1200x400 with 1 Axes>"
      ]
     },
     "metadata": {},
     "output_type": "display_data"
    }
   ],
   "source": [
    "# fig, axes = plt.subplots(nrows=1, ncols=2, figsize=(14, 6))\n",
    "\n",
    "plt.figure(figsize=(12,4))\n",
    "plt.subplot(131)\n",
    "sns.barplot('pclass', 'survived', data=titanic)\n",
    "plt.subplot(132)\n",
    "sns.barplot('age_cat', 'survived', data=titanic)\n",
    "plt.subplot(133)\n",
    "sns.barplot('sex', 'survived', data=titanic)\n",
    "plt.subplots_adjust(top=1, bottom=0.1, left=0.1, right=1, hspace=0.5, wspace=0.5)"
   ]
  },
  {
   "cell_type": "code",
   "execution_count": 34,
   "metadata": {},
   "outputs": [
    {
     "data": {
      "image/png": "[encoded data removed]",
      "text/plain": [
       "<Figure size 1200x400 with 3 Axes>"
      ]
     },
     "metadata": {},
     "output_type": "display_data"
    }
   ],
   "source": [
    "plt.figure(figsize=(12,4))\n",
    "plt.subplot(131)\n",
    "sns.barplot(x='pclass', y='survived', data=titanic)\n",
    "plt.subplot(132)\n",
    "sns.barplot(x='age_cat', y='survived', data=titanic)\n",
    "plt.subplot(133)\n",
    "sns.barplot(x='sex', y='survived', data=titanic)\n",
    "plt.subplots_adjust(top=1, bottom=0.1, left=0.1, right=1, hspace=0.5, wspace=0.5)"
   ]
  },
  {
   "cell_type": "code",
   "execution_count": 37,
   "metadata": {},
   "outputs": [
    {
     "data": {
      "image/png": "[encoded data removed]",
      "text/plain": [
       "<Figure size 1200x400 with 3 Axes>"
      ]
     },
     "metadata": {},
     "output_type": "display_data"
    }
   ],
   "source": [
    "plt.figure(figsize=(12,4))\n",
    "\n",
    "plt.subplot(131)\n",
    "sns.barplot(x='pclass', y='survived', hue='survived', data=titanic)\n",
    "\n",
    "plt.subplot(132)\n",
    "sns.barplot(x='age_cat', y='survived', hue='survived', data=titanic)\n",
    "\n",
    "plt.subplot(133)\n",
    "sns.barplot(x='sex', y='survived', hue='survived', data=titanic)\n",
    "\n",
    "plt.subplots_adjust(top=1, bottom=0.1, left=0.1, right=1, hspace=0.5, wspace=0.5)\n"
   ]
  },
  {
   "cell_type": "code",
   "execution_count": 38,
   "metadata": {},
   "outputs": [
    {
     "name": "stderr",
     "output_type": "stream",
     "text": [
      "/tmp/ipykernel_69351/3616248084.py:6: UserWarning:\n",
      "\n",
      "\n",
      "\n",
      "`distplot` is a deprecated function and will be removed in seaborn v0.14.0.\n",
      "\n",
      "Please adapt your code to use either `displot` (a figure-level function with\n",
      "similar flexibility) or `histplot` (an axes-level function for histograms).\n",
      "\n",
      "For a guide to updating your code to use the new functions, please see\n",
      "https://gist.github.com/mwaskom/de44147ed2974457ad6372750bbe5751\n",
      "\n",
      "\n",
      "/tmp/ipykernel_69351/3616248084.py:8: UserWarning:\n",
      "\n",
      "\n",
      "\n",
      "`distplot` is a deprecated function and will be removed in seaborn v0.14.0.\n",
      "\n",
      "Please adapt your code to use either `displot` (a figure-level function with\n",
      "similar flexibility) or `histplot` (an axes-level function for histograms).\n",
      "\n",
      "For a guide to updating your code to use the new functions, please see\n",
      "https://gist.github.com/mwaskom/de44147ed2974457ad6372750bbe5751\n",
      "\n",
      "\n",
      "/tmp/ipykernel_69351/3616248084.py:12: UserWarning:\n",
      "\n",
      "\n",
      "\n",
      "`distplot` is a deprecated function and will be removed in seaborn v0.14.0.\n",
      "\n",
      "Please adapt your code to use either `displot` (a figure-level function with\n",
      "similar flexibility) or `histplot` (an axes-level function for histograms).\n",
      "\n",
      "For a guide to updating your code to use the new functions, please see\n",
      "https://gist.github.com/mwaskom/de44147ed2974457ad6372750bbe5751\n",
      "\n",
      "\n",
      "/tmp/ipykernel_69351/3616248084.py:14: UserWarning:\n",
      "\n",
      "\n",
      "\n",
      "`distplot` is a deprecated function and will be removed in seaborn v0.14.0.\n",
      "\n",
      "Please adapt your code to use either `displot` (a figure-level function with\n",
      "similar flexibility) or `histplot` (an axes-level function for histograms).\n",
      "\n",
      "For a guide to updating your code to use the new functions, please see\n",
      "https://gist.github.com/mwaskom/de44147ed2974457ad6372750bbe5751\n",
      "\n",
      "\n"
     ]
    },
    {
     "data": {
      "text/plain": [
       "Text(0.5, 1.0, 'Male')"
      ]
     },
     "execution_count": 38,
     "metadata": {},
     "output_type": "execute_result"
    },
    {
     "data": {
      "image/png": "[encoded data removed]",
      "text/plain": [
       "<Figure size 1400x600 with 2 Axes>"
      ]
     },
     "metadata": {},
     "output_type": "display_data"
    }
   ],
   "source": [
    "fig, axes = plt.subplots(nrows=1, ncols=2, figsize=(14, 6))\n",
    "\n",
    "women = titanic[titanic['sex'] == 'female']\n",
    "men = titanic[titanic['sex'] == 'male']\n",
    "\n",
    "ax = sns.distplot(women[women['survived'] == 1]['age'], bins=20, \n",
    "                  label='survived', ax=axes[0], kde=False)\n",
    "ax = sns.distplot(women[women['survived'] == 0]['age'], bins=40, \n",
    "                  label='not_survived', ax=axes[0], kde=False)\n",
    "ax.legend(); ax.set_title('Female')\n",
    "\n",
    "ax = sns.distplot(men[men['survived'] == 1]['age'], bins=18, \n",
    "                  label='survived', ax=axes[1], kde=False)\n",
    "ax = sns.distplot(men[men['survived'] == 0]['age'], bins=40, \n",
    "                  label='not_survived', ax=axes[1], kde=False)\n",
    "ax.legend(); ax.set_title('Male')"
   ]
  },
  {
   "cell_type": "code",
   "execution_count": 39,
   "metadata": {},
   "outputs": [
    {
     "data": {
      "text/plain": [
       "Text(0.5, 1.0, 'Male')"
      ]
     },
     "execution_count": 39,
     "metadata": {},
     "output_type": "execute_result"
    },
    {
     "data": {
      "image/png": "[encoded data removed]",
      "text/plain": [
       "<Figure size 1400x600 with 2 Axes>"
      ]
     },
     "metadata": {},
     "output_type": "display_data"
    }
   ],
   "source": [
    "fig, axes = plt.subplots(nrows=1, ncols=2, figsize=(14, 6))\n",
    "\n",
    "women = titanic[titanic['sex'] == 'female']\n",
    "men = titanic[titanic['sex'] == 'male']\n",
    "\n",
    "ax = sns.histplot(women[women['survived'] == 1]['age'], bins=20, \n",
    "                  label='survived', ax=axes[0], kde=False)\n",
    "ax = sns.histplot(women[women['survived'] == 0]['age'], bins=40, \n",
    "                  label='not_survived', ax=axes[0], kde=False)\n",
    "ax.legend(); ax.set_title('Female')\n",
    "\n",
    "ax = sns.histplot(men[men['survived'] == 1]['age'], bins=18, \n",
    "                  label='survived', ax=axes[1], kde=False)\n",
    "ax = sns.histplot(men[men['survived'] == 0]['age'], bins=40, \n",
    "                  label='not_survived', ax=axes[1], kde=False)\n",
    "ax.legend(); ax.set_title('Male')"
   ]
  },
  {
   "cell_type": "code",
   "execution_count": 40,
   "metadata": {},
   "outputs": [
    {
     "name": "stdout",
     "output_type": "stream",
     "text": [
      "Allen, Miss. Elisabeth Walton\n",
      "Allison, Master. Hudson Trevor\n",
      "Allison, Miss. Helen Loraine\n",
      "Allison, Mr. Hudson Joshua Creighton\n",
      "Allison, Mrs. Hudson J C (Bessie Waldo Daniels)\n",
      "Anderson, Mr. Harry\n",
      "Andrews, Miss. Kornelia Theodosia\n",
      "Andrews, Mr. Thomas Jr\n",
      "Appleton, Mrs. Edward Dale (Charlotte Lamson)\n",
      "Artagaveytia, Mr. Ramon\n",
      "Astor, Col. John Jacob\n",
      "Astor, Mrs. John Jacob (Madeleine Talmadge Force)\n",
      "Aubart, Mme. Leontine Pauline\n",
      "Barber, Miss. Ellen \"Nellie\"\n",
      "Barkworth, Mr. Algernon Henry Wilson\n",
      "Baumann, Mr. John D\n",
      "Baxter, Mr. Quigg Edmond\n",
      "Baxter, Mrs. James (Helene DeLaudeniere Chaput)\n",
      "Bazzani, Miss. Albina\n",
      "Beattie, Mr. Thomson\n",
      "Beckwith, Mr. Richard Leonard\n",
      "Beckwith, Mrs. Richard Leonard (Sallie Monypeny)\n",
      "Behr, Mr. Karl Howell\n",
      "Bidois, Miss. Rosalie\n",
      "Bird, Miss. Ellen\n",
      "Birnbaum, Mr. Jakob\n",
      "Bishop, Mr. Dickinson H\n",
      "Bishop, Mrs. Dickinson H (Helen Walton)\n",
      "Bissette, Miss. Amelia\n",
      "Bjornstrom-Steffansson, Mr. Mauritz Hakan\n",
      "Blackwell, Mr. Stephen Weart\n",
      "Blank, Mr. Henry\n",
      "Bonnell, Miss. Caroline\n",
      "Bonnell, Miss. Elizabeth\n",
      "Borebank, Mr. John James\n",
      "Bowen, Miss. Grace Scott\n",
      "Bowerman, Miss. Elsie Edith\n",
      "Bradley, Mr. George (\"George Arthur Brayton\")\n",
      "Brady, Mr. John Bertram\n",
      "Brandeis, Mr. Emil\n",
      "Brewe, Dr. Arthur Jackson\n",
      "Brown, Mrs. James Joseph (Margaret Tobin)\n",
      "Brown, Mrs. John Murray (Caroline Lane Lamson)\n",
      "Bucknell, Mrs. William Robert (Emma Eliza Ward)\n",
      "Burns, Miss. Elizabeth Margaret\n",
      "Butt, Major. Archibald Willingham\n",
      "Cairns, Mr. Alexander\n",
      "Calderhead, Mr. Edward Pennington\n",
      "Candee, Mrs. Edward (Helen Churchill Hungerford)\n",
      "Cardeza, Mr. Thomas Drake Martinez\n",
      "Cardeza, Mrs. James Warburton Martinez (Charlotte Wardle Drake)\n",
      "Carlsson, Mr. Frans Olof\n",
      "Carrau, Mr. Francisco M\n",
      "Carrau, Mr. Jose Pedro\n",
      "Carter, Master. William Thornton II\n",
      "Carter, Miss. Lucile Polk\n",
      "Carter, Mr. William Ernest\n",
      "Carter, Mrs. William Ernest (Lucile Polk)\n",
      "Case, Mr. Howard Brown\n",
      "Cassebeer, Mrs. Henry Arthur Jr (Eleanor Genevieve Fosdick)\n",
      "Cavendish, Mr. Tyrell William\n",
      "Cavendish, Mrs. Tyrell William (Julia Florence Siegel)\n",
      "Chaffee, Mr. Herbert Fuller\n",
      "Chaffee, Mrs. Herbert Fuller (Carrie Constance Toogood)\n",
      "Chambers, Mr. Norman Campbell\n",
      "Chambers, Mrs. Norman Campbell (Bertha Griggs)\n",
      "Chaudanson, Miss. Victorine\n",
      "Cherry, Miss. Gladys\n",
      "Chevre, Mr. Paul Romaine\n",
      "Chibnall, Mrs. (Edith Martha Bowerman)\n",
      "Chisholm, Mr. Roderick Robert Crispin\n",
      "Clark, Mr. Walter Miller\n",
      "Clark, Mrs. Walter Miller (Virginia McDowell)\n",
      "Cleaver, Miss. Alice\n",
      "Clifford, Mr. George Quincy\n",
      "Colley, Mr. Edward Pomeroy\n",
      "Compton, Miss. Sara Rebecca\n",
      "Compton, Mr. Alexander Taylor Jr\n",
      "Compton, Mrs. Alexander Taylor (Mary Eliza Ingersoll)\n",
      "Cornell, Mrs. Robert Clifford (Malvina Helen Lamson)\n",
      "Crafton, Mr. John Bertram\n",
      "Crosby, Capt. Edward Gifford\n",
      "Crosby, Miss. Harriet R\n",
      "Crosby, Mrs. Edward Gifford (Catherine Elizabeth Halstead)\n",
      "Cumings, Mr. John Bradley\n",
      "Cumings, Mrs. John Bradley (Florence Briggs Thayer)\n",
      "Daly, Mr. Peter Denis \n",
      "Daniel, Mr. Robert Williams\n",
      "Daniels, Miss. Sarah\n",
      "Davidson, Mr. Thornton\n",
      "Davidson, Mrs. Thornton (Orian Hays)\n",
      "Dick, Mr. Albert Adrian\n",
      "Dick, Mrs. Albert Adrian (Vera Gillespie)\n",
      "Dodge, Dr. Washington\n",
      "Dodge, Master. Washington\n",
      "Dodge, Mrs. Washington (Ruth Vidaver)\n",
      "Douglas, Mr. Walter Donald\n",
      "Douglas, Mrs. Frederick Charles (Mary Helene Baxter)\n",
      "Douglas, Mrs. Walter Donald (Mahala Dutton)\n",
      "Duff Gordon, Lady. (Lucille Christiana Sutherland) (\"Mrs Morgan\")\n",
      "Duff Gordon, Sir. Cosmo Edmund (\"Mr Morgan\")\n",
      "Dulles, Mr. William Crothers\n",
      "Earnshaw, Mrs. Boulton (Olive Potter)\n",
      "Endres, Miss. Caroline Louise\n",
      "Eustis, Miss. Elizabeth Mussey\n",
      "Evans, Miss. Edith Corse\n",
      "Farthing, Mr. John\n",
      "Flegenheim, Mrs. Alfred (Antoinette)\n",
      "Fleming, Miss. Margaret\n",
      "Flynn, Mr. John Irwin (\"Irving\")\n",
      "Foreman, Mr. Benjamin Laventall\n",
      "Fortune, Miss. Alice Elizabeth\n",
      "Fortune, Miss. Ethel Flora\n",
      "Fortune, Miss. Mabel Helen\n",
      "Fortune, Mr. Charles Alexander\n",
      "Fortune, Mr. Mark\n",
      "Fortune, Mrs. Mark (Mary McDougald)\n",
      "Francatelli, Miss. Laura Mabel\n",
      "Franklin, Mr. Thomas Parham\n",
      "Frauenthal, Dr. Henry William\n",
      "Frauenthal, Mr. Isaac Gerald\n",
      "Frauenthal, Mrs. Henry William (Clara Heinsheimer)\n",
      "Frolicher, Miss. Hedwig Margaritha\n",
      "Frolicher-Stehli, Mr. Maxmillian\n",
      "Frolicher-Stehli, Mrs. Maxmillian (Margaretha Emerentia Stehli)\n",
      "Fry, Mr. Richard\n",
      "Futrelle, Mr. Jacques Heath\n",
      "Futrelle, Mrs. Jacques Heath (Lily May Peel)\n",
      "Gee, Mr. Arthur H\n",
      "Geiger, Miss. Amalie\n",
      "Gibson, Miss. Dorothy Winifred\n",
      "Gibson, Mrs. Leonard (Pauline C Boeson)\n",
      "Giglio, Mr. Victor\n",
      "Goldenberg, Mr. Samuel L\n",
      "Goldenberg, Mrs. Samuel L (Edwiga Grabowska)\n",
      "Goldschmidt, Mr. George B\n",
      "Gracie, Col. Archibald IV\n",
      "Graham, Miss. Margaret Edith\n",
      "Graham, Mr. George Edward\n",
      "Graham, Mrs. William Thompson (Edith Junkins)\n",
      "Greenfield, Mr. William Bertram\n",
      "Greenfield, Mrs. Leo David (Blanche Strouse)\n",
      "Guggenheim, Mr. Benjamin\n",
      "Harder, Mr. George Achilles\n",
      "Harder, Mrs. George Achilles (Dorothy Annan)\n",
      "Harper, Mr. Henry Sleeper\n",
      "Harper, Mrs. Henry Sleeper (Myna Haxtun)\n",
      "Harrington, Mr. Charles H\n",
      "Harris, Mr. Henry Birkhardt\n",
      "Harris, Mrs. Henry Birkhardt (Irene Wallach)\n",
      "Harrison, Mr. William\n",
      "Hassab, Mr. Hammad\n",
      "Hawksford, Mr. Walter James\n",
      "Hays, Miss. Margaret Bechstein\n",
      "Hays, Mr. Charles Melville\n",
      "Hays, Mrs. Charles Melville (Clara Jennings Gregg)\n",
      "Head, Mr. Christopher\n",
      "Hilliard, Mr. Herbert Henry\n",
      "Hipkins, Mr. William Edward\n",
      "Hippach, Miss. Jean Gertrude\n",
      "Hippach, Mrs. Louis Albert (Ida Sophia Fischer)\n",
      "Hogeboom, Mrs. John C (Anna Andrews)\n",
      "Holverson, Mr. Alexander Oskar\n",
      "Holverson, Mrs. Alexander Oskar (Mary Aline Towner)\n",
      "Homer, Mr. Harry (\"Mr E Haven\")\n",
      "Hoyt, Mr. Frederick Maxfield\n",
      "Hoyt, Mr. William Fisher\n",
      "Hoyt, Mrs. Frederick Maxfield (Jane Anne Forby)\n",
      "Icard, Miss. Amelie\n",
      "Isham, Miss. Ann Elizabeth\n",
      "Ismay, Mr. Joseph Bruce\n",
      "Jones, Mr. Charles Cresson\n",
      "Julian, Mr. Henry Forbes\n",
      "Keeping, Mr. Edwin\n",
      "Kent, Mr. Edward Austin\n",
      "Kenyon, Mr. Frederick R\n",
      "Kenyon, Mrs. Frederick R (Marion)\n",
      "Kimball, Mr. Edwin Nelson Jr\n",
      "Kimball, Mrs. Edwin Nelson Jr (Gertrude Parsons)\n",
      "Klaber, Mr. Herman\n",
      "Kreuchen, Miss. Emilie\n",
      "Leader, Dr. Alice (Farnham)\n",
      "LeRoy, Miss. Bertha\n",
      "Lesurer, Mr. Gustave J\n",
      "Lewy, Mr. Ervin G\n",
      "Lindeberg-Lind, Mr. Erik Gustaf (\"Mr Edward Lingrey\")\n",
      "Lindstrom, Mrs. Carl Johan (Sigrid Posse)\n",
      "Lines, Miss. Mary Conover\n",
      "Lines, Mrs. Ernest H (Elizabeth Lindsey James)\n",
      "Long, Mr. Milton Clyde\n",
      "Longley, Miss. Gretchen Fiske\n",
      "Loring, Mr. Joseph Holland\n",
      "Lurette, Miss. Elise\n",
      "Madill, Miss. Georgette Alexandra\n",
      "Maguire, Mr. John Edward\n",
      "Maioni, Miss. Roberta\n",
      "Marechal, Mr. Pierre\n",
      "Marvin, Mr. Daniel Warner\n",
      "Marvin, Mrs. Daniel Warner (Mary Graham Carmichael Farquarson)\n",
      "Mayne, Mlle. Berthe Antonine (\"Mrs de Villiers\")\n",
      "McCaffry, Mr. Thomas Francis\n",
      "McCarthy, Mr. Timothy J\n",
      "McGough, Mr. James Robert\n",
      "Meyer, Mr. Edgar Joseph\n",
      "Meyer, Mrs. Edgar Joseph (Leila Saks)\n",
      "Millet, Mr. Francis Davis\n",
      "Minahan, Dr. William Edward\n",
      "Minahan, Miss. Daisy E\n",
      "Minahan, Mrs. William Edward (Lillian E Thorpe)\n",
      "Mock, Mr. Philipp Edmund\n",
      "Molson, Mr. Harry Markland\n",
      "Moore, Mr. Clarence Bloomfield\n",
      "Natsch, Mr. Charles H\n",
      "Newell, Miss. Madeleine\n",
      "Newell, Miss. Marjorie\n",
      "Newell, Mr. Arthur Webster\n",
      "Newsom, Miss. Helen Monypeny\n",
      "Nicholson, Mr. Arthur Ernest\n",
      "Oliva y Ocana, Dona. Fermina\n",
      "Omont, Mr. Alfred Fernand\n",
      "Ostby, Miss. Helene Ragnhild\n",
      "Ostby, Mr. Engelhart Cornelius\n",
      "Ovies y Rodriguez, Mr. Servando\n",
      "Parr, Mr. William Henry Marsh\n",
      "Partner, Mr. Austen\n",
      "Payne, Mr. Vivian Ponsonby\n",
      "Pears, Mr. Thomas Clinton\n",
      "Pears, Mrs. Thomas (Edith Wearne)\n",
      "Penasco y Castellana, Mr. Victor de Satode\n",
      "Penasco y Castellana, Mrs. Victor de Satode (Maria Josefa Perez de Soto y Vallejo)\n",
      "Perreault, Miss. Anne\n",
      "Peuchen, Major. Arthur Godfrey\n",
      "Porter, Mr. Walter Chamberlain\n",
      "Potter, Mrs. Thomas Jr (Lily Alexenia Wilson)\n",
      "Reuchlin, Jonkheer. John George\n",
      "Rheims, Mr. George Alexander Lucien\n",
      "Ringhini, Mr. Sante\n",
      "Robbins, Mr. Victor\n",
      "Robert, Mrs. Edward Scott (Elisabeth Walton McMillan)\n",
      "Roebling, Mr. Washington Augustus II\n",
      "Romaine, Mr. Charles Hallace (\"Mr C Rolmane\")\n",
      "Rood, Mr. Hugh Roscoe\n",
      "Rosenbaum, Miss. Edith Louise\n",
      "Rosenshine, Mr. George (\"Mr George Thorne\")\n",
      "Ross, Mr. John Hugo\n",
      "Rothes, the Countess. of (Lucy Noel Martha Dyer-Edwards)\n",
      "Rothschild, Mr. Martin\n",
      "Rothschild, Mrs. Martin (Elizabeth L. Barrett)\n",
      "Rowe, Mr. Alfred G\n",
      "Ryerson, Master. John Borie\n",
      "Ryerson, Miss. Emily Borie\n",
      "Ryerson, Miss. Susan Parker \"Suzette\"\n",
      "Ryerson, Mr. Arthur Larned\n",
      "Ryerson, Mrs. Arthur Larned (Emily Maria Borie)\n",
      "Saalfeld, Mr. Adolphe\n",
      "Sagesser, Mlle. Emma\n",
      "Salomon, Mr. Abraham L\n",
      "Schabert, Mrs. Paul (Emma Mock)\n",
      "Serepeca, Miss. Augusta\n",
      "Seward, Mr. Frederic Kimber\n",
      "Shutes, Miss. Elizabeth W\n",
      "Silverthorne, Mr. Spencer Victor\n",
      "Silvey, Mr. William Baird\n",
      "Silvey, Mrs. William Baird (Alice Munger)\n",
      "Simonius-Blumer, Col. Oberst Alfons\n",
      "Sloper, Mr. William Thompson\n",
      "Smart, Mr. John Montgomery\n",
      "Smith, Mr. James Clinch\n",
      "Smith, Mr. Lucien Philip\n",
      "Smith, Mr. Richard William\n",
      "Smith, Mrs. Lucien Philip (Mary Eloise Hughes)\n",
      "Snyder, Mr. John Pillsbury\n",
      "Snyder, Mrs. John Pillsbury (Nelle Stevenson)\n",
      "Spedden, Master. Robert Douglas\n",
      "Spedden, Mr. Frederic Oakley\n",
      "Spedden, Mrs. Frederic Oakley (Margaretta Corning Stone)\n",
      "Spencer, Mr. William Augustus\n",
      "Spencer, Mrs. William Augustus (Marie Eugenie)\n",
      "Stahelin-Maeglin, Dr. Max\n",
      "Stead, Mr. William Thomas\n",
      "Stengel, Mr. Charles Emil Henry\n",
      "Stengel, Mrs. Charles Emil Henry (Annie May Morris)\n",
      "Stephenson, Mrs. Walter Bertram (Martha Eustis)\n",
      "Stewart, Mr. Albert A\n",
      "Stone, Mrs. George Nelson (Martha Evelyn)\n",
      "Straus, Mr. Isidor\n",
      "Straus, Mrs. Isidor (Rosalie Ida Blun)\n",
      "Sutton, Mr. Frederick\n",
      "Swift, Mrs. Frederick Joel (Margaret Welles Barron)\n",
      "Taussig, Miss. Ruth\n",
      "Taussig, Mr. Emil\n",
      "Taussig, Mrs. Emil (Tillie Mandelbaum)\n",
      "Taylor, Mr. Elmer Zebley\n",
      "Taylor, Mrs. Elmer Zebley (Juliet Cummins Wright)\n",
      "Thayer, Mr. John Borland\n",
      "Thayer, Mr. John Borland Jr\n",
      "Thayer, Mrs. John Borland (Marian Longstreth Morris)\n",
      "Thorne, Mrs. Gertrude Maybelle\n",
      "Tucker, Mr. Gilbert Milligan Jr\n",
      "Uruchurtu, Don. Manuel E\n",
      "Van der hoef, Mr. Wyckoff\n",
      "Walker, Mr. William Anderson\n",
      "Ward, Miss. Anna\n",
      "Warren, Mr. Frank Manley\n",
      "Warren, Mrs. Frank Manley (Anna Sophia Atkinson)\n",
      "Weir, Col. John\n",
      "White, Mr. Percival Wayland\n",
      "White, Mr. Richard Frasar\n",
      "White, Mrs. John Stuart (Ella Holmes)\n",
      "Wick, Miss. Mary Natalie\n",
      "Wick, Mr. George Dennick\n",
      "Wick, Mrs. George Dennick (Mary Hitchcock)\n",
      "Widener, Mr. George Dunton\n",
      "Widener, Mr. Harry Elkins\n",
      "Widener, Mrs. George Dunton (Eleanor Elkins)\n",
      "Willard, Miss. Constance\n",
      "Williams, Mr. Charles Duane\n",
      "Williams, Mr. Richard Norris II\n",
      "Williams-Lambert, Mr. Fletcher Fellows\n",
      "Wilson, Miss. Helen Alice\n",
      "Woolner, Mr. Hugh\n",
      "Wright, Mr. George\n",
      "Young, Miss. Marie Grice\n",
      "Abelson, Mr. Samuel\n",
      "Abelson, Mrs. Samuel (Hannah Wizosky)\n",
      "Aldworth, Mr. Charles Augustus\n",
      "Andrew, Mr. Edgardo Samuel\n",
      "Andrew, Mr. Frank Thomas\n",
      "Angle, Mr. William A\n",
      "Angle, Mrs. William A (Florence \"Mary\" Agnes Hughes)\n",
      "Ashby, Mr. John\n",
      "Bailey, Mr. Percy Andrew\n",
      "Baimbrigge, Mr. Charles Robert\n",
      "Ball, Mrs. (Ada E Hall)\n",
      "Banfield, Mr. Frederick James\n",
      "Bateman, Rev. Robert James\n",
      "Beane, Mr. Edward\n",
      "Beane, Mrs. Edward (Ethel Clarke)\n",
      "Beauchamp, Mr. Henry James\n",
      "Becker, Master. Richard F\n",
      "Becker, Miss. Marion Louise\n",
      "Becker, Miss. Ruth Elizabeth\n",
      "Becker, Mrs. Allen Oliver (Nellie E Baumgardner)\n",
      "Beesley, Mr. Lawrence\n",
      "Bentham, Miss. Lilian W\n",
      "Berriman, Mr. William John\n",
      "Botsford, Mr. William Hull\n",
      "Bowenur, Mr. Solomon\n",
      "Bracken, Mr. James H\n",
      "Brown, Miss. Amelia \"Mildred\"\n",
      "Brown, Miss. Edith Eileen\n",
      "Brown, Mr. Thomas William Solomon\n",
      "Brown, Mrs. Thomas William Solomon (Elizabeth Catherine Ford)\n",
      "Bryhl, Miss. Dagmar Jenny Ingeborg \n",
      "Bryhl, Mr. Kurt Arnold Gottfrid\n",
      "Buss, Miss. Kate\n",
      "Butler, Mr. Reginald Fenton\n",
      "Byles, Rev. Thomas Roussel Davids\n",
      "Bystrom, Mrs. (Karolina)\n",
      "Caldwell, Master. Alden Gates\n",
      "Caldwell, Mr. Albert Francis\n",
      "Caldwell, Mrs. Albert Francis (Sylvia Mae Harbaugh)\n",
      "Cameron, Miss. Clear Annie\n",
      "Campbell, Mr. William\n",
      "Carbines, Mr. William\n",
      "Carter, Mrs. Ernest Courtenay (Lilian Hughes)\n",
      "Carter, Rev. Ernest Courtenay\n",
      "Chapman, Mr. Charles Henry\n",
      "Chapman, Mr. John Henry\n",
      "Chapman, Mrs. John Henry (Sara Elizabeth Lawry)\n",
      "Christy, Miss. Julie Rachel\n",
      "Christy, Mrs. (Alice Frances)\n",
      "Clarke, Mr. Charles Valentine\n",
      "Clarke, Mrs. Charles V (Ada Maria Winfield)\n",
      "Coleridge, Mr. Reginald Charles\n",
      "Collander, Mr. Erik Gustaf\n",
      "Collett, Mr. Sidney C Stuart\n",
      "Collyer, Miss. Marjorie \"Lottie\"\n",
      "Collyer, Mr. Harvey\n",
      "Collyer, Mrs. Harvey (Charlotte Annie Tate)\n",
      "Cook, Mrs. (Selena Rogers)\n",
      "Corbett, Mrs. Walter H (Irene Colvin)\n",
      "Corey, Mrs. Percy C (Mary Phyllis Elizabeth Miller)\n",
      "Cotterill, Mr. Henry \"Harry\"\n",
      "Cunningham, Mr. Alfred Fleming\n",
      "Davies, Master. John Morgan Jr\n",
      "Davies, Mr. Charles Henry\n",
      "Davies, Mrs. John Morgan (Elizabeth Agnes Mary White) \n",
      "Davis, Miss. Mary\n",
      "de Brito, Mr. Jose Joaquim\n",
      "Deacon, Mr. Percy William\n",
      "del Carlo, Mr. Sebastiano\n",
      "del Carlo, Mrs. Sebastiano (Argenia Genovesi)\n",
      "Denbury, Mr. Herbert\n",
      "Dibden, Mr. William\n",
      "Doling, Miss. Elsie\n",
      "Doling, Mrs. John T (Ada Julia Bone)\n",
      "Downton, Mr. William James\n",
      "Drew, Master. Marshall Brines\n",
      "Drew, Mr. James Vivian\n",
      "Drew, Mrs. James Vivian (Lulu Thorne Christian)\n",
      "Duran y More, Miss. Asuncion\n",
      "Duran y More, Miss. Florentina\n",
      "Eitemiller, Mr. George Floyd\n",
      "Enander, Mr. Ingvar\n",
      "Fahlstrom, Mr. Arne Jonas\n",
      "Faunthorpe, Mr. Harry\n",
      "Faunthorpe, Mrs. Lizzie (Elizabeth Anne Wilkinson)\n",
      "Fillbrook, Mr. Joseph Charles\n",
      "Fox, Mr. Stanley Hubert\n",
      "Frost, Mr. Anthony Wood \"Archie\"\n",
      "Funk, Miss. Annie Clemmer\n",
      "Fynney, Mr. Joseph J\n",
      "Gale, Mr. Harry\n",
      "Gale, Mr. Shadrach\n",
      "Garside, Miss. Ethel\n",
      "Gaskell, Mr. Alfred\n",
      "Gavey, Mr. Lawrence\n",
      "Gilbert, Mr. William\n",
      "Giles, Mr. Edgar\n",
      "Giles, Mr. Frederick Edward\n",
      "Giles, Mr. Ralph\n",
      "Gill, Mr. John William\n",
      "Gillespie, Mr. William Henry\n",
      "Givard, Mr. Hans Kristensen\n",
      "Greenberg, Mr. Samuel\n",
      "Hale, Mr. Reginald\n",
      "Hamalainen, Master. Viljo\n",
      "Hamalainen, Mrs. William (Anna)\n",
      "Harbeck, Mr. William H\n",
      "Harper, Miss. Annie Jessie \"Nina\"\n",
      "Harper, Rev. John\n",
      "Harris, Mr. George\n",
      "Harris, Mr. Walter\n",
      "Hart, Miss. Eva Miriam\n",
      "Hart, Mr. Benjamin\n",
      "Hart, Mrs. Benjamin (Esther Ada Bloomfield)\n",
      "Herman, Miss. Alice\n",
      "Herman, Miss. Kate\n",
      "Herman, Mr. Samuel\n",
      "Herman, Mrs. Samuel (Jane Laver)\n",
      "Hewlett, Mrs. (Mary D Kingcome) \n",
      "Hickman, Mr. Leonard Mark\n",
      "Hickman, Mr. Lewis\n",
      "Hickman, Mr. Stanley George\n",
      "Hiltunen, Miss. Marta\n",
      "Hocking, Miss. Ellen \"Nellie\"\n",
      "Hocking, Mr. Richard George\n",
      "Hocking, Mr. Samuel James Metcalfe\n",
      "Hocking, Mrs. Elizabeth (Eliza Needs)\n",
      "Hodges, Mr. Henry Price\n",
      "Hold, Mr. Stephen\n",
      "Hold, Mrs. Stephen (Annie Margaret Hill)\n",
      "Hood, Mr. Ambrose Jr\n",
      "Hosono, Mr. Masabumi\n",
      "Howard, Mr. Benjamin\n",
      "Howard, Mrs. Benjamin (Ellen Truelove Arman)\n",
      "Hunt, Mr. George Henry\n",
      "Ilett, Miss. Bertha\n",
      "Jacobsohn, Mr. Sidney Samuel\n",
      "Jacobsohn, Mrs. Sidney Samuel (Amy Frances Christy)\n",
      "Jarvis, Mr. John Denzil\n",
      "Jefferys, Mr. Clifford Thomas\n",
      "Jefferys, Mr. Ernest Wilfred\n",
      "Jenkin, Mr. Stephen Curnow\n",
      "Jerwan, Mrs. Amin S (Marie Marthe Thuillard)\n",
      "Kantor, Mr. Sinai\n",
      "Kantor, Mrs. Sinai (Miriam Sternin)\n",
      "Karnes, Mrs. J Frank (Claire Bennett)\n",
      "Keane, Miss. Nora A\n",
      "Keane, Mr. Daniel\n",
      "Kelly, Mrs. Florence \"Fannie\"\n",
      "Kirkland, Rev. Charles Leonard\n",
      "Knight, Mr. Robert J\n",
      "Kvillner, Mr. Johan Henrik Johannesson\n",
      "Lahtinen, Mrs. William (Anna Sylfven)\n",
      "Lahtinen, Rev. William\n",
      "Lamb, Mr. John Joseph\n",
      "Laroche, Miss. Louise\n",
      "Laroche, Miss. Simonne Marie Anne Andree\n",
      "Laroche, Mr. Joseph Philippe Lemercier\n",
      "Laroche, Mrs. Joseph (Juliette Marie Louise Lafargue)\n",
      "Lehmann, Miss. Bertha\n",
      "Leitch, Miss. Jessie Wills\n",
      "Lemore, Mrs. (Amelia Milley)\n",
      "Levy, Mr. Rene Jacques\n",
      "Leyson, Mr. Robert William Norman\n",
      "Lingane, Mr. John\n",
      "Louch, Mr. Charles Alexander\n",
      "Louch, Mrs. Charles Alexander (Alice Adelaide Slow)\n",
      "Mack, Mrs. (Mary)\n",
      "Malachard, Mr. Noel\n",
      "Mallet, Master. Andre\n",
      "Mallet, Mr. Albert\n",
      "Mallet, Mrs. Albert (Antoinette Magnin)\n",
      "Mangiavacchi, Mr. Serafino Emilio\n",
      "Matthews, Mr. William John\n",
      "Maybery, Mr. Frank Hubert\n",
      "McCrae, Mr. Arthur Gordon\n",
      "McCrie, Mr. James Matthew\n",
      "McKane, Mr. Peter David\n",
      "Mellinger, Miss. Madeleine Violet\n",
      "Mellinger, Mrs. (Elizabeth Anne Maidment)\n",
      "Mellors, Mr. William John\n",
      "Meyer, Mr. August\n",
      "Milling, Mr. Jacob Christian\n",
      "Mitchell, Mr. Henry Michael\n",
      "Montvila, Rev. Juozas\n",
      "Moraweck, Dr. Ernest\n",
      "Morley, Mr. Henry Samuel (\"Mr Henry Marshall\")\n",
      "Mudd, Mr. Thomas Charles\n",
      "Myles, Mr. Thomas Francis\n",
      "Nasser, Mr. Nicholas\n",
      "Nasser, Mrs. Nicholas (Adele Achem)\n",
      "Navratil, Master. Edmond Roger\n",
      "Navratil, Master. Michel M\n",
      "Navratil, Mr. Michel (\"Louis M Hoffman\")\n",
      "Nesson, Mr. Israel\n",
      "Nicholls, Mr. Joseph Charles\n",
      "Norman, Mr. Robert Douglas\n",
      "Nourney, Mr. Alfred (\"Baron von Drachstedt\")\n",
      "Nye, Mrs. (Elizabeth Ramell)\n",
      "Otter, Mr. Richard\n",
      "Oxenham, Mr. Percy Thomas\n",
      "Padro y Manent, Mr. Julian\n",
      "Pain, Dr. Alfred\n",
      "Pallas y Castello, Mr. Emilio\n",
      "Parker, Mr. Clifford Richard\n",
      "Parkes, Mr. Francis \"Frank\"\n",
      "Parrish, Mrs. (Lutie Davis)\n",
      "Pengelly, Mr. Frederick William\n",
      "Pernot, Mr. Rene\n",
      "Peruschitz, Rev. Joseph Maria\n",
      "Phillips, Miss. Alice Frances Louisa\n",
      "Phillips, Miss. Kate Florence (\"Mrs Kate Louise Phillips Marshall\")\n",
      "Phillips, Mr. Escott Robert\n",
      "Pinsky, Mrs. (Rosa)\n",
      "Ponesell, Mr. Martin\n",
      "Portaluppi, Mr. Emilio Ilario Giuseppe\n",
      "Pulbaum, Mr. Franz\n",
      "Quick, Miss. Phyllis May\n",
      "Quick, Miss. Winifred Vera\n",
      "Quick, Mrs. Frederick Charles (Jane Richards)\n",
      "Reeves, Mr. David\n",
      "Renouf, Mr. Peter Henry\n",
      "Renouf, Mrs. Peter Henry (Lillian Jefferys)\n",
      "Reynaldo, Ms. Encarnacion\n",
      "Richard, Mr. Emile\n",
      "Richards, Master. George Sibley\n",
      "Richards, Master. William Rowe\n",
      "Richards, Mrs. Sidney (Emily Hocking)\n",
      "Ridsdale, Miss. Lucy\n",
      "Rogers, Mr. Reginald Harry\n",
      "Rugg, Miss. Emily\n",
      "Schmidt, Mr. August\n",
      "Sedgwick, Mr. Charles Frederick Waddington\n",
      "Sharp, Mr. Percival James R\n",
      "Shelley, Mrs. William (Imanita Parrish Hall)\n",
      "Silven, Miss. Lyyli Karoliina\n",
      "Sincock, Miss. Maude\n",
      "Sinkkonen, Miss. Anna\n",
      "Sjostedt, Mr. Ernst Adolf\n",
      "Slayter, Miss. Hilda Mary\n",
      "Slemen, Mr. Richard James\n",
      "Smith, Miss. Marion Elsie\n",
      "Sobey, Mr. Samuel James Hayden\n",
      "Stanton, Mr. Samuel Ward\n",
      "Stokes, Mr. Philip Joseph\n",
      "Swane, Mr. George\n",
      "Sweet, Mr. George Frederick\n",
      "Toomey, Miss. Ellen\n",
      "Troupiansky, Mr. Moses Aaron\n",
      "Trout, Mrs. William H (Jessie L)\n",
      "Troutt, Miss. Edwina Celia \"Winnie\"\n",
      "Turpin, Mr. William John Robert\n",
      "Turpin, Mrs. William John Robert (Dorothy Ann Wonnacott)\n",
      "Veal, Mr. James\n",
      "Walcroft, Miss. Nellie\n",
      "Ware, Mr. John James\n",
      "Ware, Mr. William Jeffery\n",
      "Ware, Mrs. John James (Florence Louise Long)\n",
      "Watson, Mr. Ennis Hastings\n",
      "Watt, Miss. Bertha J\n",
      "Watt, Mrs. James (Elizabeth \"Bessie\" Inglis Milne)\n",
      "Webber, Miss. Susan\n",
      "Weisz, Mr. Leopold\n",
      "Weisz, Mrs. Leopold (Mathilde Francoise Pede)\n",
      "Wells, Master. Ralph Lester\n",
      "Wells, Miss. Joan\n",
      "Wells, Mrs. Arthur Henry (\"Addie\" Dart Trevaskis)\n",
      "West, Miss. Barbara J\n",
      "West, Miss. Constance Mirium\n",
      "West, Mr. Edwy Arthur\n",
      "West, Mrs. Edwy Arthur (Ada Mary Worth)\n",
      "Wheadon, Mr. Edward H\n",
      "Wheeler, Mr. Edwin \"Frederick\"\n",
      "Wilhelms, Mr. Charles\n",
      "Williams, Mr. Charles Eugene\n",
      "Wright, Miss. Marion\n",
      "Yrois, Miss. Henriette (\"Mrs Harbeck\")\n",
      "Abbing, Mr. Anthony\n",
      "Abbott, Master. Eugene Joseph\n",
      "Abbott, Mr. Rossmore Edward\n",
      "Abbott, Mrs. Stanton (Rosa Hunt)\n",
      "Abelseth, Miss. Karen Marie\n",
      "Abelseth, Mr. Olaus Jorgensen\n",
      "Abrahamsson, Mr. Abraham August Johannes\n",
      "Abrahim, Mrs. Joseph (Sophie Halaut Easu)\n",
      "Adahl, Mr. Mauritz Nils Martin\n",
      "Adams, Mr. John\n",
      "Ahlin, Mrs. Johan (Johanna Persdotter Larsson)\n",
      "Aks, Master. Philip Frank\n",
      "Aks, Mrs. Sam (Leah Rosen)\n",
      "Albimona, Mr. Nassef Cassem\n",
      "Alexander, Mr. William\n",
      "Alhomaki, Mr. Ilmari Rudolf\n",
      "Ali, Mr. Ahmed\n",
      "Ali, Mr. William\n",
      "Allen, Mr. William Henry\n",
      "Allum, Mr. Owen George\n",
      "Andersen, Mr. Albert Karvin\n",
      "Andersen-Jensen, Miss. Carla Christine Nielsine\n",
      "Andersson, Master. Sigvard Harald Elias\n",
      "Andersson, Miss. Ebba Iris Alfrida\n",
      "Andersson, Miss. Ellis Anna Maria\n",
      "Andersson, Miss. Erna Alexandra\n",
      "Andersson, Miss. Ida Augusta Margareta\n",
      "Andersson, Miss. Ingeborg Constanzia\n",
      "Andersson, Miss. Sigrid Elisabeth\n",
      "Andersson, Mr. Anders Johan\n",
      "Andersson, Mr. August Edvard (\"Wennerstrom\")\n",
      "Andersson, Mr. Johan Samuel\n",
      "Andersson, Mrs. Anders Johan (Alfrida Konstantia Brogren)\n",
      "Andreasson, Mr. Paul Edvin\n",
      "Angheloff, Mr. Minko\n",
      "Arnold-Franchi, Mr. Josef\n",
      "Arnold-Franchi, Mrs. Josef (Josefine Franchi)\n",
      "Aronsson, Mr. Ernst Axel Algot\n",
      "Asim, Mr. Adola\n",
      "Asplund, Master. Carl Edgar\n",
      "Asplund, Master. Clarence Gustaf Hugo\n",
      "Asplund, Master. Edvin Rojj Felix\n",
      "Asplund, Master. Filip Oscar\n",
      "Asplund, Miss. Lillian Gertrud\n",
      "Asplund, Mr. Carl Oscar Vilhelm Gustafsson\n",
      "Asplund, Mr. Johan Charles\n",
      "Asplund, Mrs. Carl Oscar (Selma Augusta Emilia Johansson)\n",
      "Assaf Khalil, Mrs. Mariana (\"Miriam\")\n",
      "Assaf, Mr. Gerios\n",
      "Assam, Mr. Ali\n",
      "Attalah, Miss. Malake\n",
      "Attalah, Mr. Sleiman\n",
      "Augustsson, Mr. Albert\n",
      "Ayoub, Miss. Banoura\n",
      "Baccos, Mr. Raffull\n",
      "Backstrom, Mr. Karl Alfred\n",
      "Backstrom, Mrs. Karl Alfred (Maria Mathilda Gustafsson)\n",
      "Baclini, Miss. Eugenie\n",
      "Baclini, Miss. Helene Barbara\n",
      "Baclini, Miss. Marie Catherine\n",
      "Baclini, Mrs. Solomon (Latifa Qurban)\n",
      "Badman, Miss. Emily Louisa\n",
      "Badt, Mr. Mohamed\n",
      "Balkic, Mr. Cerin\n",
      "Barah, Mr. Hanna Assi\n",
      "Barbara, Miss. Saiide\n",
      "Barbara, Mrs. (Catherine David)\n",
      "Barry, Miss. Julia\n",
      "Barton, Mr. David John\n",
      "Beavan, Mr. William Thomas\n",
      "Bengtsson, Mr. John Viktor\n",
      "Berglund, Mr. Karl Ivar Sven\n",
      "Betros, Master. Seman\n",
      "Betros, Mr. Tannous\n",
      "Bing, Mr. Lee\n",
      "Birkeland, Mr. Hans Martin Monsen\n",
      "Bjorklund, Mr. Ernst Herbert\n",
      "Bostandyeff, Mr. Guentcho\n",
      "Boulos, Master. Akar\n",
      "Boulos, Miss. Nourelain\n",
      "Boulos, Mr. Hanna\n",
      "Boulos, Mrs. Joseph (Sultana)\n",
      "Bourke, Miss. Mary\n",
      "Bourke, Mr. John\n",
      "Bourke, Mrs. John (Catherine)\n",
      "Bowen, Mr. David John \"Dai\"\n",
      "Bradley, Miss. Bridget Delia\n",
      "Braf, Miss. Elin Ester Maria\n",
      "Braund, Mr. Lewis Richard\n",
      "Braund, Mr. Owen Harris\n",
      "Brobeck, Mr. Karl Rudolf\n",
      "Brocklebank, Mr. William Alfred\n",
      "Buckley, Miss. Katherine\n",
      "Buckley, Mr. Daniel\n",
      "Burke, Mr. Jeremiah\n",
      "Burns, Miss. Mary Delia\n",
      "Cacic, Miss. Manda\n",
      "Cacic, Miss. Marija\n",
      "Cacic, Mr. Jego Grga\n",
      "Cacic, Mr. Luka\n",
      "Calic, Mr. Jovo\n",
      "Calic, Mr. Petar\n",
      "Canavan, Miss. Mary\n",
      "Canavan, Mr. Patrick\n",
      "Cann, Mr. Ernest Charles\n",
      "Caram, Mr. Joseph\n",
      "Caram, Mrs. Joseph (Maria Elias)\n",
      "Carlsson, Mr. August Sigfrid\n",
      "Carlsson, Mr. Carl Robert\n",
      "Carr, Miss. Helen \"Ellen\"\n",
      "Carr, Miss. Jeannie\n",
      "Carver, Mr. Alfred John\n",
      "Celotti, Mr. Francesco\n",
      "Charters, Mr. David\n",
      "Chip, Mr. Chang\n",
      "Christmann, Mr. Emil\n",
      "Chronopoulos, Mr. Apostolos\n",
      "Chronopoulos, Mr. Demetrios\n",
      "Coelho, Mr. Domingos Fernandeo\n",
      "Cohen, Mr. Gurshon \"Gus\"\n",
      "Colbert, Mr. Patrick\n",
      "Coleff, Mr. Peju\n",
      "Coleff, Mr. Satio\n",
      "Conlon, Mr. Thomas Henry\n",
      "Connaghton, Mr. Michael\n",
      "Connolly, Miss. Kate\n",
      "Connolly, Miss. Kate\n",
      "Connors, Mr. Patrick\n",
      "Cook, Mr. Jacob\n",
      "Cor, Mr. Bartol\n",
      "Cor, Mr. Ivan\n",
      "Cor, Mr. Liudevit\n",
      "Corn, Mr. Harry\n",
      "Coutts, Master. Eden Leslie \"Neville\"\n",
      "Coutts, Master. William Loch \"William\"\n",
      "Coutts, Mrs. William (Winnie \"Minnie\" Treanor)\n",
      "Coxon, Mr. Daniel\n",
      "Crease, Mr. Ernest James\n",
      "Cribb, Miss. Laura Alice\n",
      "Cribb, Mr. John Hatfield\n",
      "Culumovic, Mr. Jeso\n",
      "Daher, Mr. Shedid\n",
      "Dahl, Mr. Karl Edwart\n",
      "Dahlberg, Miss. Gerda Ulrika\n",
      "Dakic, Mr. Branko\n",
      "Daly, Miss. Margaret Marcella \"Maggie\"\n",
      "Daly, Mr. Eugene Patrick\n",
      "Danbom, Master. Gilbert Sigvard Emanuel\n",
      "Danbom, Mr. Ernst Gilbert\n",
      "Danbom, Mrs. Ernst Gilbert (Anna Sigrid Maria Brogren)\n",
      "Danoff, Mr. Yoto\n",
      "Dantcheff, Mr. Ristiu\n",
      "Davies, Mr. Alfred J\n",
      "Davies, Mr. Evan\n",
      "Davies, Mr. John Samuel\n",
      "Davies, Mr. Joseph\n",
      "Davison, Mr. Thomas Henry\n",
      "Davison, Mrs. Thomas Henry (Mary E Finck)\n",
      "de Messemaeker, Mr. Guillaume Joseph\n",
      "de Messemaeker, Mrs. Guillaume Joseph (Emma)\n",
      "de Mulder, Mr. Theodore\n",
      "de Pelsmaeker, Mr. Alfons\n",
      "Dean, Master. Bertram Vere\n",
      "Dean, Miss. Elizabeth Gladys \"Millvina\"\n",
      "Dean, Mr. Bertram Frank\n",
      "Dean, Mrs. Bertram (Eva Georgetta Light)\n",
      "Delalic, Mr. Redjo\n",
      "Demetri, Mr. Marinko\n",
      "Denkoff, Mr. Mitto\n",
      "Dennis, Mr. Samuel\n",
      "Dennis, Mr. William\n",
      "Devaney, Miss. Margaret Delia\n",
      "Dika, Mr. Mirko\n",
      "Dimic, Mr. Jovan\n",
      "Dintcheff, Mr. Valtcho\n",
      "Doharr, Mr. Tannous\n",
      "Dooley, Mr. Patrick\n",
      "Dorking, Mr. Edward Arthur\n",
      "Dowdell, Miss. Elizabeth\n",
      "Doyle, Miss. Elizabeth\n",
      "Drapkin, Miss. Jennie\n",
      "Drazenoic, Mr. Jozef\n",
      "Duane, Mr. Frank\n",
      "Duquemin, Mr. Joseph\n",
      "Dyker, Mr. Adolf Fredrik\n",
      "Dyker, Mrs. Adolf Fredrik (Anna Elisabeth Judith Andersson)\n",
      "Edvardsson, Mr. Gustaf Hjalmar\n",
      "Eklund, Mr. Hans Linus\n",
      "Ekstrom, Mr. Johan\n",
      "Elias, Mr. Dibo\n",
      "Elias, Mr. Joseph\n",
      "Elias, Mr. Joseph Jr\n",
      "Elias, Mr. Tannous\n",
      "Elsbury, Mr. William James\n",
      "Emanuel, Miss. Virginia Ethel\n",
      "Emir, Mr. Farred Chehab\n",
      "Everett, Mr. Thomas James\n",
      "Farrell, Mr. James\n",
      "Finoli, Mr. Luigi\n",
      "Fischer, Mr. Eberhard Thelander\n",
      "Fleming, Miss. Honora\n",
      "Flynn, Mr. James\n",
      "Flynn, Mr. John\n",
      "Foley, Mr. Joseph\n",
      "Foley, Mr. William\n",
      "Foo, Mr. Choong\n",
      "Ford, Miss. Doolina Margaret \"Daisy\"\n",
      "Ford, Miss. Robina Maggie \"Ruby\"\n",
      "Ford, Mr. Arthur\n",
      "Ford, Mr. Edward Watson\n",
      "Ford, Mr. William Neal\n",
      "Ford, Mrs. Edward (Margaret Ann Watson)\n",
      "Fox, Mr. Patrick\n",
      "Franklin, Mr. Charles (Charles Fardon)\n",
      "Gallagher, Mr. Martin\n",
      "Garfirth, Mr. John\n",
      "Gheorgheff, Mr. Stanio\n",
      "Gilinski, Mr. Eliezer\n",
      "Gilnagh, Miss. Katherine \"Katie\"\n",
      "Glynn, Miss. Mary Agatha\n",
      "Goldsmith, Master. Frank John William \"Frankie\"\n",
      "Goldsmith, Mr. Frank John\n",
      "Goldsmith, Mr. Nathan\n",
      "Goldsmith, Mrs. Frank John (Emily Alice Brown)\n",
      "Goncalves, Mr. Manuel Estanslas\n",
      "Goodwin, Master. Harold Victor\n",
      "Goodwin, Master. Sidney Leonard\n",
      "Goodwin, Master. William Frederick\n",
      "Goodwin, Miss. Jessie Allis\n",
      "Goodwin, Miss. Lillian Amy\n",
      "Goodwin, Mr. Charles Edward\n",
      "Goodwin, Mr. Charles Frederick\n",
      "Goodwin, Mrs. Frederick (Augusta Tyler)\n",
      "Green, Mr. George Henry\n",
      "Gronnestad, Mr. Daniel Danielsen\n",
      "Guest, Mr. Robert\n",
      "Gustafsson, Mr. Alfred Ossian\n",
      "Gustafsson, Mr. Anders Vilhelm\n",
      "Gustafsson, Mr. Johan Birger\n",
      "Gustafsson, Mr. Karl Gideon\n",
      "Haas, Miss. Aloisia\n",
      "Hagardon, Miss. Kate\n",
      "Hagland, Mr. Ingvald Olai Olsen\n",
      "Hagland, Mr. Konrad Mathias Reiersen\n",
      "Hakkarainen, Mr. Pekka Pietari\n",
      "Hakkarainen, Mrs. Pekka Pietari (Elin Matilda Dolck)\n",
      "Hampe, Mr. Leon\n",
      "Hanna, Mr. Mansour\n",
      "Hansen, Mr. Claus Peter\n",
      "Hansen, Mr. Henrik Juul\n",
      "Hansen, Mr. Henry Damsgaard\n",
      "Hansen, Mrs. Claus Peter (Jennie L Howard)\n",
      "Harknett, Miss. Alice Phoebe\n",
      "Harmer, Mr. Abraham (David Lishin)\n",
      "Hart, Mr. Henry\n",
      "Hassan, Mr. Houssein G N\n",
      "Healy, Miss. Hanora \"Nora\"\n",
      "Hedman, Mr. Oskar Arvid\n",
      "Hee, Mr. Ling\n",
      "Hegarty, Miss. Hanora \"Nora\"\n",
      "Heikkinen, Miss. Laina\n",
      "Heininen, Miss. Wendla Maria\n",
      "Hellstrom, Miss. Hilda Maria\n",
      "Hendekovic, Mr. Ignjac\n",
      "Henriksson, Miss. Jenny Lovisa\n",
      "Henry, Miss. Delia\n",
      "Hirvonen, Miss. Hildur E\n",
      "Hirvonen, Mrs. Alexander (Helga E Lindqvist)\n",
      "Holm, Mr. John Fredrik Alexander\n",
      "Holthen, Mr. Johan Martin\n",
      "Honkanen, Miss. Eliina\n",
      "Horgan, Mr. John\n",
      "Howard, Miss. May Elizabeth\n",
      "Humblen, Mr. Adolf Mathias Nicolai Olsen\n",
      "Hyman, Mr. Abraham\n",
      "Ibrahim Shawah, Mr. Yousseff\n",
      "Ilieff, Mr. Ylio\n",
      "Ilmakangas, Miss. Ida Livija\n",
      "Ilmakangas, Miss. Pieta Sofia\n",
      "Ivanoff, Mr. Kanio\n",
      "Jalsevac, Mr. Ivan\n",
      "Jansson, Mr. Carl Olof\n",
      "Jardin, Mr. Jose Neto\n",
      "Jensen, Mr. Hans Peder\n",
      "Jensen, Mr. Niels Peder\n",
      "Jensen, Mr. Svend Lauritz\n",
      "Jermyn, Miss. Annie\n",
      "Johannesen-Bratthammer, Mr. Bernt\n",
      "Johanson, Mr. Jakob Alfred\n",
      "Johansson Palmquist, Mr. Oskar Leander\n",
      "Johansson, Mr. Erik\n",
      "Johansson, Mr. Gustaf Joel\n",
      "Johansson, Mr. Karl Johan\n",
      "Johansson, Mr. Nils\n",
      "Johnson, Master. Harold Theodor\n",
      "Johnson, Miss. Eleanor Ileen\n",
      "Johnson, Mr. Alfred\n",
      "Johnson, Mr. Malkolm Joackim\n",
      "Johnson, Mr. William Cahoone Jr\n",
      "Johnson, Mrs. Oscar W (Elisabeth Vilhelmina Berg)\n",
      "Johnston, Master. William Arthur \"Willie\"\n",
      "Johnston, Miss. Catherine Helen \"Carrie\"\n",
      "Johnston, Mr. Andrew G\n",
      "Johnston, Mrs. Andrew G (Elizabeth \"Lily\" Watson)\n",
      "Jonkoff, Mr. Lalio\n",
      "Jonsson, Mr. Carl\n",
      "Jonsson, Mr. Nils Hilding\n",
      "Jussila, Miss. Katriina\n",
      "Jussila, Miss. Mari Aina\n",
      "Jussila, Mr. Eiriik\n",
      "Kallio, Mr. Nikolai Erland\n",
      "Kalvik, Mr. Johannes Halvorsen\n",
      "Karaic, Mr. Milan\n",
      "Karlsson, Mr. Einar Gervasius\n",
      "Karlsson, Mr. Julius Konrad Eugen\n",
      "Karlsson, Mr. Nils August\n",
      "Karun, Miss. Manca\n",
      "Karun, Mr. Franz\n",
      "Kassem, Mr. Fared\n",
      "Katavelas, Mr. Vassilios (\"Catavelas Vassilios\")\n",
      "Keane, Mr. Andrew \"Andy\"\n",
      "Keefe, Mr. Arthur\n",
      "Kelly, Miss. Anna Katherine \"Annie Kate\"\n",
      "Kelly, Miss. Mary\n",
      "Kelly, Mr. James\n",
      "Kelly, Mr. James\n",
      "Kennedy, Mr. John\n",
      "Khalil, Mr. Betros\n",
      "Khalil, Mrs. Betros (Zahie \"Maria\" Elias)\n",
      "Kiernan, Mr. John\n",
      "Kiernan, Mr. Philip\n",
      "Kilgannon, Mr. Thomas J\n",
      "Kink, Miss. Maria\n",
      "Kink, Mr. Vincenz\n",
      "Kink-Heilmann, Miss. Luise Gretchen\n",
      "Kink-Heilmann, Mr. Anton\n",
      "Kink-Heilmann, Mrs. Anton (Luise Heilmann)\n",
      "Klasen, Miss. Gertrud Emilia\n",
      "Klasen, Mr. Klas Albin\n",
      "Klasen, Mrs. (Hulda Kristina Eugenia Lofqvist)\n",
      "Kraeff, Mr. Theodor\n",
      "Krekorian, Mr. Neshan\n",
      "Lahoud, Mr. Sarkis\n",
      "Laitinen, Miss. Kristina Sofia\n",
      "Laleff, Mr. Kristo\n",
      "Lam, Mr. Ali\n",
      "Lam, Mr. Len\n",
      "Landergren, Miss. Aurora Adelia\n",
      "Lane, Mr. Patrick\n",
      "Lang, Mr. Fang\n",
      "Larsson, Mr. August Viktor\n",
      "Larsson, Mr. Bengt Edvin\n",
      "Larsson-Rondberg, Mr. Edvard A\n",
      "Leeni, Mr. Fahim (\"Philip Zenni\")\n",
      "Lefebre, Master. Henry Forbes\n",
      "Lefebre, Miss. Ida\n",
      "Lefebre, Miss. Jeannie\n",
      "Lefebre, Miss. Mathilde\n",
      "Lefebre, Mrs. Frank (Frances)\n",
      "Leinonen, Mr. Antti Gustaf\n",
      "Lemberopolous, Mr. Peter L\n",
      "Lennon, Miss. Mary\n",
      "Lennon, Mr. Denis\n",
      "Leonard, Mr. Lionel\n",
      "Lester, Mr. James\n",
      "Lievens, Mr. Rene Aime\n",
      "Lindahl, Miss. Agda Thorilda Viktoria\n",
      "Lindblom, Miss. Augusta Charlotta\n",
      "Lindell, Mr. Edvard Bengtsson\n",
      "Lindell, Mrs. Edvard Bengtsson (Elin Gerda Persson)\n",
      "Lindqvist, Mr. Eino William\n",
      "Linehan, Mr. Michael\n",
      "Ling, Mr. Lee\n",
      "Lithman, Mr. Simon\n",
      "Lobb, Mr. William Arthur\n",
      "Lobb, Mrs. William Arthur (Cordelia K Stanlick)\n",
      "Lockyer, Mr. Edward\n",
      "Lovell, Mr. John Hall (\"Henry\")\n",
      "Lulic, Mr. Nikola\n",
      "Lundahl, Mr. Johan Svensson\n",
      "Lundin, Miss. Olga Elida\n",
      "Lundstrom, Mr. Thure Edvin\n",
      "Lyntakoff, Mr. Stanko\n",
      "MacKay, Mr. George William\n",
      "Madigan, Miss. Margaret \"Maggie\"\n",
      "Madsen, Mr. Fridtjof Arne\n",
      "Maenpaa, Mr. Matti Alexanteri\n",
      "Mahon, Miss. Bridget Delia\n",
      "Mahon, Mr. John\n",
      "Maisner, Mr. Simon\n",
      "Makinen, Mr. Kalle Edvard\n",
      "Mamee, Mr. Hanna\n",
      "Mangan, Miss. Mary\n",
      "Mannion, Miss. Margareth\n",
      "Mardirosian, Mr. Sarkis\n",
      "Markoff, Mr. Marin\n",
      "Markun, Mr. Johann\n",
      "Masselmani, Mrs. Fatima\n",
      "Matinoff, Mr. Nicola\n",
      "McCarthy, Miss. Catherine \"Katie\"\n",
      "McCormack, Mr. Thomas Joseph\n",
      "McCoy, Miss. Agnes\n",
      "McCoy, Miss. Alicia\n",
      "McCoy, Mr. Bernard\n",
      "McDermott, Miss. Brigdet Delia\n",
      "McEvoy, Mr. Michael\n",
      "McGovern, Miss. Mary\n",
      "McGowan, Miss. Anna \"Annie\"\n",
      "McGowan, Miss. Katherine\n",
      "McMahon, Mr. Martin\n",
      "McNamee, Mr. Neal\n",
      "McNamee, Mrs. Neal (Eileen O'Leary)\n",
      "McNeill, Miss. Bridget\n",
      "Meanwell, Miss. (Marion Ogden)\n",
      "Meek, Mrs. Thomas (Annie Louise Rowley)\n",
      "Meo, Mr. Alfonzo\n",
      "Mernagh, Mr. Robert\n",
      "Midtsjo, Mr. Karl Albert\n",
      "Miles, Mr. Frank\n",
      "Mineff, Mr. Ivan\n",
      "Minkoff, Mr. Lazar\n",
      "Mionoff, Mr. Stoytcho\n",
      "Mitkoff, Mr. Mito\n",
      "Mockler, Miss. Helen Mary \"Ellie\"\n",
      "Moen, Mr. Sigurd Hansen\n",
      "Moor, Master. Meier\n",
      "Moor, Mrs. (Beila)\n",
      "Moore, Mr. Leonard Charles\n",
      "Moran, Miss. Bertha\n",
      "Moran, Mr. Daniel J\n",
      "Moran, Mr. James\n",
      "Morley, Mr. William\n",
      "Morrow, Mr. Thomas Rowan\n",
      "Moss, Mr. Albert Johan\n",
      "Moubarek, Master. Gerios\n",
      "Moubarek, Master. Halim Gonios (\"William George\")\n",
      "Moubarek, Mrs. George (Omine \"Amenia\" Alexander)\n",
      "Moussa, Mrs. (Mantoura Boulos)\n",
      "Moutal, Mr. Rahamin Haim\n",
      "Mullens, Miss. Katherine \"Katie\"\n",
      "Mulvihill, Miss. Bertha E\n",
      "Murdlin, Mr. Joseph\n",
      "Murphy, Miss. Katherine \"Kate\"\n",
      "Murphy, Miss. Margaret Jane\n",
      "Murphy, Miss. Nora\n",
      "Myhrman, Mr. Pehr Fabian Oliver Malkolm\n",
      "Naidenoff, Mr. Penko\n",
      "Najib, Miss. Adele Kiamie \"Jane\"\n",
      "Nakid, Miss. Maria (\"Mary\")\n",
      "Nakid, Mr. Sahid\n",
      "Nakid, Mrs. Said (Waika \"Mary\" Mowad)\n",
      "Nancarrow, Mr. William Henry\n",
      "Nankoff, Mr. Minko\n",
      "Nasr, Mr. Mustafa\n",
      "Naughton, Miss. Hannah\n",
      "Nenkoff, Mr. Christo\n",
      "Nicola-Yarred, Master. Elias\n",
      "Nicola-Yarred, Miss. Jamila\n",
      "Nieminen, Miss. Manta Josefina\n",
      "Niklasson, Mr. Samuel\n",
      "Nilsson, Miss. Berta Olivia\n",
      "Nilsson, Miss. Helmina Josefina\n",
      "Nilsson, Mr. August Ferdinand\n",
      "Nirva, Mr. Iisakki Antino Aijo\n",
      "Niskanen, Mr. Juha\n",
      "Nosworthy, Mr. Richard Cater\n",
      "Novel, Mr. Mansouer\n",
      "Nysten, Miss. Anna Sofia\n",
      "Nysveen, Mr. Johan Hansen\n",
      "O'Brien, Mr. Thomas\n",
      "O'Brien, Mr. Timothy\n",
      "O'Brien, Mrs. Thomas (Johanna \"Hannah\" Godfrey)\n",
      "O'Connell, Mr. Patrick D\n",
      "O'Connor, Mr. Maurice\n",
      "O'Connor, Mr. Patrick\n",
      "Odahl, Mr. Nils Martin\n",
      "O'Donoghue, Ms. Bridget\n",
      "O'Driscoll, Miss. Bridget\n",
      "O'Dwyer, Miss. Ellen \"Nellie\"\n",
      "Ohman, Miss. Velin\n",
      "O'Keefe, Mr. Patrick\n",
      "O'Leary, Miss. Hanora \"Norah\"\n",
      "Olsen, Master. Artur Karl\n",
      "Olsen, Mr. Henry Margido\n",
      "Olsen, Mr. Karl Siegwart Andreas\n",
      "Olsen, Mr. Ole Martin\n",
      "Olsson, Miss. Elina\n",
      "Olsson, Mr. Nils Johan Goransson\n",
      "Olsson, Mr. Oscar Wilhelm\n",
      "Olsvigen, Mr. Thor Anderson\n",
      "Oreskovic, Miss. Jelka\n",
      "Oreskovic, Miss. Marija\n",
      "Oreskovic, Mr. Luka\n",
      "Osen, Mr. Olaf Elon\n",
      "Osman, Mrs. Mara\n",
      "O'Sullivan, Miss. Bridget Mary\n",
      "Palsson, Master. Gosta Leonard\n",
      "Palsson, Master. Paul Folke\n",
      "Palsson, Miss. Stina Viola\n",
      "Palsson, Miss. Torborg Danira\n",
      "Palsson, Mrs. Nils (Alma Cornelia Berglund)\n",
      "Panula, Master. Eino Viljami\n",
      "Panula, Master. Juha Niilo\n",
      "Panula, Master. Urho Abraham\n",
      "Panula, Mr. Ernesti Arvid\n",
      "Panula, Mr. Jaako Arnold\n",
      "Panula, Mrs. Juha (Maria Emilia Ojala)\n",
      "Pasic, Mr. Jakob\n",
      "Patchett, Mr. George\n",
      "Paulner, Mr. Uscher\n",
      "Pavlovic, Mr. Stefo\n",
      "Peacock, Master. Alfred Edward\n",
      "Peacock, Miss. Treasteall\n",
      "Peacock, Mrs. Benjamin (Edith Nile)\n",
      "Pearce, Mr. Ernest\n",
      "Pedersen, Mr. Olaf\n",
      "Peduzzi, Mr. Joseph\n",
      "Pekoniemi, Mr. Edvard\n",
      "Peltomaki, Mr. Nikolai Johannes\n",
      "Perkin, Mr. John Henry\n",
      "Persson, Mr. Ernst Ulrik\n",
      "Peter, Master. Michael J\n",
      "Peter, Miss. Anna\n",
      "Peter, Mrs. Catherine (Catherine Rizk)\n",
      "Peters, Miss. Katie\n",
      "Petersen, Mr. Marius\n",
      "Petranec, Miss. Matilda\n",
      "Petroff, Mr. Nedelio\n",
      "Petroff, Mr. Pastcho (\"Pentcho\")\n",
      "Petterson, Mr. Johan Emil\n",
      "Pettersson, Miss. Ellen Natalia\n",
      "Pickard, Mr. Berk (Berk Trembisky)\n",
      "Plotcharsky, Mr. Vasil\n",
      "Pokrnic, Mr. Mate\n",
      "Pokrnic, Mr. Tome\n",
      "Radeff, Mr. Alexander\n",
      "Rasmussen, Mrs. (Lena Jacobsen Solvang)\n",
      "Razi, Mr. Raihed\n",
      "Reed, Mr. James George\n",
      "Rekic, Mr. Tido\n",
      "Reynolds, Mr. Harold J\n",
      "Rice, Master. Albert\n",
      "Rice, Master. Arthur\n",
      "Rice, Master. Eric\n",
      "Rice, Master. Eugene\n",
      "Rice, Master. George Hugh\n",
      "Rice, Mrs. William (Margaret Norton)\n",
      "Riihivouri, Miss. Susanna Juhantytar \"Sanni\"\n",
      "Rintamaki, Mr. Matti\n",
      "Riordan, Miss. Johanna \"Hannah\"\n",
      "Risien, Mr. Samuel Beard\n",
      "Risien, Mrs. Samuel (Emma)\n",
      "Robins, Mr. Alexander A\n",
      "Robins, Mrs. Alexander A (Grace Charity Laury)\n",
      "Rogers, Mr. William John\n",
      "Rommetvedt, Mr. Knud Paust\n",
      "Rosblom, Miss. Salli Helena\n",
      "Rosblom, Mr. Viktor Richard\n",
      "Rosblom, Mrs. Viktor (Helena Wilhelmina)\n",
      "Roth, Miss. Sarah A\n",
      "Rouse, Mr. Richard Henry\n",
      "Rush, Mr. Alfred George John\n",
      "Ryan, Mr. Edward\n",
      "Ryan, Mr. Patrick\n",
      "Saad, Mr. Amin\n",
      "Saad, Mr. Khalil\n",
      "Saade, Mr. Jean Nassr\n",
      "Sadlier, Mr. Matthew\n",
      "Sadowitz, Mr. Harry\n",
      "Saether, Mr. Simon Sivertsen\n",
      "Sage, Master. Thomas Henry\n",
      "Sage, Master. William Henry\n",
      "Sage, Miss. Ada\n",
      "Sage, Miss. Constance Gladys\n",
      "Sage, Miss. Dorothy Edith \"Dolly\"\n",
      "Sage, Miss. Stella Anna\n",
      "Sage, Mr. Douglas Bullen\n",
      "Sage, Mr. Frederick\n",
      "Sage, Mr. George John Jr\n",
      "Sage, Mr. John George\n",
      "Sage, Mrs. John (Annie Bullen)\n",
      "Salander, Mr. Karl Johan\n",
      "Salkjelsvik, Miss. Anna Kristine\n",
      "Salonen, Mr. Johan Werner\n",
      "Samaan, Mr. Elias\n",
      "Samaan, Mr. Hanna\n",
      "Samaan, Mr. Youssef\n",
      "Sandstrom, Miss. Beatrice Irene\n",
      "Sandstrom, Mrs. Hjalmar (Agnes Charlotta Bengtsson)\n",
      "Sandstrom, Miss. Marguerite Rut\n",
      "Sap, Mr. Julius\n",
      "Saundercock, Mr. William Henry\n",
      "Sawyer, Mr. Frederick Charles\n",
      "Scanlan, Mr. James\n",
      "Sdycoff, Mr. Todor\n",
      "Shaughnessy, Mr. Patrick\n",
      "Sheerlinck, Mr. Jan Baptist\n",
      "Shellard, Mr. Frederick William\n",
      "Shine, Miss. Ellen Natalia\n",
      "Shorney, Mr. Charles Joseph\n",
      "Simmons, Mr. John\n",
      "Sirayanian, Mr. Orsen\n",
      "Sirota, Mr. Maurice\n",
      "Sivic, Mr. Husein\n",
      "Sivola, Mr. Antti Wilhelm\n",
      "Sjoblom, Miss. Anna Sofia\n",
      "Skoog, Master. Harald\n",
      "Skoog, Master. Karl Thorsten\n",
      "Skoog, Miss. Mabel\n",
      "Skoog, Miss. Margit Elizabeth\n",
      "Skoog, Mr. Wilhelm\n",
      "Skoog, Mrs. William (Anna Bernhardina Karlsson)\n",
      "Slabenoff, Mr. Petco\n",
      "Slocovski, Mr. Selman Francis\n",
      "Smiljanic, Mr. Mile\n",
      "Smith, Mr. Thomas\n",
      "Smyth, Miss. Julia\n",
      "Soholt, Mr. Peter Andreas Lauritz Andersen\n",
      "Somerton, Mr. Francis William\n",
      "Spector, Mr. Woolf\n",
      "Spinner, Mr. Henry John\n",
      "Staneff, Mr. Ivan\n",
      "Stankovic, Mr. Ivan\n",
      "Stanley, Miss. Amy Zillah Elsie\n",
      "Stanley, Mr. Edward Roland\n",
      "Storey, Mr. Thomas\n",
      "Stoytcheff, Mr. Ilia\n",
      "Strandberg, Miss. Ida Sofia\n",
      "Stranden, Mr. Juho\n",
      "Strilic, Mr. Ivan\n",
      "Strom, Miss. Telma Matilda\n",
      "Strom, Mrs. Wilhelm (Elna Matilda Persson)\n",
      "Sunderland, Mr. Victor Francis\n",
      "Sundman, Mr. Johan Julian\n",
      "Sutehall, Mr. Henry Jr\n",
      "Svensson, Mr. Johan\n",
      "Svensson, Mr. Johan Cervin\n",
      "Svensson, Mr. Olof\n",
      "Tenglin, Mr. Gunnar Isidor\n",
      "Theobald, Mr. Thomas Leonard\n",
      "Thomas, Master. Assad Alexander\n",
      "Thomas, Mr. Charles P\n",
      "Thomas, Mr. John\n",
      "Thomas, Mr. Tannous\n",
      "Thomas, Mrs. Alexander (Thamine \"Thelma\")\n",
      "Thomson, Mr. Alexander Morrison\n",
      "Thorneycroft, Mr. Percival\n",
      "Thorneycroft, Mrs. Percival (Florence Kate White)\n",
      "Tikkanen, Mr. Juho\n",
      "Tobin, Mr. Roger\n",
      "Todoroff, Mr. Lalio\n",
      "Tomlin, Mr. Ernest Portage\n",
      "Torber, Mr. Ernst William\n",
      "Torfa, Mr. Assad\n",
      "Tornquist, Mr. William Henry\n",
      "Toufik, Mr. Nakli\n",
      "Touma, Master. Georges Youssef\n",
      "Touma, Miss. Maria Youssef\n",
      "Touma, Mrs. Darwis (Hanne Youssef Razi)\n",
      "Turcin, Mr. Stjepan\n",
      "Turja, Miss. Anna Sofia\n",
      "Turkula, Mrs. (Hedwig)\n",
      "van Billiard, Master. James William\n",
      "van Billiard, Master. Walter John\n",
      "van Billiard, Mr. Austin Blyler\n",
      "Van Impe, Miss. Catharina\n",
      "Van Impe, Mr. Jean Baptiste\n",
      "Van Impe, Mrs. Jean Baptiste (Rosalie Paula Govaert)\n",
      "van Melkebeke, Mr. Philemon\n",
      "Vande Velde, Mr. Johannes Joseph\n",
      "Vande Walle, Mr. Nestor Cyriel\n",
      "Vanden Steen, Mr. Leo Peter\n",
      "Vander Cruyssen, Mr. Victor\n",
      "Vander Planke, Miss. Augusta Maria\n",
      "Vander Planke, Mr. Julius\n",
      "Vander Planke, Mr. Leo Edmondus\n",
      "Vander Planke, Mrs. Julius (Emelia Maria Vandemoortele)\n",
      "Vartanian, Mr. David\n",
      "Vendel, Mr. Olof Edvin\n",
      "Vestrom, Miss. Hulda Amanda Adolfina\n",
      "Vovk, Mr. Janko\n",
      "Waelens, Mr. Achille\n",
      "Ware, Mr. Frederick\n",
      "Warren, Mr. Charles William\n",
      "Webber, Mr. James\n",
      "Wenzel, Mr. Linhart\n",
      "Whabee, Mrs. George Joseph (Shawneene Abi-Saab)\n",
      "Widegren, Mr. Carl/Charles Peter\n",
      "Wiklund, Mr. Jakob Alfred\n",
      "Wiklund, Mr. Karl Johan\n",
      "Wilkes, Mrs. James (Ellen Needs)\n",
      "Willer, Mr. Aaron (\"Abi Weller\")\n",
      "Willey, Mr. Edward\n",
      "Williams, Mr. Howard Hugh \"Harry\"\n",
      "Williams, Mr. Leslie\n",
      "Windelov, Mr. Einar\n",
      "Wirz, Mr. Albert\n",
      "Wiseman, Mr. Phillippe\n",
      "Wittevrongel, Mr. Camille\n",
      "Yasbeck, Mr. Antoni\n",
      "Yasbeck, Mrs. Antoni (Selini Alexander)\n",
      "Youseff, Mr. Gerious\n",
      "Yousif, Mr. Wazli\n",
      "Yousseff, Mr. Gerious\n",
      "Zabour, Miss. Hileni\n",
      "Zabour, Miss. Thamine\n",
      "Zakarian, Mr. Mapriededer\n",
      "Zakarian, Mr. Ortin\n",
      "Zimmerman, Mr. Leo\n"
     ]
    }
   ],
   "source": [
    "for idx, dataset in titanic.iterrows():\n",
    "    print(dataset[\"name\"])"
   ]
  },
  {
   "cell_type": "code",
   "execution_count": 41,
   "metadata": {},
   "outputs": [
    {
     "data": {
      "text/html": [
       "<div>\n",
       "<style scoped>\n",
       "    .dataframe tbody tr th:only-of-type {\n",
       "        vertical-align: middle;\n",
       "    }\n",
       "\n",
       "    .dataframe tbody tr th {\n",
       "        vertical-align: top;\n",
       "    }\n",
       "\n",
       "    .dataframe thead th {\n",
       "        text-align: right;\n",
       "    }\n",
       "</style>\n",
       "<table border=\"1\" class=\"dataframe\">\n",
       "  <thead>\n",
       "    <tr style=\"text-align: right;\">\n",
       "      <th></th>\n",
       "      <th>pclass</th>\n",
       "      <th>survived</th>\n",
       "      <th>name</th>\n",
       "      <th>sex</th>\n",
       "      <th>age</th>\n",
       "      <th>sibsp</th>\n",
       "      <th>parch</th>\n",
       "      <th>ticket</th>\n",
       "      <th>fare</th>\n",
       "      <th>cabin</th>\n",
       "      <th>embarked</th>\n",
       "      <th>boat</th>\n",
       "      <th>body</th>\n",
       "      <th>home.dest</th>\n",
       "      <th>age_cat</th>\n",
       "      <th>title</th>\n",
       "    </tr>\n",
       "  </thead>\n",
       "  <tbody>\n",
       "    <tr>\n",
       "      <th>0</th>\n",
       "      <td>1</td>\n",
       "      <td>1</td>\n",
       "      <td>Allen, Miss. Elisabeth Walton</td>\n",
       "      <td>female</td>\n",
       "      <td>29.0000</td>\n",
       "      <td>0</td>\n",
       "      <td>0</td>\n",
       "      <td>24160</td>\n",
       "      <td>211.3375</td>\n",
       "      <td>B5</td>\n",
       "      <td>S</td>\n",
       "      <td>2</td>\n",
       "      <td>NaN</td>\n",
       "      <td>St Louis, MO</td>\n",
       "      <td>young</td>\n",
       "      <td>Miss</td>\n",
       "    </tr>\n",
       "    <tr>\n",
       "      <th>1</th>\n",
       "      <td>1</td>\n",
       "      <td>1</td>\n",
       "      <td>Allison, Master. Hudson Trevor</td>\n",
       "      <td>male</td>\n",
       "      <td>0.9167</td>\n",
       "      <td>1</td>\n",
       "      <td>2</td>\n",
       "      <td>113781</td>\n",
       "      <td>151.5500</td>\n",
       "      <td>C22 C26</td>\n",
       "      <td>S</td>\n",
       "      <td>11</td>\n",
       "      <td>NaN</td>\n",
       "      <td>Montreal, PQ / Chesterville, ON</td>\n",
       "      <td>baby</td>\n",
       "      <td>Master</td>\n",
       "    </tr>\n",
       "    <tr>\n",
       "      <th>2</th>\n",
       "      <td>1</td>\n",
       "      <td>0</td>\n",
       "      <td>Allison, Miss. Helen Loraine</td>\n",
       "      <td>female</td>\n",
       "      <td>2.0000</td>\n",
       "      <td>1</td>\n",
       "      <td>2</td>\n",
       "      <td>113781</td>\n",
       "      <td>151.5500</td>\n",
       "      <td>C22 C26</td>\n",
       "      <td>S</td>\n",
       "      <td>NaN</td>\n",
       "      <td>NaN</td>\n",
       "      <td>Montreal, PQ / Chesterville, ON</td>\n",
       "      <td>baby</td>\n",
       "      <td>Miss</td>\n",
       "    </tr>\n",
       "    <tr>\n",
       "      <th>3</th>\n",
       "      <td>1</td>\n",
       "      <td>0</td>\n",
       "      <td>Allison, Mr. Hudson Joshua Creighton</td>\n",
       "      <td>male</td>\n",
       "      <td>30.0000</td>\n",
       "      <td>1</td>\n",
       "      <td>2</td>\n",
       "      <td>113781</td>\n",
       "      <td>151.5500</td>\n",
       "      <td>C22 C26</td>\n",
       "      <td>S</td>\n",
       "      <td>NaN</td>\n",
       "      <td>135.0</td>\n",
       "      <td>Montreal, PQ / Chesterville, ON</td>\n",
       "      <td>young</td>\n",
       "      <td>Mr</td>\n",
       "    </tr>\n",
       "    <tr>\n",
       "      <th>4</th>\n",
       "      <td>1</td>\n",
       "      <td>0</td>\n",
       "      <td>Allison, Mrs. Hudson J C (Bessie Waldo Daniels)</td>\n",
       "      <td>female</td>\n",
       "      <td>25.0000</td>\n",
       "      <td>1</td>\n",
       "      <td>2</td>\n",
       "      <td>113781</td>\n",
       "      <td>151.5500</td>\n",
       "      <td>C22 C26</td>\n",
       "      <td>S</td>\n",
       "      <td>NaN</td>\n",
       "      <td>NaN</td>\n",
       "      <td>Montreal, PQ / Chesterville, ON</td>\n",
       "      <td>young</td>\n",
       "      <td>Mrs</td>\n",
       "    </tr>\n",
       "  </tbody>\n",
       "</table>\n",
       "</div>"
      ],
      "text/plain": [
       "   pclass  survived                                             name     sex  \\\n",
       "0       1         1                    Allen, Miss. Elisabeth Walton  female   \n",
       "1       1         1                   Allison, Master. Hudson Trevor    male   \n",
       "2       1         0                     Allison, Miss. Helen Loraine  female   \n",
       "3       1         0             Allison, Mr. Hudson Joshua Creighton    male   \n",
       "4       1         0  Allison, Mrs. Hudson J C (Bessie Waldo Daniels)  female   \n",
       "\n",
       "       age  sibsp  parch  ticket      fare    cabin embarked boat   body  \\\n",
       "0  29.0000      0      0   24160  211.3375       B5        S    2    NaN   \n",
       "1   0.9167      1      2  113781  151.5500  C22 C26        S   11    NaN   \n",
       "2   2.0000      1      2  113781  151.5500  C22 C26        S  NaN    NaN   \n",
       "3  30.0000      1      2  113781  151.5500  C22 C26        S  NaN  135.0   \n",
       "4  25.0000      1      2  113781  151.5500  C22 C26        S  NaN    NaN   \n",
       "\n",
       "                         home.dest age_cat   title  \n",
       "0                     St Louis, MO   young    Miss  \n",
       "1  Montreal, PQ / Chesterville, ON    baby  Master  \n",
       "2  Montreal, PQ / Chesterville, ON    baby    Miss  \n",
       "3  Montreal, PQ / Chesterville, ON   young      Mr  \n",
       "4  Montreal, PQ / Chesterville, ON   young     Mrs  "
      ]
     },
     "execution_count": 41,
     "metadata": {},
     "output_type": "execute_result"
    }
   ],
   "source": [
    "import re\n",
    "\n",
    "title = []\n",
    "for idx, dataset in titanic.iterrows():\n",
    "    title.append(re.search('\\,\\s\\w+(\\s\\w+)?\\.', dataset['name']).group()[2:-1])\n",
    "\n",
    "titanic['title'] = title\n",
    "titanic.head()"
   ]
  },
  {
   "cell_type": "code",
   "execution_count": 42,
   "metadata": {},
   "outputs": [
    {
     "data": {
      "text/html": [
       "<div>\n",
       "<style scoped>\n",
       "    .dataframe tbody tr th:only-of-type {\n",
       "        vertical-align: middle;\n",
       "    }\n",
       "\n",
       "    .dataframe tbody tr th {\n",
       "        vertical-align: top;\n",
       "    }\n",
       "\n",
       "    .dataframe thead th {\n",
       "        text-align: right;\n",
       "    }\n",
       "</style>\n",
       "<table border=\"1\" class=\"dataframe\">\n",
       "  <thead>\n",
       "    <tr style=\"text-align: right;\">\n",
       "      <th>sex</th>\n",
       "      <th>female</th>\n",
       "      <th>male</th>\n",
       "    </tr>\n",
       "    <tr>\n",
       "      <th>title</th>\n",
       "      <th></th>\n",
       "      <th></th>\n",
       "    </tr>\n",
       "  </thead>\n",
       "  <tbody>\n",
       "    <tr>\n",
       "      <th>Capt</th>\n",
       "      <td>0</td>\n",
       "      <td>1</td>\n",
       "    </tr>\n",
       "    <tr>\n",
       "      <th>Col</th>\n",
       "      <td>0</td>\n",
       "      <td>4</td>\n",
       "    </tr>\n",
       "    <tr>\n",
       "      <th>Don</th>\n",
       "      <td>0</td>\n",
       "      <td>1</td>\n",
       "    </tr>\n",
       "    <tr>\n",
       "      <th>Dona</th>\n",
       "      <td>1</td>\n",
       "      <td>0</td>\n",
       "    </tr>\n",
       "    <tr>\n",
       "      <th>Dr</th>\n",
       "      <td>1</td>\n",
       "      <td>7</td>\n",
       "    </tr>\n",
       "    <tr>\n",
       "      <th>Jonkheer</th>\n",
       "      <td>0</td>\n",
       "      <td>1</td>\n",
       "    </tr>\n",
       "    <tr>\n",
       "      <th>Lady</th>\n",
       "      <td>1</td>\n",
       "      <td>0</td>\n",
       "    </tr>\n",
       "    <tr>\n",
       "      <th>Major</th>\n",
       "      <td>0</td>\n",
       "      <td>2</td>\n",
       "    </tr>\n",
       "    <tr>\n",
       "      <th>Master</th>\n",
       "      <td>0</td>\n",
       "      <td>61</td>\n",
       "    </tr>\n",
       "    <tr>\n",
       "      <th>Miss</th>\n",
       "      <td>260</td>\n",
       "      <td>0</td>\n",
       "    </tr>\n",
       "    <tr>\n",
       "      <th>Mlle</th>\n",
       "      <td>2</td>\n",
       "      <td>0</td>\n",
       "    </tr>\n",
       "    <tr>\n",
       "      <th>Mme</th>\n",
       "      <td>1</td>\n",
       "      <td>0</td>\n",
       "    </tr>\n",
       "    <tr>\n",
       "      <th>Mr</th>\n",
       "      <td>0</td>\n",
       "      <td>757</td>\n",
       "    </tr>\n",
       "    <tr>\n",
       "      <th>Mrs</th>\n",
       "      <td>197</td>\n",
       "      <td>0</td>\n",
       "    </tr>\n",
       "    <tr>\n",
       "      <th>Ms</th>\n",
       "      <td>2</td>\n",
       "      <td>0</td>\n",
       "    </tr>\n",
       "    <tr>\n",
       "      <th>Rev</th>\n",
       "      <td>0</td>\n",
       "      <td>8</td>\n",
       "    </tr>\n",
       "    <tr>\n",
       "      <th>Sir</th>\n",
       "      <td>0</td>\n",
       "      <td>1</td>\n",
       "    </tr>\n",
       "    <tr>\n",
       "      <th>the Countess</th>\n",
       "      <td>1</td>\n",
       "      <td>0</td>\n",
       "    </tr>\n",
       "  </tbody>\n",
       "</table>\n",
       "</div>"
      ],
      "text/plain": [
       "sex           female  male\n",
       "title                     \n",
       "Capt               0     1\n",
       "Col                0     4\n",
       "Don                0     1\n",
       "Dona               1     0\n",
       "Dr                 1     7\n",
       "Jonkheer           0     1\n",
       "Lady               1     0\n",
       "Major              0     2\n",
       "Master             0    61\n",
       "Miss             260     0\n",
       "Mlle               2     0\n",
       "Mme                1     0\n",
       "Mr                 0   757\n",
       "Mrs              197     0\n",
       "Ms                 2     0\n",
       "Rev                0     8\n",
       "Sir                0     1\n",
       "the Countess       1     0"
      ]
     },
     "execution_count": 42,
     "metadata": {},
     "output_type": "execute_result"
    }
   ],
   "source": [
    "pd.crosstab(titanic[\"title\"], titanic[\"sex\"])"
   ]
  },
  {
   "cell_type": "code",
   "execution_count": 43,
   "metadata": {},
   "outputs": [
    {
     "data": {
      "text/plain": [
       "array(['Miss', 'Rare_m', 'Mr', 'Mrs', 'Rare_f'], dtype=object)"
      ]
     },
     "execution_count": 43,
     "metadata": {},
     "output_type": "execute_result"
    }
   ],
   "source": [
    "titanic['title'] = titanic['title'].replace('Mlle', 'Miss')\n",
    "titanic['title'] = titanic['title'].replace('Ms', 'Miss')\n",
    "titanic['title'] = titanic['title'].replace('Mme', 'Mrs')\n",
    "\n",
    "Rare_f = ['Dona', 'Dr', 'Lady', 'the Countess']\n",
    "Rare_m = ['Capt', 'Col', 'Don', 'Major', 'Rev', 'Sir', 'Jonkheer', 'Master']\n",
    "\n",
    "for each in Rare_f:\n",
    "    titanic['title'] = titanic['title'].replace(each, 'Rare_f')\n",
    "\n",
    "for each in Rare_m:\n",
    "    titanic['title'] = titanic['title'].replace(each, 'Rare_m')\n",
    "\n",
    "titanic['title'].unique()"
   ]
  },
  {
   "cell_type": "code",
   "execution_count": 44,
   "metadata": {},
   "outputs": [
    {
     "data": {
      "text/html": [
       "<div>\n",
       "<style scoped>\n",
       "    .dataframe tbody tr th:only-of-type {\n",
       "        vertical-align: middle;\n",
       "    }\n",
       "\n",
       "    .dataframe tbody tr th {\n",
       "        vertical-align: top;\n",
       "    }\n",
       "\n",
       "    .dataframe thead th {\n",
       "        text-align: right;\n",
       "    }\n",
       "</style>\n",
       "<table border=\"1\" class=\"dataframe\">\n",
       "  <thead>\n",
       "    <tr style=\"text-align: right;\">\n",
       "      <th></th>\n",
       "      <th>title</th>\n",
       "      <th>survived</th>\n",
       "    </tr>\n",
       "  </thead>\n",
       "  <tbody>\n",
       "    <tr>\n",
       "      <th>0</th>\n",
       "      <td>Miss</td>\n",
       "      <td>0.678030</td>\n",
       "    </tr>\n",
       "    <tr>\n",
       "      <th>1</th>\n",
       "      <td>Mr</td>\n",
       "      <td>0.162483</td>\n",
       "    </tr>\n",
       "    <tr>\n",
       "      <th>2</th>\n",
       "      <td>Mrs</td>\n",
       "      <td>0.787879</td>\n",
       "    </tr>\n",
       "    <tr>\n",
       "      <th>3</th>\n",
       "      <td>Rare_f</td>\n",
       "      <td>0.636364</td>\n",
       "    </tr>\n",
       "    <tr>\n",
       "      <th>4</th>\n",
       "      <td>Rare_m</td>\n",
       "      <td>0.443038</td>\n",
       "    </tr>\n",
       "  </tbody>\n",
       "</table>\n",
       "</div>"
      ],
      "text/plain": [
       "    title  survived\n",
       "0    Miss  0.678030\n",
       "1      Mr  0.162483\n",
       "2     Mrs  0.787879\n",
       "3  Rare_f  0.636364\n",
       "4  Rare_m  0.443038"
      ]
     },
     "execution_count": 44,
     "metadata": {},
     "output_type": "execute_result"
    }
   ],
   "source": [
    "titanic[[\"title\", \"survived\"]].groupby([\"title\"], as_index=False).mean()"
   ]
  },
  {
   "cell_type": "code",
   "execution_count": 45,
   "metadata": {},
   "outputs": [
    {
     "name": "stdout",
     "output_type": "stream",
     "text": [
      "<class 'pandas.core.frame.DataFrame'>\n",
      "RangeIndex: 1309 entries, 0 to 1308\n",
      "Data columns (total 16 columns):\n",
      " #   Column     Non-Null Count  Dtype   \n",
      "---  ------     --------------  -----   \n",
      " 0   pclass     1309 non-null   int64   \n",
      " 1   survived   1309 non-null   int64   \n",
      " 2   name       1309 non-null   object  \n",
      " 3   sex        1309 non-null   object  \n",
      " 4   age        1046 non-null   float64 \n",
      " 5   sibsp      1309 non-null   int64   \n",
      " 6   parch      1309 non-null   int64   \n",
      " 7   ticket     1309 non-null   object  \n",
      " 8   fare       1308 non-null   float64 \n",
      " 9   cabin      295 non-null    object  \n",
      " 10  embarked   1307 non-null   object  \n",
      " 11  boat       486 non-null    object  \n",
      " 12  body       121 non-null    float64 \n",
      " 13  home.dest  745 non-null    object  \n",
      " 14  age_cat    1046 non-null   category\n",
      " 15  title      1309 non-null   object  \n",
      "dtypes: category(1), float64(3), int64(4), object(8)\n",
      "memory usage: 155.0+ KB\n"
     ]
    }
   ],
   "source": [
    "titanic.info()"
   ]
  },
  {
   "cell_type": "code",
   "execution_count": 66,
   "metadata": {},
   "outputs": [
    {
     "data": {
      "text/plain": [
       "array(['female', 'male'], dtype=object)"
      ]
     },
     "execution_count": 66,
     "metadata": {},
     "output_type": "execute_result"
    }
   ],
   "source": [
    "titanic[\"sex\"].unique()"
   ]
  },
  {
   "cell_type": "code",
   "execution_count": 67,
   "metadata": {},
   "outputs": [
    {
     "data": {
      "text/html": [
       "<div>\n",
       "<style scoped>\n",
       "    .dataframe tbody tr th:only-of-type {\n",
       "        vertical-align: middle;\n",
       "    }\n",
       "\n",
       "    .dataframe tbody tr th {\n",
       "        vertical-align: top;\n",
       "    }\n",
       "\n",
       "    .dataframe thead th {\n",
       "        text-align: right;\n",
       "    }\n",
       "</style>\n",
       "<table border=\"1\" class=\"dataframe\">\n",
       "  <thead>\n",
       "    <tr style=\"text-align: right;\">\n",
       "      <th></th>\n",
       "      <th>pclass</th>\n",
       "      <th>survived</th>\n",
       "      <th>name</th>\n",
       "      <th>sex</th>\n",
       "      <th>age</th>\n",
       "      <th>sibsp</th>\n",
       "      <th>parch</th>\n",
       "      <th>ticket</th>\n",
       "      <th>fare</th>\n",
       "      <th>cabin</th>\n",
       "      <th>embarked</th>\n",
       "      <th>boat</th>\n",
       "      <th>body</th>\n",
       "      <th>home.dest</th>\n",
       "      <th>age_cat</th>\n",
       "      <th>title</th>\n",
       "      <th>gender</th>\n",
       "    </tr>\n",
       "  </thead>\n",
       "  <tbody>\n",
       "    <tr>\n",
       "      <th>0</th>\n",
       "      <td>1</td>\n",
       "      <td>1</td>\n",
       "      <td>Allen, Miss. Elisabeth Walton</td>\n",
       "      <td>female</td>\n",
       "      <td>29.0000</td>\n",
       "      <td>0</td>\n",
       "      <td>0</td>\n",
       "      <td>24160</td>\n",
       "      <td>211.3375</td>\n",
       "      <td>B5</td>\n",
       "      <td>S</td>\n",
       "      <td>2</td>\n",
       "      <td>NaN</td>\n",
       "      <td>St Louis, MO</td>\n",
       "      <td>young</td>\n",
       "      <td>Miss</td>\n",
       "      <td>0</td>\n",
       "    </tr>\n",
       "    <tr>\n",
       "      <th>1</th>\n",
       "      <td>1</td>\n",
       "      <td>1</td>\n",
       "      <td>Allison, Master. Hudson Trevor</td>\n",
       "      <td>male</td>\n",
       "      <td>0.9167</td>\n",
       "      <td>1</td>\n",
       "      <td>2</td>\n",
       "      <td>113781</td>\n",
       "      <td>151.5500</td>\n",
       "      <td>C22 C26</td>\n",
       "      <td>S</td>\n",
       "      <td>11</td>\n",
       "      <td>NaN</td>\n",
       "      <td>Montreal, PQ / Chesterville, ON</td>\n",
       "      <td>baby</td>\n",
       "      <td>Rare_m</td>\n",
       "      <td>1</td>\n",
       "    </tr>\n",
       "    <tr>\n",
       "      <th>2</th>\n",
       "      <td>1</td>\n",
       "      <td>0</td>\n",
       "      <td>Allison, Miss. Helen Loraine</td>\n",
       "      <td>female</td>\n",
       "      <td>2.0000</td>\n",
       "      <td>1</td>\n",
       "      <td>2</td>\n",
       "      <td>113781</td>\n",
       "      <td>151.5500</td>\n",
       "      <td>C22 C26</td>\n",
       "      <td>S</td>\n",
       "      <td>NaN</td>\n",
       "      <td>NaN</td>\n",
       "      <td>Montreal, PQ / Chesterville, ON</td>\n",
       "      <td>baby</td>\n",
       "      <td>Miss</td>\n",
       "      <td>0</td>\n",
       "    </tr>\n",
       "    <tr>\n",
       "      <th>3</th>\n",
       "      <td>1</td>\n",
       "      <td>0</td>\n",
       "      <td>Allison, Mr. Hudson Joshua Creighton</td>\n",
       "      <td>male</td>\n",
       "      <td>30.0000</td>\n",
       "      <td>1</td>\n",
       "      <td>2</td>\n",
       "      <td>113781</td>\n",
       "      <td>151.5500</td>\n",
       "      <td>C22 C26</td>\n",
       "      <td>S</td>\n",
       "      <td>NaN</td>\n",
       "      <td>135.0</td>\n",
       "      <td>Montreal, PQ / Chesterville, ON</td>\n",
       "      <td>young</td>\n",
       "      <td>Mr</td>\n",
       "      <td>1</td>\n",
       "    </tr>\n",
       "    <tr>\n",
       "      <th>4</th>\n",
       "      <td>1</td>\n",
       "      <td>0</td>\n",
       "      <td>Allison, Mrs. Hudson J C (Bessie Waldo Daniels)</td>\n",
       "      <td>female</td>\n",
       "      <td>25.0000</td>\n",
       "      <td>1</td>\n",
       "      <td>2</td>\n",
       "      <td>113781</td>\n",
       "      <td>151.5500</td>\n",
       "      <td>C22 C26</td>\n",
       "      <td>S</td>\n",
       "      <td>NaN</td>\n",
       "      <td>NaN</td>\n",
       "      <td>Montreal, PQ / Chesterville, ON</td>\n",
       "      <td>young</td>\n",
       "      <td>Mrs</td>\n",
       "      <td>0</td>\n",
       "    </tr>\n",
       "  </tbody>\n",
       "</table>\n",
       "</div>"
      ],
      "text/plain": [
       "   pclass  survived                                             name     sex  \\\n",
       "0       1         1                    Allen, Miss. Elisabeth Walton  female   \n",
       "1       1         1                   Allison, Master. Hudson Trevor    male   \n",
       "2       1         0                     Allison, Miss. Helen Loraine  female   \n",
       "3       1         0             Allison, Mr. Hudson Joshua Creighton    male   \n",
       "4       1         0  Allison, Mrs. Hudson J C (Bessie Waldo Daniels)  female   \n",
       "\n",
       "       age  sibsp  parch  ticket      fare    cabin embarked boat   body  \\\n",
       "0  29.0000      0      0   24160  211.3375       B5        S    2    NaN   \n",
       "1   0.9167      1      2  113781  151.5500  C22 C26        S   11    NaN   \n",
       "2   2.0000      1      2  113781  151.5500  C22 C26        S  NaN    NaN   \n",
       "3  30.0000      1      2  113781  151.5500  C22 C26        S  NaN  135.0   \n",
       "4  25.0000      1      2  113781  151.5500  C22 C26        S  NaN    NaN   \n",
       "\n",
       "                         home.dest age_cat   title  gender  \n",
       "0                     St Louis, MO   young    Miss       0  \n",
       "1  Montreal, PQ / Chesterville, ON    baby  Rare_m       1  \n",
       "2  Montreal, PQ / Chesterville, ON    baby    Miss       0  \n",
       "3  Montreal, PQ / Chesterville, ON   young      Mr       1  \n",
       "4  Montreal, PQ / Chesterville, ON   young     Mrs       0  "
      ]
     },
     "execution_count": 67,
     "metadata": {},
     "output_type": "execute_result"
    }
   ],
   "source": [
    "from sklearn.preprocessing import LabelEncoder\n",
    "\n",
    "le = LabelEncoder()\n",
    "le.fit(titanic[\"sex\"])\n",
    "titanic[\"gender\"] = le.transform(titanic[\"sex\"])\n",
    "titanic.head()"
   ]
  },
  {
   "cell_type": "code",
   "execution_count": 68,
   "metadata": {},
   "outputs": [
    {
     "name": "stdout",
     "output_type": "stream",
     "text": [
      "<class 'pandas.core.frame.DataFrame'>\n",
      "Index: 1045 entries, 0 to 1308\n",
      "Data columns (total 17 columns):\n",
      " #   Column     Non-Null Count  Dtype   \n",
      "---  ------     --------------  -----   \n",
      " 0   pclass     1045 non-null   int64   \n",
      " 1   survived   1045 non-null   int64   \n",
      " 2   name       1045 non-null   object  \n",
      " 3   sex        1045 non-null   object  \n",
      " 4   age        1045 non-null   float64 \n",
      " 5   sibsp      1045 non-null   int64   \n",
      " 6   parch      1045 non-null   int64   \n",
      " 7   ticket     1045 non-null   object  \n",
      " 8   fare       1045 non-null   float64 \n",
      " 9   cabin      272 non-null    object  \n",
      " 10  embarked   1043 non-null   object  \n",
      " 11  boat       417 non-null    object  \n",
      " 12  body       119 non-null    float64 \n",
      " 13  home.dest  685 non-null    object  \n",
      " 14  age_cat    1045 non-null   category\n",
      " 15  title      1045 non-null   object  \n",
      " 16  gender     1045 non-null   int64   \n",
      "dtypes: category(1), float64(3), int64(5), object(8)\n",
      "memory usage: 140.0+ KB\n"
     ]
    }
   ],
   "source": [
    "titanic = titanic[titanic[\"age\"].notnull()]\n",
    "titanic = titanic[titanic[\"fare\"].notnull()]\n",
    "titanic.info()"
   ]
  },
  {
   "cell_type": "code",
   "execution_count": 69,
   "metadata": {},
   "outputs": [
    {
     "data": {
      "text/plain": [
       "<Axes: >"
      ]
     },
     "execution_count": 69,
     "metadata": {},
     "output_type": "execute_result"
    },
    {
     "data": {
      "image/png": "[encoded data removed]",
      "text/plain": [
       "<Figure size 640x480 with 2 Axes>"
      ]
     },
     "metadata": {},
     "output_type": "display_data"
    }
   ],
   "source": [
    "titanic_simple = titanic[[\"pclass\", \"survived\", \"age\", \"sibsp\", \"parch\", \"fare\", \"body\", \"gender\"]]\n",
    "\n",
    "correlation_matrix = titanic_simple.corr().round(1)\n",
    "sns.heatmap(data=correlation_matrix, annot=True, cmap=\"bwr\")"
   ]
  },
  {
   "cell_type": "code",
   "execution_count": 70,
   "metadata": {},
   "outputs": [],
   "source": [
    "from sklearn.model_selection import train_test_split\n",
    "\n",
    "X = titanic[[\"pclass\", \"age\", \"sibsp\", \"parch\", \"fare\", \"gender\"]]\n",
    "y = titanic[\"survived\"]\n",
    "\n",
    "X_train, X_test, y_train, y_test = train_test_split(X, y, test_size=0.2, random_state=13)"
   ]
  },
  {
   "cell_type": "code",
   "execution_count": 71,
   "metadata": {},
   "outputs": [
    {
     "name": "stdout",
     "output_type": "stream",
     "text": [
      "0.7655502392344498\n"
     ]
    }
   ],
   "source": [
    "from sklearn.tree import DecisionTreeClassifier\n",
    "from sklearn.metrics import accuracy_score\n",
    "\n",
    "dt = DecisionTreeClassifier(max_depth=4, random_state=13)\n",
    "dt.fit(X_train, y_train)\n",
    "\n",
    "pred = dt.predict(X_test)\n",
    "print(accuracy_score(y_test, pred))"
   ]
  },
  {
   "cell_type": "code",
   "execution_count": 74,
   "metadata": {},
   "outputs": [
    {
     "name": "stdout",
     "output_type": "stream",
     "text": [
      "Decaprio  0.16728624535315986\n"
     ]
    },
    {
     "name": "stderr",
     "output_type": "stream",
     "text": [
      "/home/kms/venv/eda_venv/lib/python3.10/site-packages/sklearn/utils/validation.py:2739: UserWarning:\n",
      "\n",
      "X does not have valid feature names, but DecisionTreeClassifier was fitted with feature names\n",
      "\n"
     ]
    }
   ],
   "source": [
    "import numpy as np\n",
    "\n",
    "dicaprio = np.array([[3, 18, 0, 0, 5, 1]])\n",
    "print(\"Decaprio \", dt.predict_proba(dicaprio)[0,1])"
   ]
  },
  {
   "cell_type": "code",
   "execution_count": 73,
   "metadata": {},
   "outputs": [
    {
     "name": "stdout",
     "output_type": "stream",
     "text": [
      "Winslet :  1.0\n"
     ]
    },
    {
     "name": "stderr",
     "output_type": "stream",
     "text": [
      "/home/kms/venv/eda_venv/lib/python3.10/site-packages/sklearn/utils/validation.py:2739: UserWarning:\n",
      "\n",
      "X does not have valid feature names, but DecisionTreeClassifier was fitted with feature names\n",
      "\n"
     ]
    }
   ],
   "source": [
    "winslet = np.array([[1, 16, 1, 1, 100, 0]])\n",
    "print(\"Winslet : \", dt.predict_proba(winslet)[0,1])"
   ]
  },
  {
   "cell_type": "code",
   "execution_count": null,
   "metadata": {},
   "outputs": [],
   "source": []
  }
 ],
 "metadata": {
  "kernelspec": {
   "display_name": "eda_venv",
   "language": "python",
   "name": "python3"
  },
  "language_info": {
   "codemirror_mode": {
    "name": "ipython",
    "version": 3
   },
   "file_extension": ".py",
   "mimetype": "text/x-python",
   "name": "python",
   "nbconvert_exporter": "python",
   "pygments_lexer": "ipython3",
   "version": "3.10.12"
  }
 },
 "nbformat": 4,
 "nbformat_minor": 2
}
