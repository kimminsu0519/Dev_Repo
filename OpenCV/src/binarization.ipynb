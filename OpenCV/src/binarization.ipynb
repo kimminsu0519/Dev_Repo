{
 "cells": [
  {
   "cell_type": "markdown",
   "id": "5bcc9dfd",
   "metadata": {},
   "source": [
    "# 영상의 이진화"
   ]
  },
  {
   "cell_type": "markdown",
   "id": "ab651084",
   "metadata": {},
   "source": [
    "- 영상의 픽셀 값을 0 또는 255(1)로 만드는 연산\n",
    "    - 배경 vs 객체\n",
    "    - 관심 vs 비관심 영역"
   ]
  },
  {
   "cell_type": "code",
   "execution_count": 54,
   "id": "0a82b969",
   "metadata": {},
   "outputs": [],
   "source": [
    "import numpy as np\n",
    "import cv2\n",
    "import random\n",
    "import math"
   ]
  },
  {
   "cell_type": "markdown",
   "id": "41c24659",
   "metadata": {},
   "source": [
    "### 세포 사진으로 이진화 확인 "
   ]
  },
  {
   "cell_type": "code",
   "execution_count": 2,
   "id": "8c77ac14",
   "metadata": {},
   "outputs": [],
   "source": [
    "src = cv2.imread(\"../data/cells.jpg\", cv2.IMREAD_GRAYSCALE)\n",
    "\n",
    "_, dst1 = cv2.threshold(src, 100, 255, cv2.THRESH_BINARY)\n",
    "_, dst2 = cv2.threshold(src, 210, 255, cv2.THRESH_BINARY)\n",
    "\n",
    "cv2.imshow('src', src)\n",
    "cv2.imshow('dst1', dst1)\n",
    "cv2.imshow('dst2', dst2)\n",
    "\n",
    "cv2.waitKey()\n",
    "cv2.destroyAllWindows()"
   ]
  },
  {
   "cell_type": "markdown",
   "id": "59a58781",
   "metadata": {},
   "source": [
    "### Otsu\n",
    "- 자동으로 threshold를 잡고 싶으면\n",
    "    - 영상의 히스토그램이 bimodal이고, 전경과 배경 픽셀 분포가 비슷하면...\n",
    "    - 입력 영상이 배경과 객체 2개로 구성되어 있다 가정\n",
    "    - 임의의 임계값 T에 의해 나눠지는 두 픽셀 분포 그룹의 분산이 최소가 되는 T를 선택.\n",
    "    - 일종의 최적화 알고리즘"
   ]
  },
  {
   "cell_type": "code",
   "execution_count": 12,
   "id": "20479a19",
   "metadata": {},
   "outputs": [
    {
     "name": "stdout",
     "output_type": "stream",
     "text": [
      "otsu's threshold: 131.0\n"
     ]
    }
   ],
   "source": [
    "src = cv2.imread(\"../data/rice.jpg\", cv2.IMREAD_GRAYSCALE)\n",
    "scale = 0.5\n",
    "src = cv2.resize(src, None, fx=scale, fy=scale, interpolation=cv2.INTER_AREA)\n",
    "\n",
    "th, dst = cv2.threshold(src, 0, 255, cv2.THRESH_BINARY | cv2.THRESH_OTSU)\n",
    "print(\"otsu's threshold:\", th) # 131\n",
    "\n",
    "cv2.imshow('src', src)\n",
    "cv2.imshow('dst', dst)\n",
    "\n",
    "cv2.waitKey()\n",
    "cv2.destroyAllWindows()"
   ]
  },
  {
   "cell_type": "markdown",
   "id": "e79c4c08",
   "metadata": {},
   "source": [
    "### 지역 이진화.\n",
    "- 균일하지 않은 조명에서 일괄적인 threshold 적용은 문제가 되기에\n",
    "- 분할시켜서 이진화!"
   ]
  },
  {
   "cell_type": "code",
   "execution_count": 26,
   "id": "50bff4d3",
   "metadata": {},
   "outputs": [],
   "source": [
    "src = cv2.imread(\"../data/sudoku.jpg\", cv2.IMREAD_GRAYSCALE)\n",
    "scale = 0.5\n",
    "src = cv2.resize(src, None, fx=scale, fy=scale, interpolation=cv2.INTER_AREA)\n",
    "\n",
    "bsize = 201\n",
    "dst = cv2.adaptiveThreshold(src, 255, cv2.ADAPTIVE_THRESH_GAUSSIAN_C,\n",
    "                            cv2.THRESH_BINARY, bsize, 5)\n",
    "\n",
    "cv2.imshow('dst', dst)\n",
    "cv2.imshow('src', src)\n",
    "cv2.namedWindow('dst')\n",
    "\n",
    "cv2.waitKey()\n",
    "cv2.destroyAllWindows()"
   ]
  },
  {
   "cell_type": "markdown",
   "id": "5afa1b89",
   "metadata": {},
   "source": [
    "### 픽셀 라벨링\n",
    "- 레이블링?\n",
    "    - 동일 객체에 속한 모든 픽셀에 고유한 번호를 매기는 작업\n",
    "    - 일반적으로 이진 영상에서 수행\n",
    "    - OpenCV 3.x 버전부터 최신 논문 기반의 레이블링 알고리즘 함수를 제공"
   ]
  },
  {
   "cell_type": "code",
   "execution_count": 27,
   "id": "ec782911",
   "metadata": {},
   "outputs": [
    {
     "name": "stdout",
     "output_type": "stream",
     "text": [
      "sep:\n",
      "[[0 0 1 1 0 0 0 0]\n",
      " [1 1 1 1 0 0 1 0]\n",
      " [1 1 1 1 0 0 0 0]\n",
      " [0 0 0 0 0 1 1 0]\n",
      " [0 0 0 1 1 1 1 0]\n",
      " [0 0 1 1 0 0 1 0]\n",
      " [0 0 1 1 1 1 1 0]\n",
      " [0 0 0 0 0 0 0 0]]\n",
      "cnt: 4\n",
      "labels:\n",
      "[[0 0 1 1 0 0 0 0]\n",
      " [1 1 1 1 0 0 2 0]\n",
      " [1 1 1 1 0 0 0 0]\n",
      " [0 0 0 0 0 3 3 0]\n",
      " [0 0 0 3 3 3 3 0]\n",
      " [0 0 3 3 0 0 3 0]\n",
      " [0 0 3 3 3 3 3 0]\n",
      " [0 0 0 0 0 0 0 0]]\n"
     ]
    }
   ],
   "source": [
    "mat = np.array([\n",
    "    [0, 0, 1, 1, 0, 0, 0, 0],\n",
    "    [1, 1, 1, 1, 0, 0, 1, 0],\n",
    "    [1, 1, 1, 1, 0, 0, 0, 0],\n",
    "    [0, 0, 0, 0, 0, 1, 1, 0],\n",
    "    [0, 0, 0, 1, 1, 1, 1, 0],\n",
    "    [0, 0, 1, 1, 0, 0, 1, 0],\n",
    "    [0, 0, 1, 1, 1, 1, 1, 0],\n",
    "    [0, 0, 0, 0, 0, 0, 0, 0]], np.uint8)\n",
    "\n",
    "cnt, labels = cv2.connectedComponents(mat)\n",
    "\n",
    "print('sep:', mat, sep='\\n')\n",
    "print('cnt:', cnt)\n",
    "print('labels:', labels, sep='\\n')"
   ]
  },
  {
   "cell_type": "markdown",
   "id": "65c04ba3",
   "metadata": {},
   "source": [
    "### 이번에는 객체 탐지하는 예제"
   ]
  },
  {
   "cell_type": "code",
   "execution_count": null,
   "id": "129877a1",
   "metadata": {},
   "outputs": [],
   "source": [
    "import cv2\n",
    "\n",
    "# 1. 이미지 불러오기 (Grayscale로)\n",
    "src = cv2.imread(\"../data/keyboard.jpg\", cv2.IMREAD_GRAYSCALE)\n",
    "scale = 0.5\n",
    "src = cv2.resize(src, None, fx=scale, fy=scale, interpolation=cv2.INTER_CUBIC)\n",
    "\n",
    "# 2. Otsu 알고리즘을 이용해 자동 임계값으로 이진화\n",
    "_, src_bin = cv2.threshold(src, 0, 255, cv2.THRESH_BINARY | cv2.THRESH_OTSU)\n",
    "\n",
    "# 3. 연결 요소 분석\n",
    "cnt, labels, stats, centroids = cv2.connectedComponentsWithStats(src_bin)\n",
    "\n",
    "# 4. 결과 시각화를 위해 컬러 이미지로 변환\n",
    "dst = cv2.cvtColor(src, cv2.COLOR_GRAY2BGR)\n",
    "\n",
    "# 5. 각 객체에 대해 사각형 그리기 + 번호 표시\n",
    "for i in range(1, cnt):  # i=0은 배경이므로 제외\n",
    "    x, y, w, h, area = stats[i]\n",
    "\n",
    "    if area < 20:  # 너무 작은 객체는 제외 (노이즈 제거)\n",
    "        continue\n",
    "\n",
    "    cv2.rectangle(dst, (x, y), (x + w, y + h), (0, 255, 255), 2)  # 노란 박스\n",
    "\n",
    "# 6. 결과 출력\n",
    "cv2.imshow('src', src)\n",
    "cv2.imshow('src_bin', src_bin)\n",
    "cv2.imshow('dst', dst)\n",
    "cv2.waitKey()\n",
    "cv2.destroyAllWindows()"
   ]
  },
  {
   "cell_type": "markdown",
   "id": "155cbd8c",
   "metadata": {},
   "source": [
    "### 외각선 검출 예제"
   ]
  },
  {
   "cell_type": "code",
   "execution_count": 50,
   "id": "7a938493",
   "metadata": {},
   "outputs": [],
   "source": [
    "src = cv2.imread(\"../data/contours.jpg\", cv2.IMREAD_GRAYSCALE)\n",
    "\n",
    "contours, hier = cv2.findContours(src, cv2.RETR_TREE, cv2.CHAIN_APPROX_NONE)\n",
    "# contours, hier = cv2.findContours(src, cv2.RETR_CCOMP, cv2.CHAIN_APPROX_NONE)\n",
    "\n",
    "dst = cv2.cvtColor(src, cv2.COLOR_GRAY2BGR)\n",
    "\n",
    "idx = 0\n",
    "while idx >= 0:\n",
    "    c = (random.randint(0, 255), random.randint(0, 255), random.randint(0, 255))\n",
    "    cv2.drawContours(dst, contours, idx, c, 2, cv2.LINE_8, hier)\n",
    "    idx = hier[0, idx, 0]\n",
    "\n",
    "cv2.imshow('dst', dst)\n",
    "\n",
    "cv2.waitKey()\n",
    "cv2.destroyAllWindows()"
   ]
  },
  {
   "cell_type": "markdown",
   "id": "b80ae677",
   "metadata": {},
   "source": [
    "### 계층 정보 없는 외곽선"
   ]
  },
  {
   "cell_type": "code",
   "execution_count": 66,
   "id": "f8f9b9e9",
   "metadata": {},
   "outputs": [],
   "source": [
    "import cv2\n",
    "import numpy as np\n",
    "import random\n",
    "\n",
    "src = cv2.imread(\"../data/milkdrop.bmp\", cv2.IMREAD_GRAYSCALE)\n",
    "\n",
    "_, src_bin = cv2.threshold(src, 0, 255, cv2.THRESH_OTSU)\n",
    "contours, _ = cv2.findContours(src_bin, cv2.RETR_LIST, cv2.CHAIN_APPROX_NONE)\n",
    "\n",
    "h, w = src.shape[:2]\n",
    "dst = np.zeros((h, w, 3), np.uint8)\n",
    "\n",
    "for i in range(len(contours)):\n",
    "    c = (random.randint(0, 255), random.randint(0, 255), random.randint(0, 255))\n",
    "    cv2.drawContours(dst, contours, i, c, 1)\n",
    "\n",
    "# 6. 결과 출력\n",
    "cv2.imshow(\"src\", src)\n",
    "cv2.imshow(\"src_bin\", src_bin)\n",
    "cv2.imshow(\"dst\", dst)\n",
    "cv2.waitKey()\n",
    "cv2.destroyAllWindows()"
   ]
  },
  {
   "cell_type": "code",
   "execution_count": null,
   "id": "f7634cf7",
   "metadata": {},
   "outputs": [],
   "source": [
    "def setLabel(img, pts, label):\n",
    "    (x, y, w, h) = cv2.boundingRect(pts)\n",
    "    pt = (x, y - 10)\n",
    "    cv2.putText(img, label, pt, cv2.FONT_HERSHEY_SIMPLEX, 0.8, (255, 0, 0), 2)\n",
    "    cv2.rectangle(img, (x, y), (x + w, y + h), (0, 255, 0), 2)\n",
    "\n",
    "img = cv2.imread(\"../data/polygon.jpg\", cv2.IMREAD_COLOR)\n",
    "\n",
    "gray = cv2.cvtColor(img, cv2.COLOR_BGR2GRAY)\n",
    "_, img_bin = cv2.threshold(gray, 0, 255, cv2.THRESH_BINARY_INV | cv2.THRESH_OTSU)\n",
    "\n",
    "contours, _ = cv2.findContours(img_bin, cv2.RETR_EXTERNAL, cv2.CHAIN_APPROX_NONE)\n",
    "\n",
    "for pts in contours:\n",
    "    if cv2.contourArea(pts) < 400:  # 너무 작으면 무시\n",
    "        continue\n",
    "\n",
    "    approx = cv2.approxPolyDP(pts, cv2.arcLength(pts, True)*0.02, True)\n",
    "    vtc = len(approx)\n",
    "\n",
    "    if vtc == 3:\n",
    "        setLabel(img, approx, 'TRI')  # 삼각형\n",
    "    elif vtc == 4:\n",
    "        setLabel(img, approx, 'RECT')  # 사각형\n",
    "    else:\n",
    "        length = cv2.arcLength(pts, True)\n",
    "        area = cv2.contourArea(pts)\n",
    "        ratio = 4.0 * math.pi * area / (length * length)\n",
    "        if ratio > 0.85:\n",
    "            setLabel(img, approx, 'CIR')  # 원\n",
    "\n",
    "cv2.imshow('Shapes', img)\n",
    "cv2.waitKey()\n",
    "cv2.destroyAllWindows()"
   ]
  }
 ],
 "metadata": {
  "kernelspec": {
   "display_name": "opencv",
   "language": "python",
   "name": "python3"
  },
  "language_info": {
   "codemirror_mode": {
    "name": "ipython",
    "version": 3
   },
   "file_extension": ".py",
   "mimetype": "text/x-python",
   "name": "python",
   "nbconvert_exporter": "python",
   "pygments_lexer": "ipython3",
   "version": "3.12.3"
  }
 },
 "nbformat": 4,
 "nbformat_minor": 5
}
