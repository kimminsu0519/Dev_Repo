{
 "cells": [
  {
   "cell_type": "code",
   "execution_count": 5,
   "metadata": {},
   "outputs": [
    {
     "data": {
      "application/vnd.jupyter.widget-view+json": {
       "model_id": "f7e423633a9c4af286461ea91ebcd7eb",
       "version_major": 2,
       "version_minor": 0
      },
      "text/plain": [
       "Thread 1:   0%|          | 0/5 [00:00<?, ?it/s]"
      ]
     },
     "metadata": {},
     "output_type": "display_data"
    },
    {
     "data": {
      "application/vnd.jupyter.widget-view+json": {
       "model_id": "a6ba40c008b24103a12875ce9049bc96",
       "version_major": 2,
       "version_minor": 0
      },
      "text/plain": [
       "Thread 2:   0%|          | 0/5 [00:00<?, ?it/s]"
      ]
     },
     "metadata": {},
     "output_type": "display_data"
    },
    {
     "data": {
      "application/vnd.jupyter.widget-view+json": {
       "model_id": "5cbaee2d87fd4bed9b6a367831b3811c",
       "version_major": 2,
       "version_minor": 0
      },
      "text/plain": [
       "Thread 4:   0%|          | 0/5 [00:00<?, ?it/s]"
      ]
     },
     "metadata": {},
     "output_type": "display_data"
    },
    {
     "data": {
      "application/vnd.jupyter.widget-view+json": {
       "model_id": "dc4394b84a5e4b18bae4bca652483804",
       "version_major": 2,
       "version_minor": 0
      },
      "text/plain": [
       "Thread 5:   0%|          | 0/5 [00:00<?, ?it/s]"
      ]
     },
     "metadata": {},
     "output_type": "display_data"
    },
    {
     "data": {
      "application/vnd.jupyter.widget-view+json": {
       "model_id": "c1670e53402b4accbcdbab2cbd58b442",
       "version_major": 2,
       "version_minor": 0
      },
      "text/plain": [
       "Thread 3:   0%|          | 0/5 [00:00<?, ?it/s]"
      ]
     },
     "metadata": {},
     "output_type": "display_data"
    }
   ],
   "source": [
    "from selenium import webdriver\n",
    "from selenium.webdriver.chrome.service import Service\n",
    "from selenium.webdriver.chrome.options import Options\n",
    "from selenium.webdriver.common.by import By\n",
    "import time\n",
    "from tqdm.notebook import tqdm\n",
    "import os\n",
    "import threading\n",
    "from selenium.webdriver.common.action_chains import ActionChains\n",
    "from selenium.webdriver.support.ui import WebDriverWait\n",
    "from selenium.webdriver.support import expected_conditions as EC\n",
    "from selenium.webdriver.common.keys import Keys\n",
    "from glob import glob\n",
    "import shutil\n",
    "# 쓰레드 함수 정의\n",
    "def scrape_data(thread_id, sigungu_list_chunk):\n",
    "    # 각 쓰레드별 저장 디렉토리 생성\n",
    "    save_dir = f'/home/kms/dev_ws/eda/data{thread_id}'\n",
    "    os.makedirs(save_dir, exist_ok=True)\n",
    "    options = webdriver.ChromeOptions()\n",
    "    prefs = {'download.default_directory': save_dir,\n",
    "             'download.prompt_for_download': False,\n",
    "             'download.directory_upgrade': True,\n",
    "             'safebrowsing.enabled': False}\n",
    "    options.add_experimental_option('prefs', prefs)\n",
    "    url = \"https://www.opinet.co.kr/searRgSelect.do\"\n",
    "    driver = webdriver.Chrome(options=options)\n",
    "    for _ in range(2):  # 페이지 로딩 재시도\n",
    "        driver.get(url)\n",
    "        time.sleep(1)\n",
    "    # 서울시 선택 (서울시 value는 \"01\"입니다)\n",
    "    sido_btn = driver.find_element(By.ID, \"SIDO_NM0\")\n",
    "    sido_option = sido_btn.find_elements(By.TAG_NAME, \"option\")\n",
    "    sido_list = [value for option in sido_option if len(value := option.get_attribute(\"value\"))>0]\n",
    "    sido_btn.send_keys(sido_list[0])  # 서울시 선택\n",
    "    time.sleep(1)\n",
    "    # 각 시군구별로 처리 (입력받은 시군구 리스트 청크만 처리)\n",
    "    for option in tqdm(sigungu_list_chunk, desc=f\"Thread {thread_id}\"):\n",
    "        sigungu_btn = driver.find_element(By.ID, \"SIGUNGU_NM0\")\n",
    "        sigungu_btn.send_keys(option)\n",
    "        driver.implicitly_wait(3)\n",
    "        driver.refresh()\n",
    "        # 저장 버튼 클릭\n",
    "        save = WebDriverWait(driver, timeout=40).until(\n",
    "            EC.element_to_be_clickable((By.CLASS_NAME, \"btn_type6_ex_save\")))\n",
    "        save.click()\n",
    "        # 파일이 다운로드될 때까지 대기\n",
    "        path = f\"{save_dir}/지역_*\"\n",
    "        current_count = len(glob(path))\n",
    "        while len(glob(path)) <= current_count:\n",
    "            time.sleep(0.1)\n",
    "        # 파일 이름 변경\n",
    "        time.sleep(1)  # 파일이 완전히 다운로드될 때까지 추가 대기\n",
    "        downloaded_files = glob(f\"{save_dir}/지역_*\")\n",
    "        if downloaded_files:\n",
    "            latest_file = max(downloaded_files, key=os.path.getctime)\n",
    "            new_filename = f\"{save_dir}/{option}.xls\"\n",
    "            try:\n",
    "                os.rename(latest_file, new_filename)\n",
    "            except FileExistsError:\n",
    "                os.remove(new_filename)  # 기존 파일이 있다면 삭제\n",
    "                os.rename(latest_file, new_filename)\n",
    "    # 모든 파일을 부모 디렉토리로 이동\n",
    "    parent_dir = os.path.dirname(save_dir)\n",
    "    for file in os.listdir(save_dir):\n",
    "        src_path = os.path.join(save_dir, file)\n",
    "        dst_path = os.path.join(parent_dir, file)\n",
    "        try:\n",
    "            shutil.move(src_path, dst_path)\n",
    "        except FileExistsError:\n",
    "            os.remove(dst_path)  # 기존 파일이 있다면 삭제\n",
    "            shutil.move(src_path, dst_path)\n",
    "    # 빈 디렉토리 삭제\n",
    "    os.rmdir(save_dir)\n",
    "    driver.quit()\n",
    "# 메인 코드\n",
    "def main():\n",
    "    # 먼저 시도 목록 가져오기\n",
    "    options = webdriver.ChromeOptions()\n",
    "    driver = webdriver.Chrome(service=Service(\"/home/kms/dev_ws/eda/driver/chromedriver\"),\n",
    "                              options=options)\n",
    "    url = \"https://www.opinet.co.kr/searRgSelect.do\"\n",
    "    for _ in range(2):\n",
    "        driver.get(url)\n",
    "        time.sleep(1)\n",
    "    sido_btn = driver.find_element(By.ID, \"SIDO_NM0\")\n",
    "    sido_option = sido_btn.find_elements(By.TAG_NAME, \"option\")\n",
    "    sido_list = [value for option in sido_option if len(value := option.get_attribute(\"value\"))>0]\n",
    "    sigungu_btn = driver.find_element(By.ID, \"SIGUNGU_NM0\")\n",
    "    sigungu_option = sigungu_btn.find_elements(By.TAG_NAME, \"option\")\n",
    "    sigungu_list = [value for option in sigungu_option if len(value := option.get_attribute(\"value\"))>0]\n",
    "    driver.quit()\n",
    "    # 시도 목록을 5개 쓰레드로 나누기\n",
    "    num_threads = 5\n",
    "    chunk_size = len(sigungu_list) // num_threads\n",
    "    if len(sigungu_list) % num_threads != 0:\n",
    "        chunk_size += 1\n",
    "    sigungu_chunks = [sigungu_list[i:i+chunk_size] for i in range(0, len(sigungu_list), chunk_size)]\n",
    "    # 필요한 경우 빈 청크 추가 (쓰레드 수보다 시도 수가 적을 경우)\n",
    "    while len(sigungu_chunks) < num_threads:\n",
    "        sigungu_chunks.append([])\n",
    "    # 쓰레드 생성 및 실행\n",
    "    threads = []\n",
    "    for i in range(num_threads):\n",
    "        thread = threading.Thread(target=scrape_data, args=(i+1, sigungu_chunks[i]))\n",
    "        threads.append(thread)\n",
    "        thread.start()\n",
    "    # 모든 쓰레드가 완료될 때까지 대기\n",
    "    for thread in threads:\n",
    "        thread.join()\n",
    "# 메인 함수 실행\n",
    "if __name__ == \"__main__\":\n",
    "    main()"
   ]
  },
  {
   "cell_type": "code",
   "execution_count": 6,
   "metadata": {},
   "outputs": [
    {
     "data": {
      "text/plain": [
       "25"
      ]
     },
     "execution_count": 6,
     "metadata": {},
     "output_type": "execute_result"
    }
   ],
   "source": [
    "len(glob(\"/home/kms/dev_ws/eda/data/*구.xls\"))"
   ]
  },
  {
   "cell_type": "code",
   "execution_count": 7,
   "metadata": {},
   "outputs": [
    {
     "name": "stdout",
     "output_type": "stream",
     "text": [
      "25\n"
     ]
    },
    {
     "data": {
      "text/plain": [
       "['/home/kms/dev_ws/eda/data/강동구.xls',\n",
       " '/home/kms/dev_ws/eda/data/관악구.xls',\n",
       " '/home/kms/dev_ws/eda/data/은평구.xls',\n",
       " '/home/kms/dev_ws/eda/data/강북구.xls',\n",
       " '/home/kms/dev_ws/eda/data/광진구.xls',\n",
       " '/home/kms/dev_ws/eda/data/양천구.xls',\n",
       " '/home/kms/dev_ws/eda/data/용산구.xls',\n",
       " '/home/kms/dev_ws/eda/data/성동구.xls',\n",
       " '/home/kms/dev_ws/eda/data/중랑구.xls',\n",
       " '/home/kms/dev_ws/eda/data/노원구.xls',\n",
       " '/home/kms/dev_ws/eda/data/도봉구.xls',\n",
       " '/home/kms/dev_ws/eda/data/동대문구.xls',\n",
       " '/home/kms/dev_ws/eda/data/성북구.xls',\n",
       " '/home/kms/dev_ws/eda/data/강서구.xls',\n",
       " '/home/kms/dev_ws/eda/data/종로구.xls',\n",
       " '/home/kms/dev_ws/eda/data/금천구.xls',\n",
       " '/home/kms/dev_ws/eda/data/서대문구.xls',\n",
       " '/home/kms/dev_ws/eda/data/동작구.xls',\n",
       " '/home/kms/dev_ws/eda/data/중구.xls',\n",
       " '/home/kms/dev_ws/eda/data/서초구.xls',\n",
       " '/home/kms/dev_ws/eda/data/강남구.xls',\n",
       " '/home/kms/dev_ws/eda/data/마포구.xls',\n",
       " '/home/kms/dev_ws/eda/data/영등포구.xls',\n",
       " '/home/kms/dev_ws/eda/data/송파구.xls',\n",
       " '/home/kms/dev_ws/eda/data/구로구.xls']"
      ]
     },
     "execution_count": 7,
     "metadata": {},
     "output_type": "execute_result"
    }
   ],
   "source": [
    "file_list = glob(\"/home/kms/dev_ws/eda/data/*구.xls\")\n",
    "print(len(file_list))\n",
    "file_list"
   ]
  },
  {
   "cell_type": "code",
   "execution_count": 8,
   "metadata": {},
   "outputs": [
    {
     "data": {
      "text/html": [
       "<div>\n",
       "<style scoped>\n",
       "    .dataframe tbody tr th:only-of-type {\n",
       "        vertical-align: middle;\n",
       "    }\n",
       "\n",
       "    .dataframe tbody tr th {\n",
       "        vertical-align: top;\n",
       "    }\n",
       "\n",
       "    .dataframe thead th {\n",
       "        text-align: right;\n",
       "    }\n",
       "</style>\n",
       "<table border=\"1\" class=\"dataframe\">\n",
       "  <thead>\n",
       "    <tr style=\"text-align: right;\">\n",
       "      <th></th>\n",
       "      <th>지역</th>\n",
       "      <th>상호</th>\n",
       "      <th>주소</th>\n",
       "      <th>상표</th>\n",
       "      <th>전화번호</th>\n",
       "      <th>셀프여부</th>\n",
       "      <th>고급휘발유</th>\n",
       "      <th>휘발유</th>\n",
       "      <th>경유</th>\n",
       "      <th>실내등유</th>\n",
       "    </tr>\n",
       "  </thead>\n",
       "  <tbody>\n",
       "    <tr>\n",
       "      <th>11</th>\n",
       "      <td>서울특별시</td>\n",
       "      <td>천호현대주유소</td>\n",
       "      <td>서울 강동구 천중로 67 (천호동)</td>\n",
       "      <td>HD현대오일뱅크</td>\n",
       "      <td>02-484-9323</td>\n",
       "      <td>N</td>\n",
       "      <td>-</td>\n",
       "      <td>1938</td>\n",
       "      <td>1793</td>\n",
       "      <td>-</td>\n",
       "    </tr>\n",
       "    <tr>\n",
       "      <th>12</th>\n",
       "      <td>서울특별시</td>\n",
       "      <td>광성주유소</td>\n",
       "      <td>서울 강동구 올림픽로 673 (천호동)</td>\n",
       "      <td>S-OIL</td>\n",
       "      <td>02-470-5133</td>\n",
       "      <td>N</td>\n",
       "      <td>-</td>\n",
       "      <td>1968</td>\n",
       "      <td>1858</td>\n",
       "      <td>-</td>\n",
       "    </tr>\n",
       "  </tbody>\n",
       "</table>\n",
       "</div>"
      ],
      "text/plain": [
       "       지역       상호                     주소        상표         전화번호 셀프여부 고급휘발유  \\\n",
       "11  서울특별시  천호현대주유소    서울 강동구 천중로 67 (천호동)  HD현대오일뱅크  02-484-9323    N     -   \n",
       "12  서울특별시    광성주유소  서울 강동구 올림픽로 673 (천호동)     S-OIL  02-470-5133    N     -   \n",
       "\n",
       "     휘발유    경유 실내등유  \n",
       "11  1938  1793    -  \n",
       "12  1968  1858    -  "
      ]
     },
     "execution_count": 8,
     "metadata": {},
     "output_type": "execute_result"
    }
   ],
   "source": [
    "import pandas as pd\n",
    "\n",
    "data = pd.read_excel(file_list[0], header=2)\n",
    "data.tail(2)"
   ]
  },
  {
   "cell_type": "code",
   "execution_count": 9,
   "metadata": {},
   "outputs": [
    {
     "data": {
      "text/plain": [
       "422"
      ]
     },
     "execution_count": 9,
     "metadata": {},
     "output_type": "execute_result"
    }
   ],
   "source": [
    "data_list = []\n",
    "\n",
    "for file in file_list:\n",
    "    data = pd.read_excel(file, header=2)\n",
    "    data_list.append(data)\n",
    "\n",
    "oil_data = pd.concat(data_list)\n",
    "len(oil_data)"
   ]
  },
  {
   "cell_type": "code",
   "execution_count": 10,
   "metadata": {},
   "outputs": [
    {
     "data": {
      "text/plain": [
       "np.int64(0)"
      ]
     },
     "execution_count": 10,
     "metadata": {},
     "output_type": "execute_result"
    }
   ],
   "source": [
    "duplicated = oil_data.duplicated()\n",
    "duplicated.sum()"
   ]
  }
 ],
 "metadata": {
  "kernelspec": {
   "display_name": "eda_venv",
   "language": "python",
   "name": "python3"
  },
  "language_info": {
   "codemirror_mode": {
    "name": "ipython",
    "version": 3
   },
   "file_extension": ".py",
   "mimetype": "text/x-python",
   "name": "python",
   "nbconvert_exporter": "python",
   "pygments_lexer": "ipython3",
   "version": "3.10.12"
  }
 },
 "nbformat": 4,
 "nbformat_minor": 2
}
