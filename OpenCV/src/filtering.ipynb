{
 "cells": [
  {
   "cell_type": "code",
   "execution_count": 1,
   "id": "63597619",
   "metadata": {},
   "outputs": [],
   "source": [
    "import cv2\n",
    "import sys\n",
    "import numpy as np"
   ]
  },
  {
   "cell_type": "markdown",
   "id": "b86901d8",
   "metadata": {},
   "source": [
    "### blur"
   ]
  },
  {
   "cell_type": "code",
   "execution_count": 3,
   "id": "fb9d9263",
   "metadata": {},
   "outputs": [],
   "source": [
    "src = cv2.imread(\"../data/rose.bmp\", cv2.IMREAD_GRAYSCALE)\n",
    "\n",
    "dst = cv2.blur(src, (3,3))\n",
    "\n",
    "cv2.imshow(\"src\", src)\n",
    "cv2.imshow(\"dst\", dst)\n",
    "cv2.waitKey()\n",
    "\n",
    "cv2.destroyAllWindows()"
   ]
  },
  {
   "cell_type": "markdown",
   "id": "478e7fe8",
   "metadata": {},
   "source": [
    "### blur kernel값 변경하면서 확인해보기"
   ]
  },
  {
   "cell_type": "code",
   "execution_count": 9,
   "id": "076e4822",
   "metadata": {},
   "outputs": [],
   "source": [
    "src = cv2.imread(\"../data/rose.bmp\", cv2.IMREAD_GRAYSCALE)\n",
    "cv2.imshow(\"src\", src)\n",
    "\n",
    "blurred_list = []\n",
    "\n",
    "for ksize in (3, 5, 7):\n",
    "    dst = cv2.blur(src, (ksize, ksize))\n",
    "\n",
    "    # 설명 텍스트 추가\n",
    "    desc = f'Mean: {ksize}x{ksize}'\n",
    "    dst_color = cv2.cvtColor(dst, cv2.COLOR_GRAY2BGR)  # putText는 컬러에서 잘 보여\n",
    "    cv2.putText(dst_color, desc, (10, 30), cv2.FONT_HERSHEY_SIMPLEX,\n",
    "                1.0, (0, 0, 255), 2, cv2.LINE_AA)\n",
    "\n",
    "    blurred_list.append(dst_color)\n",
    "\n",
    "# 가로로 이미지 이어붙이기\n",
    "combined = cv2.hconcat(blurred_list)\n",
    "\n",
    "cv2.imshow(\"All Mean Blurs\", combined)\n",
    "cv2.waitKey()\n",
    "\n",
    "cv2.destroyAllWindows()\n"
   ]
  },
  {
   "cell_type": "markdown",
   "id": "4154b3cc",
   "metadata": {},
   "source": [
    "### 가우시안 블러 함수"
   ]
  },
  {
   "cell_type": "code",
   "execution_count": 13,
   "id": "f3e44d90",
   "metadata": {},
   "outputs": [],
   "source": [
    "src = cv2.imread(\"../data/rose.bmp\", cv2.IMREAD_GRAYSCALE)\n",
    "cv2.imshow(\"src\", src)\n",
    "\n",
    "for sigma in range(1, 6):\n",
    "    dst = cv2.GaussianBlur(src, (0, 0), sigma)\n",
    "\n",
    "    # 텍스트 표시용 컬러 이미지로 변환\n",
    "    dst_color = cv2.cvtColor(dst, cv2.COLOR_GRAY2BGR)\n",
    "    desc = f'sigma = {sigma}'\n",
    "    cv2.putText(dst_color, desc, (10, 30), cv2.FONT_HERSHEY_SIMPLEX,\n",
    "                1.0, (0, 0, 255), 2, cv2.LINE_AA)\n",
    "\n",
    "    # 창 이름 다르게 해서 모두 띄우기\n",
    "    win_name = f'Gaussian Blur sigma={sigma}'\n",
    "    cv2.imshow(win_name, dst_color)\n",
    "\n",
    "cv2.waitKey()\n",
    "cv2.destroyAllWindows()"
   ]
  },
  {
   "cell_type": "markdown",
   "id": "e00c4af5",
   "metadata": {},
   "source": [
    "### 샤프닝 필터 - 흑백"
   ]
  },
  {
   "cell_type": "code",
   "execution_count": 15,
   "id": "02795f27",
   "metadata": {},
   "outputs": [],
   "source": [
    "src = cv2.imread(\"../data/rose.bmp\", cv2.IMREAD_GRAYSCALE)\n",
    "\n",
    "blr = cv2.GaussianBlur(src, (0, 0), 2)\n",
    "dst = np.clip(2.0*src - blr, 0, 255).astype(np.uint8)\n",
    "\n",
    "cv2.imshow(\"src\", src)\n",
    "cv2.imshow(\"blr\", blr)\n",
    "cv2.imshow(\"dst\", dst)\n",
    "cv2.waitKey()\n",
    "\n",
    "cv2.destroyAllWindows()"
   ]
  },
  {
   "cell_type": "markdown",
   "id": "6fd07f7f",
   "metadata": {},
   "source": [
    "### 샤프닝필터 - 컬러"
   ]
  },
  {
   "cell_type": "code",
   "execution_count": 18,
   "id": "be3b3bb8",
   "metadata": {},
   "outputs": [],
   "source": [
    "src = cv2.imread(\"../data/rose.bmp\")\n",
    "\n",
    "src_ycrcb = cv2.cvtColor(src, cv2.COLOR_BGR2YCrCb)\n",
    "\n",
    "src_f = src_ycrcb[:, :, 0].astype(np.float32)\n",
    "blr = cv2.GaussianBlur(src_f, (0, 0), 2.0)\n",
    "src_ycrcb[:, :, 0] = np.clip(2. * src_f - blr, 0, 255).astype(np.uint8)\n",
    "\n",
    "dst = cv2.cvtColor(src_ycrcb, cv2.COLOR_YCrCb2BGR)\n",
    "\n",
    "cv2.imshow(\"src\", src)\n",
    "cv2.imshow(\"dst\", dst)\n",
    "cv2.waitKey()\n",
    "\n",
    "cv2.destroyAllWindows()"
   ]
  },
  {
   "cell_type": "markdown",
   "id": "71fbd4e5",
   "metadata": {},
   "source": [
    "### 메디안 블러"
   ]
  },
  {
   "cell_type": "code",
   "execution_count": 2,
   "id": "7a12a03a",
   "metadata": {},
   "outputs": [],
   "source": [
    "src = cv2.imread(\"../data/noise.bmp\", cv2.IMREAD_GRAYSCALE)\n",
    "\n",
    "dst = cv2.medianBlur(src, 3)\n",
    "\n",
    "cv2.imshow(\"src\", src)\n",
    "cv2.imshow(\"dst\", dst)\n",
    "cv2.waitKey()\n",
    "\n",
    "cv2.destroyAllWindows()"
   ]
  },
  {
   "cell_type": "markdown",
   "id": "78d4593a",
   "metadata": {},
   "source": [
    "### 양방향(좌표공간, 색공간) 필터"
   ]
  },
  {
   "cell_type": "code",
   "execution_count": 6,
   "id": "3a55e2ea",
   "metadata": {},
   "outputs": [],
   "source": [
    "src = cv2.imread(\"../data/lenna.bmp\")\n",
    "dst = cv2.bilateralFilter(src, -1, 10, 5)\n",
    "\n",
    "cv2.imshow(\"src\", src)\n",
    "cv2.imshow(\"dst\", dst)\n",
    "cv2.waitKey()\n",
    "\n",
    "cv2.destroyAllWindows()"
   ]
  },
  {
   "cell_type": "markdown",
   "id": "aeecf76f",
   "metadata": {},
   "source": [
    "### 카툰필터 카메라, 스케치 카메라"
   ]
  },
  {
   "cell_type": "code",
   "execution_count": 9,
   "id": "7f3f7bd2",
   "metadata": {},
   "outputs": [],
   "source": [
    "def cartoon_filter(img):\n",
    "    h, w = img.shape[:2]\n",
    "    img2 = cv2.resize(img, (w//2, h//2))\n",
    "\n",
    "    blr = cv2.bilateralFilter(img2, -1, 20, 7)\n",
    "    edge = 255 - cv2.Canny(img2, 80, 120)\n",
    "    edge = cv2.cvtColor(edge, cv2.COLOR_GRAY2BGR)\n",
    "\n",
    "    dst = cv2.bitwise_and(blr, edge)\n",
    "    dst = cv2.resize(dst, (w, h), interpolation=cv2.INTER_NEAREST)\n",
    "\n",
    "    return dst\n",
    "\n",
    "def pencil_sketch(img):\n",
    "    gray = cv2.cvtColor(img, cv2.COLOR_BGR2GRAY)\n",
    "    blr = cv2.GaussianBlur(gray, (0,0), 3)\n",
    "    dst = cv2.divide(gray, blr, scale=255)\n",
    "    return dst\n",
    "cap = cv2.VideoCapture(0)\n",
    "\n",
    "if not cap.isOpened():\n",
    "    print(\"video open failed!\")\n",
    "    sys.exit()\n",
    "\n",
    "cam_mode = 0\n",
    "\n",
    "while True:\n",
    "    ret, frame = cap.read()\n",
    "\n",
    "    if not ret:\n",
    "        break\n",
    "\n",
    "    if cam_mode == 1:\n",
    "        frame = cartoon_filter(frame)\n",
    "    elif cam_mode == 2:\n",
    "        frame = pencil_sketch(frame)\n",
    "        frame = cv2.cvtColor(frame, cv2.COLOR_GRAY2BGR)\n",
    "\n",
    "    cv2.imshow(\"frame\", frame)\n",
    "    key = cv2.waitKey(1)\n",
    "\n",
    "    if key == 27:\n",
    "        break\n",
    "    elif key == ord(\" \"):\n",
    "        cam_mode += 1\n",
    "        if cam_mode == 3:\n",
    "            cam_mode = 0\n",
    "\n",
    "cap.release()\n",
    "cv2.destroyAllWindows()"
   ]
  }
 ],
 "metadata": {
  "kernelspec": {
   "display_name": "opencv",
   "language": "python",
   "name": "python3"
  },
  "language_info": {
   "codemirror_mode": {
    "name": "ipython",
    "version": 3
   },
   "file_extension": ".py",
   "mimetype": "text/x-python",
   "name": "python",
   "nbconvert_exporter": "python",
   "pygments_lexer": "ipython3",
   "version": "3.12.3"
  }
 },
 "nbformat": 4,
 "nbformat_minor": 5
}
