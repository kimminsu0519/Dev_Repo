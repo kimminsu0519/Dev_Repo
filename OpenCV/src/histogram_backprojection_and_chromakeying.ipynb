{
 "cells": [
  {
   "cell_type": "markdown",
   "id": "b343118a",
   "metadata": {},
   "source": [
    "# 크로마키 역투영과 크로마키"
   ]
  },
  {
   "cell_type": "code",
   "execution_count": 2,
   "id": "a6c24475",
   "metadata": {},
   "outputs": [],
   "source": [
    "import cv2\n",
    "import matplotlib.pyplot as plt"
   ]
  },
  {
   "cell_type": "markdown",
   "id": "3131be15",
   "metadata": {},
   "source": [
    "### 특정 부분 선택해서 특정 부분의 색상 히스토그램만 남겨서 투영하기"
   ]
  },
  {
   "cell_type": "code",
   "execution_count": 3,
   "id": "de6075a6",
   "metadata": {},
   "outputs": [
    {
     "name": "stdout",
     "output_type": "stream",
     "text": [
      "Select a ROI and then press SPACE or ENTER button!\n",
      "Cancel the selection process by pressing c button!\n"
     ]
    }
   ],
   "source": [
    "src = cv2.imread(\"../data/cropland.png\")\n",
    "\n",
    "x, y, w, h = cv2.selectROI(src)\n",
    "\n",
    "src_ycrcb = cv2.cvtColor(src, cv2.COLOR_BGR2YCrCb)\n",
    "crop = src_ycrcb[y:y+h, x:x+h]\n",
    "\n",
    "channels = [1,2]\n",
    "cr_bins = 128\n",
    "cb_bins = 128\n",
    "histSize = [cr_bins, cb_bins]\n",
    "cr_range = [0, 256]\n",
    "cb_range = [0, 256]\n",
    "ranges = cr_range + cb_range\n",
    "\n",
    "hist = cv2.calcHist([crop], channels, None, histSize, ranges)\n",
    "hist_norm = cv2.normalize(cv2.log(hist+1), None, 0, 255, cv2.NORM_MINMAX, cv2.CV_8U)\n",
    "\n",
    "backproj = cv2.calcBackProject([src_ycrcb], channels, hist, ranges, 1)\n",
    "dst = cv2.copyTo(src, backproj)\n",
    "\n",
    "cv2.imshow(\"backproj\", backproj)\n",
    "cv2.imshow(\"hist_norm\", hist_norm)\n",
    "cv2.imshow(\"dst\", dst)\n",
    "\n",
    "cv2.waitKey()\n",
    "cv2.destroyAllWindows()"
   ]
  },
  {
   "cell_type": "markdown",
   "id": "11e89e78",
   "metadata": {},
   "source": [
    "### mask를 이용해서 다른 예시"
   ]
  },
  {
   "cell_type": "code",
   "execution_count": 3,
   "id": "d9ab5e0d",
   "metadata": {},
   "outputs": [],
   "source": [
    "ref = cv2.imread(\"../data/kids1.png\", cv2.IMREAD_COLOR)\n",
    "mask = cv2.imread(\"../data/kids1_mask.png\", cv2.IMREAD_GRAYSCALE)\n",
    "\n",
    "ref_ycrcb = cv2.cvtColor(ref, cv2.COLOR_BGR2YCrCb)\n",
    "\n",
    "channels = [1, 2]\n",
    "ranges = [0, 256, 0, 256]\n",
    "hist = cv2.calcHist([ref_ycrcb], channels, mask, [128, 128], ranges)\n",
    "hist_norm = cv2.normalize(cv2.log(hist + 1), None, 0, 255, \n",
    "                          cv2.NORM_MINMAX, cv2.CV_8U)\n",
    "\n",
    "src = cv2.imread(\"../data/kids2.png\", cv2.IMREAD_COLOR)\n",
    "\n",
    "src_ycrcb = cv2.cvtColor(src, cv2.COLOR_BGR2YCrCb)\n",
    "\n",
    "backproj = cv2.calcBackProject([src_ycrcb], channels, hist, ranges, 1)\n",
    "\n",
    "cv2.imshow(\"src\", src)\n",
    "cv2.imshow(\"hist_norm\", hist_norm)\n",
    "cv2.imshow(\"backproj\", backproj)\n",
    "\n",
    "cv2.waitKey()\n",
    "cv2.destroyAllWindows()"
   ]
  },
  {
   "cell_type": "markdown",
   "id": "f853d228",
   "metadata": {},
   "source": [
    "### 크로마키\n",
    "- 크로마 키 영상을 HSV색 공간으로 변환\n",
    "- 아래는 스페이스바를 누르면 핑크색 공간이 배경으로 바뀜"
   ]
  },
  {
   "cell_type": "code",
   "execution_count": 24,
   "id": "7c74f632",
   "metadata": {},
   "outputs": [
    {
     "name": "stdout",
     "output_type": "stream",
     "text": [
      "frame_cnt1 370\n",
      "frame_cnt2 392\n"
     ]
    }
   ],
   "source": [
    "cap1 = cv2.VideoCapture(\"../data/video_src.mp4\")\n",
    "cap2 = cv2.VideoCapture(\"../data/video_bg.mp4\")\n",
    "\n",
    "frame_cnt1 = round(cap1.get(cv2.CAP_PROP_FRAME_COUNT))\n",
    "frame_cnt2 = round(cap2.get(cv2.CAP_PROP_FRAME_COUNT))\n",
    "print(\"frame_cnt1\", frame_cnt1)\n",
    "print(\"frame_cnt2\", frame_cnt2)\n",
    "\n",
    "fps = cap1.get(cv2.CAP_PROP_FPS)\n",
    "delay = int(1000 / fps)\n",
    "\n",
    "# 합성 여부 플래그\n",
    "do_composit = False\n",
    "\n",
    "while True:\n",
    "    ret1, frame1 = cap1.read()\n",
    "\n",
    "    if not ret1:\n",
    "        break\n",
    "\n",
    "    if do_composit:\n",
    "        ret2, frame2 = cap2.read()\n",
    "        \n",
    "        if not ret2:\n",
    "            break\n",
    "\n",
    "        hsv = cv2.cvtColor(frame1, cv2.COLOR_BGR2HSV)\n",
    "        mask = cv2.inRange(hsv, (140, 150, 100), (170, 255, 255))\n",
    "        cv2.copyTo(frame2, mask, frame1)\n",
    "\n",
    "    cv2.imshow(\"frame\", frame1)\n",
    "    key = cv2.waitKey(delay)\n",
    "\n",
    "    if key == ord(\" \"):\n",
    "        do_composit = not do_composit\n",
    "    elif key == 27:\n",
    "        break\n",
    "\n",
    "cap1.release()\n",
    "cap2.release()\n",
    "cv2.destroyAllWindows()"
   ]
  }
 ],
 "metadata": {
  "kernelspec": {
   "display_name": "opencv",
   "language": "python",
   "name": "python3"
  },
  "language_info": {
   "codemirror_mode": {
    "name": "ipython",
    "version": 3
   },
   "file_extension": ".py",
   "mimetype": "text/x-python",
   "name": "python",
   "nbconvert_exporter": "python",
   "pygments_lexer": "ipython3",
   "version": "3.12.3"
  }
 },
 "nbformat": 4,
 "nbformat_minor": 5
}
