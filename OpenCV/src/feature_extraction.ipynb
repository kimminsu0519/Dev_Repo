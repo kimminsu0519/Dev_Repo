{
 "cells": [
  {
   "cell_type": "markdown",
   "id": "8b86895b",
   "metadata": {},
   "source": [
    "# 영상의 특징 추출\n",
    "### edge \n",
    "- 영상에서 픽셀의 밝기 값이 급격하게 변하는 부분\n",
    "- 일반적으로 배경과 객체, 또는 객체와 객체의 경계\n",
    "### 미분을 이용한 edge 검출\n",
    "- 영상을 (x,y) 변수의 함수로 간주했을 때, 이 함수의 1차 미분값이 크게 나타나는 부분을 검출"
   ]
  },
  {
   "cell_type": "markdown",
   "id": "b10517c5",
   "metadata": {},
   "source": [
    "### Sobel filter"
   ]
  },
  {
   "cell_type": "code",
   "execution_count": 1,
   "id": "9117016c",
   "metadata": {},
   "outputs": [],
   "source": [
    "import cv2\n",
    "import sys\n",
    "import numpy as np\n",
    "import matplotlib.pyplot as plt"
   ]
  },
  {
   "cell_type": "code",
   "execution_count": 2,
   "id": "c0be13b0",
   "metadata": {},
   "outputs": [],
   "source": [
    "src = cv2.imread(\"../data/lenna.bmp\", cv2.IMREAD_GRAYSCALE)\n",
    "\n",
    "dx = cv2.Sobel(src, -1, 1, 0, delta=128)\n",
    "dy = cv2.Sobel(src, -1, 0, 1, delta=128)\n",
    "\n",
    "cv2.imshow(\"src\", src)\n",
    "cv2.imshow(\"dx\", dx)\n",
    "cv2.imshow(\"dy\", dy)\n",
    "\n",
    "cv2.waitKey()\n",
    "cv2.destroyAllWindows()"
   ]
  },
  {
   "cell_type": "markdown",
   "id": "2b67b585",
   "metadata": {},
   "source": [
    "### 그레디언트\n",
    "- 함수 f(x,y)를 x축과 y축으로 각각 편미분 하여 벡터 형태로 표현한 것.\n",
    "- 영상에서 그레디언트?\n",
    "- 그레디언트 크기 : 픽셀 값의 차이 정도, 변화량\n",
    "- 그레디언트 방향 : 픽셀 값이 가장 급격하게 증가하는 방향"
   ]
  },
  {
   "cell_type": "markdown",
   "id": "cd4767f0",
   "metadata": {},
   "source": [
    "### Sobel edge extraction"
   ]
  },
  {
   "cell_type": "code",
   "execution_count": 6,
   "id": "cc1c9ddd",
   "metadata": {},
   "outputs": [],
   "source": [
    "src = cv2.imread(\"../data/lenna.bmp\", cv2.IMREAD_GRAYSCALE)\n",
    "\n",
    "dx = cv2.Sobel(src, cv2.CV_32F, 1, 0)\n",
    "dy = cv2.Sobel(src, cv2.CV_32F, 0, 1)\n",
    "\n",
    "mag = cv2.magnitude(dx, dy)\n",
    "mag = np.clip(mag, 0, 255).astype(np.uint8)\n",
    "_, dst = cv2.threshold(mag, 120, 255, cv2.THRESH_BINARY)\n",
    "\n",
    "cv2.imshow(\"src\", src)\n",
    "cv2.imshow(\"mag\", mag)\n",
    "cv2.imshow(\"dst\", dst)\n",
    "\n",
    "cv2.waitKey()\n",
    "cv2.destroyAllWindows()"
   ]
  },
  {
   "cell_type": "markdown",
   "id": "b5c3f54c",
   "metadata": {},
   "source": [
    "### canny edge extraction\n",
    "- 1단계\n",
    "    - 가우시안 필터링\n",
    "        - (optional) 잡음 제거 목적\n",
    "- 2단계\n",
    "    - 그레디언트 계산\n",
    "        - 주로 sobel mask 사용\n",
    "- 3단계\n",
    "    - 비최대 억제 (non-maximum suppression)\n",
    "        - 하나의 에지가 여러 개의 픽셀로 표현되는 현상을 없애기 위해 그래디언트 크기가 국지적 최대인 픽셀만 에지 픽셀로 설정\n",
    "        - 그래디언트 방향에 위치한 두 개의 픽셀을 조사하여 국지적 최대를 검사\n",
    "- 4단계\n",
    "    - 히스테리시스 에지 트래킹 \n",
    "        - 두 개의 임계값을 사용"
   ]
  },
  {
   "cell_type": "code",
   "execution_count": 8,
   "id": "e4ba510a",
   "metadata": {},
   "outputs": [],
   "source": [
    "src = cv2.imread(\"../data/building.jpg\", cv2.IMREAD_GRAYSCALE)\n",
    "dst = cv2.Canny(src, 50, 150)\n",
    "\n",
    "cv2.imshow(\"src\", src)\n",
    "cv2.imshow(\"dst\", dst)\n",
    "\n",
    "cv2.waitKey()\n",
    "cv2.destroyAllWindows()"
   ]
  },
  {
   "cell_type": "markdown",
   "id": "9162d750",
   "metadata": {},
   "source": [
    "### 허프 변환 직선 검출\n",
    "- 2차원 영상 좌표에서 직선의 방정식을 파라미터 공간으로 변환하여 직선을 찾는 알고리즘"
   ]
  },
  {
   "cell_type": "code",
   "execution_count": 12,
   "id": "53a23206",
   "metadata": {},
   "outputs": [],
   "source": [
    "src = cv2.imread(\"../data/building.jpg\", cv2.IMREAD_GRAYSCALE)\n",
    "\n",
    "edges = cv2.Canny(src, 50, 150)\n",
    "\n",
    "lines = cv2.HoughLinesP(edges, 1, np.pi / 180., 160, \n",
    "                        minLineLength=50, maxLineGap=5)\n",
    "\n",
    "dst = cv2.cvtColor(edges, cv2.COLOR_GRAY2BGR)\n",
    "\n",
    "if lines is not None:\n",
    "    for i in range(lines.shape[0]):\n",
    "        pt1 = (lines[i][0][0], lines[i][0][1]) # 시작점 좌표\n",
    "        pt2 = (lines[i][0][2], lines[i][0][3]) # 끝점 좌표\n",
    "        cv2.line(dst, pt1, pt2, (0, 0, 255), 2, cv2.LINE_AA)\n",
    "\n",
    "cv2.imshow(\"src\", src)\n",
    "cv2.imshow(\"dst\", dst)\n",
    "\n",
    "cv2.waitKey()\n",
    "cv2.destroyAllWindows()"
   ]
  },
  {
   "cell_type": "markdown",
   "id": "f3f6a1ce",
   "metadata": {},
   "source": [
    "### 허프 원 검출"
   ]
  },
  {
   "cell_type": "code",
   "execution_count": 4,
   "id": "5be2983a",
   "metadata": {},
   "outputs": [],
   "source": [
    "src = cv2.imread(\"../data/dial.jpg\")\n",
    "\n",
    "gray = cv2.cvtColor(src, cv2.COLOR_BGR2GRAY)\n",
    "blr = cv2.GaussianBlur(gray, (0, 0), 1.0)\n",
    "\n",
    "def on_trackbar(pos):\n",
    "    rmin = cv2.getTrackbarPos(\"minRadius\", \"img\")\n",
    "    rmax = cv2.getTrackbarPos(\"maxRadius\", \"img\")\n",
    "    th = max(1, cv2.getTrackbarPos(\"threshold\", \"img\"))  # 0이 되지 않게\n",
    "\n",
    "\n",
    "    circles = cv2.HoughCircles(blr, cv2.HOUGH_GRADIENT, 1, 50, \n",
    "                               param1=120, param2=th, minRadius=rmin, maxRadius=rmax)\n",
    "    \n",
    "    dst = src.copy()\n",
    "    if circles is not None:\n",
    "        for i in range(circles.shape[1]):\n",
    "            cx, cy, radius = map(int, circles[0][i])  # 정수형으로 변환\n",
    "            cv2.circle(dst, (cx, cy), radius, (0, 0, 255), 2, cv2.LINE_AA)\n",
    "            \n",
    "    cv2.imshow(\"img\", dst)\n",
    "\n",
    "# 트랙바 생성\n",
    "cv2.imshow('img', src)\n",
    "cv2.createTrackbar('minRadius', 'img', 0, 100, on_trackbar)\n",
    "cv2.createTrackbar('maxRadius', 'img', 0, 150, on_trackbar)\n",
    "cv2.createTrackbar('threshold', 'img', 0, 100, on_trackbar)\n",
    "cv2.setTrackbarPos('minRadius', 'img', 10)\n",
    "cv2.setTrackbarPos('maxRadius', 'img', 80)\n",
    "cv2.setTrackbarPos('threshold', 'img', 40)\n",
    "\n",
    "cv2.waitKey()\n",
    "cv2.destroyAllWindows()"
   ]
  },
  {
   "cell_type": "markdown",
   "id": "59e59a3e",
   "metadata": {},
   "source": [
    "### 신기한 예제. 동전 카운터"
   ]
  },
  {
   "cell_type": "code",
   "execution_count": null,
   "id": "30abaff6",
   "metadata": {},
   "outputs": [],
   "source": [
    "import cv2\n",
    "import numpy as np\n",
    "\n",
    "src = cv2.imread(\"../data/coins2.jpeg\")\n",
    "\n",
    "# 이미지 확대\n",
    "scale = 4.0\n",
    "src = cv2.resize(src, None, fx=scale, fy=scale, interpolation=cv2.INTER_CUBIC)\n",
    "\n",
    "gray = cv2.cvtColor(src, cv2.COLOR_BGR2GRAY)\n",
    "blr = cv2.GaussianBlur(gray, (0, 0), 1.0)\n",
    "\n",
    "def on_trackbar(pos):\n",
    "    rmin = cv2.getTrackbarPos(\"Radius min\", \"dst\")\n",
    "    rmax = cv2.getTrackbarPos(\"Radius max\", \"dst\")\n",
    "    th = max(1, cv2.getTrackbarPos(\"threshold\", \"dst\"))\n",
    "    hue1 = cv2.getTrackbarPos(\"Hue < 1\", \"dst\")\n",
    "    hue2 = cv2.getTrackbarPos(\"Hue < 2\", \"dst\")\n",
    "    hue3 = cv2.getTrackbarPos(\"Hue < 3\", \"dst\")\n",
    "\n",
    "    circles = cv2.HoughCircles(blr, cv2.HOUGH_GRADIENT, 1, 50,\n",
    "                               param1=150, param2=th,\n",
    "                               minRadius=rmin, maxRadius=rmax)\n",
    "\n",
    "    dst = src.copy()\n",
    "    sum_of_money = 0\n",
    "\n",
    "    if circles is not None:\n",
    "        for i in range(circles.shape[1]):\n",
    "            cx, cy, radius = map(int, circles[0][i])\n",
    "            cv2.circle(dst, (cx, cy), radius, (0, 0, 255), 2, cv2.LINE_AA)\n",
    "\n",
    "            x1 = max(cx - radius, 0)\n",
    "            y1 = max(cy - radius, 0)\n",
    "            x2 = min(cx + radius, dst.shape[1])\n",
    "            y2 = min(cy + radius, dst.shape[0])\n",
    "            radius = int(radius)\n",
    "\n",
    "            crop = dst[y1:y2, x1:x2, :]\n",
    "            ch, cw = crop.shape[:2]\n",
    "\n",
    "            mask = np.zeros((ch, cw), np.uint8)\n",
    "            cv2.circle(mask, (cw//2, ch//2), radius, 255, -1)\n",
    "\n",
    "            hsv = cv2.cvtColor(crop, cv2.COLOR_BGR2HSV)\n",
    "            hue, _, _ = cv2.split(hsv)\n",
    "            mean_of_hue = cv2.mean(hue, mask)[0]\n",
    "\n",
    "            # 수정된 Hue 기준\n",
    "            if mean_of_hue < hue1:\n",
    "                won = 50\n",
    "            elif mean_of_hue < hue2:\n",
    "                won = 10\n",
    "            elif mean_of_hue < hue3:\n",
    "                won = 500\n",
    "            else:\n",
    "                won = 100\n",
    "\n",
    "            sum_of_money += won\n",
    "\n",
    "            cv2.putText(dst, f\"{won}won\", (cx - 30, cy),\n",
    "                        cv2.FONT_HERSHEY_SIMPLEX, 0.7, (255, 0, 0), 2, cv2.LINE_AA)\n",
    "\n",
    "    cv2.putText(dst, f\"sum_of_money: {sum_of_money}won\", (30, 60),\n",
    "                cv2.FONT_HERSHEY_DUPLEX, 1.5, (0, 0, 255), 2, cv2.LINE_AA)\n",
    "    cv2.imshow(\"dst\", dst)\n",
    "\n",
    "# 트랙바 생성\n",
    "cv2.imshow(\"dst\", src)\n",
    "cv2.createTrackbar(\"Radius min\", \"dst\", 0, 200, on_trackbar)\n",
    "cv2.createTrackbar(\"Radius max\", \"dst\", 0, 200, on_trackbar)\n",
    "cv2.createTrackbar(\"threshold\", \"dst\", 1, 100, on_trackbar)\n",
    "cv2.createTrackbar(\"Hue < 1\", \"dst\", 0, 179, on_trackbar)\n",
    "cv2.createTrackbar(\"Hue < 2\", \"dst\", 0, 179, on_trackbar)\n",
    "cv2.createTrackbar(\"Hue < 3\", \"dst\", 0, 179, on_trackbar)\n",
    "\n",
    "# 초기값 설정\n",
    "cv2.setTrackbarPos(\"Radius min\", \"dst\", 95)\n",
    "cv2.setTrackbarPos(\"Radius max\", \"dst\", 146)\n",
    "cv2.setTrackbarPos(\"threshold\", \"dst\", 49)\n",
    "cv2.setTrackbarPos(\"Hue < 1\", \"dst\", 14)\n",
    "cv2.setTrackbarPos(\"Hue < 2\", \"dst\", 48)\n",
    "cv2.setTrackbarPos(\"Hue < 3\", \"dst\", 145)\n",
    "\n",
    "on_trackbar(0)\n",
    "cv2.waitKey()\n",
    "cv2.destroyAllWindows()"
   ]
  }
 ],
 "metadata": {
  "kernelspec": {
   "display_name": "opencv",
   "language": "python",
   "name": "python3"
  },
  "language_info": {
   "codemirror_mode": {
    "name": "ipython",
    "version": 3
   },
   "file_extension": ".py",
   "mimetype": "text/x-python",
   "name": "python",
   "nbconvert_exporter": "python",
   "pygments_lexer": "ipython3",
   "version": "3.12.3"
  }
 },
 "nbformat": 4,
 "nbformat_minor": 5
}
