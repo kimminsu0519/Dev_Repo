{
 "cells": [
  {
   "cell_type": "code",
   "execution_count": 2,
   "metadata": {},
   "outputs": [
    {
     "name": "stdout",
     "output_type": "stream",
     "text": [
      "{\n",
      "\t\"lastBuildDate\":\"Fri, 07 Mar 2025 11:17:44 +0900\",\n",
      "\t\"total\":525159,\n",
      "\t\"start\":1,\n",
      "\t\"display\":10,\n",
      "\t\"items\":[\n",
      "\t\t{\n",
      "\t\t\t\"title\":\"대전자바학원 <b>파이썬<\\/b> 앱개발 공부하고 취업까지\",\n",
      "\t\t\t\"link\":\"https:\\/\\/blog.naver.com\\/mamansiri\\/223750243246\",\n",
      "\t\t\t\"description\":\"저는 <b>파이썬<\\/b>부터 시작해 백엔드 개발에 필요한 다양한 과정을 배우기로 결정했어요. <b>파이썬<\\/b>은 최근 많은 사람들이 주목하고 인기 있는 프로그래밍 언어로 특히 생성 AI 앱을 구축하고 싶다면 필수인 언어였고... \",\n",
      "\t\t\t\"bloggername\":\"반짝반짝 너와 나\",\n",
      "\t\t\t\"bloggerlink\":\"blog.naver.com\\/mamansiri\",\n",
      "\t\t\t\"postdate\":\"20250206\"\n",
      "\t\t},\n",
      "\t\t{\n",
      "\t\t\t\"title\":\"<b>파이썬<\\/b> 자격증 시험 종류 및 취득과정\",\n",
      "\t\t\t\"link\":\"https:\\/\\/blog.naver.com\\/hwani-0627\\/223748981099\",\n",
      "\t\t\t\"description\":\"오늘은 <b>파이썬<\\/b> 자격증 시험 종류 및 취득과정에 대해서 자세히 알려드리도록 하겠습니다. <b>파이썬<\\/b> 자격증은? <b>파이썬<\\/b> 자격증 시험은 C, C+, JAVA Script 등 여러 프로그래밍 언어들 중 하나인 Python을 학습하는... \",\n",
      "\t\t\t\"bloggername\":\"화닝의 일본어+교육 교실\",\n",
      "\t\t\t\"bloggerlink\":\"blog.naver.com\\/hwani-0627\",\n",
      "\t\t\t\"postdate\":\"20250205\"\n",
      "\t\t},\n",
      "\t\t{\n",
      "\t\t\t\"title\":\"AI소프트웨어 <b>파이썬<\\/b>데이터분석 AI융합교육 국비지원 취업\",\n",
      "\t\t\t\"link\":\"https:\\/\\/blog.naver.com\\/dkfjgb1657\\/223777999439\",\n",
      "\t\t\t\"description\":\"오늘은 AI소프트웨어 취업 준비 하는방법 <b>파이썬<\\/b>데이터분석 국비지원 과정에 관심이 있다면~ 도움 될... 환경에서 <b>파이썬<\\/b>데이터분석 기술까지 활용하는 연습을 하기 때문에 종합적인 도움이 되서... \",\n",
      "\t\t\t\"bloggername\":\"꼬꼬리아\",\n",
      "\t\t\t\"bloggerlink\":\"blog.naver.com\\/dkfjgb1657\",\n",
      "\t\t\t\"postdate\":\"20250228\"\n",
      "\t\t},\n",
      "\t\t{\n",
      "\t\t\t\"title\":\"(<b>파이썬<\\/b> 학습기록)역시 개발공부 바닥도 고인물 투성. 내 길은... \",\n",
      "\t\t\t\"link\":\"https:\\/\\/blog.naver.com\\/currybread0\\/223761299487\",\n",
      "\t\t\t\"description\":\"최근 <b>파이썬<\\/b> 학습에 있어서 꽤나 큰 변화가 있었기에 이를 기록하고자 합니다. &quot;00 하지 마세요&quot; 투성이... 저의 경우에는 인프런 Dave Lee님의 강의 중 '크롤링' 수업을 통해 기본기를 깔짝 맛을 보며 <b>파이썬<\\/b>으로... \",\n",
      "\t\t\t\"bloggername\":\"찰나의 실행과 독서 그리고 성장\",\n",
      "\t\t\t\"bloggerlink\":\"blog.naver.com\\/currybread0\",\n",
      "\t\t\t\"postdate\":\"20250215\"\n",
      "\t\t},\n",
      "\t\t{\n",
      "\t\t\t\"title\":\"아나콘다 주피터 노트북 설치 <b>파이썬<\\/b> 프로그래밍 준비하기\",\n",
      "\t\t\t\"link\":\"https:\\/\\/blog.naver.com\\/skdaksdptn\\/223675613694\",\n",
      "\t\t\t\"description\":\"거의 모든 분야에서 생성형 AI에 관한 관심이 늘어나면서 인공지능을 활용한 <b>파이썬<\\/b> 프로그래밍... 아나콘다 (Ananconda) 설치 VS Code, PyCharm과 더불어 3대 <b>파이썬<\\/b> IDE로 통한다. 시스템 리소스를 적게 차지해... \",\n",
      "\t\t\t\"bloggername\":\"짜루의 이것저것 리뷰\",\n",
      "\t\t\t\"bloggerlink\":\"blog.naver.com\\/skdaksdptn\",\n",
      "\t\t\t\"postdate\":\"20241128\"\n",
      "\t\t},\n",
      "\t\t{\n",
      "\t\t\t\"title\":\"<b>파이썬<\\/b>자격증 시험 일정 및 공부방법\",\n",
      "\t\t\t\"link\":\"https:\\/\\/blog.naver.com\\/lunasea883\\/223700486618\",\n",
      "\t\t\t\"description\":\"이번 글에서는 위의 언어 중 <b>파이썬<\\/b>자격증 시험 일정 및 공부방법에 대해 말씀드리려고 합니다. <b>파이썬<\\/b> 장점 <b>파이썬<\\/b>자격증 장점은 다른 분야에 비해 진입이 간단하며 활용 범위가 넓다는 점에 있습니다.... \",\n",
      "\t\t\t\"bloggername\":\"JS 해피하게~★\",\n",
      "\t\t\t\"bloggerlink\":\"blog.naver.com\\/lunasea883\",\n",
      "\t\t\t\"postdate\":\"20241220\"\n",
      "\t\t},\n",
      "\t\t{\n",
      "\t\t\t\"title\":\"데이터 사이언스 <b>파이썬<\\/b> 판다스 코딩 인터뷰\",\n",
      "\t\t\t\"link\":\"https:\\/\\/blog.naver.com\\/data-scientist-luna\\/223769365357\",\n",
      "\t\t\t\"description\":\"<b>파이썬<\\/b>은 데싸용이라는 것보니까 판다스 일 것 같은데 일단, 예전에 네트워킹 해놨던 사람... 챗지피티한테 이 포스팅 주제로 쓸 그림 좀 그려달라고, 특히나 &quot;판다스 <b>파이썬<\\/b> 코딩 인터뷰&quot; 라고... \",\n",
      "\t\t\t\"bloggername\":\"데이터 사이언티스트 루나의 미국 유학 후 취업\",\n",
      "\t\t\t\"bloggerlink\":\"blog.naver.com\\/data-scientist-luna\",\n",
      "\t\t\t\"postdate\":\"20250222\"\n",
      "\t\t},\n",
      "\t\t{\n",
      "\t\t\t\"title\":\"윤가이코딩! 코딩밸리후기, <b>파이썬<\\/b>기초부터 챗GPT까지\",\n",
      "\t\t\t\"link\":\"https:\\/\\/blog.naver.com\\/sungdevilsh\\/223725619708\",\n",
      "\t\t\t\"description\":\"모바일앱 코딩 실습 <b>파이썬<\\/b>기초와 챗GPT를 심도 있게 배우고 싶은 1인! 출퇴근 시간은 1시간 정도... 지하철에서 짧은 시간에도 앱을 켜서 <b>파이썬<\\/b> 문법을 복습하고, ChatGPT 활용 팁을 간단히 학습할 수 있거든요!... \",\n",
      "\t\t\t\"bloggername\":\"쭈's Diary\",\n",
      "\t\t\t\"bloggerlink\":\"blog.naver.com\\/sungdevilsh\",\n",
      "\t\t\t\"postdate\":\"20250114\"\n",
      "\t\t},\n",
      "\t\t{\n",
      "\t\t\t\"title\":\"IT\\/<b>파이썬<\\/b>] AI 챗봇 등의... 혼자 만들면서 공부하는 <b>파이썬<\\/b>&quot;\",\n",
      "\t\t\t\"link\":\"https:\\/\\/blog.naver.com\\/rapperkjm\\/223784749634\",\n",
      "\t\t\t\"description\":\"바로 &quot;<b>파이썬<\\/b>&quot;입니다. <b>파이썬<\\/b>은 제가 대학을 다니던 2001년에도 있었지만, 그렇게까지 뜨지 못했고, 당시에 <b>파이썬<\\/b>이 2 버젼에서 3 버젼 올라가려고 하던 시기이기도 했습니다. 그리고 현재까지 3.x버젼을 쓰고... \",\n",
      "\t\t\t\"bloggername\":\"한껏 게을러터진 냥이 집사의 일기장\",\n",
      "\t\t\t\"bloggerlink\":\"blog.naver.com\\/rapperkjm\",\n",
      "\t\t\t\"postdate\":\"20250305\"\n",
      "\t\t},\n",
      "\t\t{\n",
      "\t\t\t\"title\":\"<b>파이썬<\\/b> 주식 분석 자동매매 근황. 수익률 스포 조금(2025.02.19)\",\n",
      "\t\t\t\"link\":\"https:\\/\\/blog.naver.com\\/bravozmylife\\/223766569140\",\n",
      "\t\t\t\"description\":\"한동안 주식을 수동 매매 하다가, 다시 <b>파이썬<\\/b> 소스를 꺼냈는데 주식 스크리닝 후 좀 더 주의깊게 종목을 선정했더니 90%가 1-2일사이에 수익이 난다. 이번 종목들은 단기 매매 용이 아니라(물론 언제든지... \",\n",
      "\t\t\t\"bloggername\":\"☆ 브라보의 마이라이프 ☆\",\n",
      "\t\t\t\"bloggerlink\":\"blog.naver.com\\/bravozmylife\",\n",
      "\t\t\t\"postdate\":\"20250219\"\n",
      "\t\t}\n",
      "\t]\n",
      "}\n"
     ]
    }
   ],
   "source": [
    "import os\n",
    "import sys\n",
    "import urllib.request\n",
    "\n",
    "client_id = \"qHNbmujOG4Hzz77oLZDq\"\n",
    "client_secret = \"68cSEVia41\"\n",
    "encText = urllib.parse.quote(\"파이썬\")\n",
    "url = \"https://openapi.naver.com/v1/search/blog?query=\" + encText # JSON 결과\n",
    "# url = \"https://openapi.naver.com/v1/search/blog.xml?query=\" + encText # XML 결과\n",
    "request = urllib.request.Request(url)\n",
    "request.add_header(\"X-Naver-Client-Id\",client_id)\n",
    "request.add_header(\"X-Naver-Client-Secret\",client_secret)\n",
    "\n",
    "response = urllib.request.urlopen(request)\n",
    "rescode = response.getcode()\n",
    "if(rescode==200):\n",
    "    try:\n",
    "        response_body = response.read()\n",
    "        print(response_body.decode('utf-8'))\n",
    "    except:\n",
    "        print(\"Error Code:\" + rescode)"
   ]
  },
  {
   "cell_type": "code",
   "execution_count": 3,
   "metadata": {},
   "outputs": [
    {
     "name": "stdout",
     "output_type": "stream",
     "text": [
      "{\n",
      "\t\"lastBuildDate\":\"Fri, 07 Mar 2025 11:17:46 +0900\",\n",
      "\t\"total\":1083,\n",
      "\t\"start\":1,\n",
      "\t\"display\":10,\n",
      "\t\"items\":[\n",
      "\t\t{\n",
      "\t\t\t\"title\":\"으뜸 파이썬 (개정판)\",\n",
      "\t\t\t\"link\":\"https:\\/\\/search.shopping.naver.com\\/book\\/catalog\\/48359296619\",\n",
      "\t\t\t\"image\":\"https:\\/\\/shopping-phinf.pstatic.net\\/main_4835929\\/48359296619.20240612092113.jpg\",\n",
      "\t\t\t\"author\":\"박동규^강영민\",\n",
      "\t\t\t\"discount\":\"31280\",\n",
      "\t\t\t\"publisher\":\"생능출판\",\n",
      "\t\t\t\"pubdate\":\"20240614\",\n",
      "\t\t\t\"isbn\":\"9791192932675\",\n",
      "\t\t\t\"description\":\"이 책의 구성\\n초판과 마찬가지로 이 책은 대학에서 교양 과정 수강생과 전공자들이 쉽게 프로그래밍을 접하고 흥미를 가질 수 있도록 구성하였다. 이를 위하여 파이썬 설치부터 기초적인 출력문, 연산자, 조건문, 반복문, 함수, 클래스 등에 관련된 설명과 많은 문제 풀이를 제공하고 있다. 뿐만 아니라, 다양한 모듈의 활용 방법과 넘파이 패키지 등 파이썬에 관한 깊이 있는 내용도 함께 다루고 있다. 각 장의 심화 내용은 [심화학습]이라는 별도의 표시를 하였다. 이 [심화학습]은 학생들의 흥미를 유발하는 깊이 있는 내용이며, 강사의 필요에 따라서 선택적으로 강의할 수 있다.\\n\\n개정판에서 초판과 달라진 점\\n초판은 11개 장(chapter)로 구성되었으나 개정판은 13개 장(chapter)로 구성되어 있다.\\n이 책은 개인 학습서로써도 활용 가능하지만, 대학의 15주 수업 교재로서도 적절하도록 고심하였다. 중간고사와 기말고사를 제외하고 13주 수업에서 다룰 수 있도록 파이썬 학습에 필요한 내용을 정리하였다. 초판에서는 일부 장들이 담고 있는 내용의 양이 균형 잡히지 않았던 부분이 있었지만, 이를 적절히 배분하여 새롭게 장을 구성하였다.\\n초판과 개정판을 비교하면, 우선 초판 3장 제어문은 그 양이 한 주의 수업으로 다루기에는 방대하여 개정판에서는 조건문과 반복문으로 나누어 각각을 3장과 4장의 별도 장에담았다.\\n이에 따라 초판의 4장에서 11장의 내용들은 개정판의 5장에서 12장까지를 차지하게 된다. 이와 함께 개정판 8장에서는 터틀 그래픽과 tkinter와 같이 파이썬 문법과 직접적 관련이 없는 활용 부분을 덜어내고 13장으로 옮겨 따로 정리하였다.\\n5장에서 12장까지의 내용은 초판의 내용을 그대로 옮긴 것은 아니다. 10장의 클래스와 객체지향에서는 상속과 관련한 내용을 새롭게 다루었고, 11장의 파이썬답게 코딩하기는 초판에서 다루었던 람다함수와 리스트 축약뿐만 아니라 파이썬의 장점을 더욱 잘 활용할 수 있는 코딩 방법에 대한 이해를 돕기 위해 노력했다. 그리고 12장의 넘파이는 외부 모듈인 넘파이를 활용하는 방법을 소개하는 데에 그치지 않고 파이썬이 성공을 거두는 데에 큰 기여를 한 넘파이가 가진 장점을 이해하고 활용할 수 있도록 개정하였다.\\n13장에서는 외부 모듈을 활용하여 조금 더 재미있는 파이썬 코딩을 할 수 있도록 하면서 초판에서 정확히 다루어지지 않았던 싱글턴 객체의 개념에 대한 설명 등을 더했다. 이러한 설명을 통해 외부 모듈의 클래스를 활용할 때 더욱 정확하고 바르게 사용할 수 있을 것이다.\"\n",
      "\t\t},\n",
      "\t\t{\n",
      "\t\t\t\"title\":\"새내기 파이썬\",\n",
      "\t\t\t\"link\":\"https:\\/\\/search.shopping.naver.com\\/book\\/catalog\\/33084056619\",\n",
      "\t\t\t\"image\":\"https:\\/\\/shopping-phinf.pstatic.net\\/main_3308405\\/33084056619.20230207163743.jpg\",\n",
      "\t\t\t\"author\":\"천인국\",\n",
      "\t\t\t\"discount\":\"27600\",\n",
      "\t\t\t\"publisher\":\"생능출판\",\n",
      "\t\t\t\"pubdate\":\"20220630\",\n",
      "\t\t\t\"isbn\":\"9788970505558\",\n",
      "\t\t\t\"description\":\"파이썬은 현재 가장 각광받는 언어라고 말할 수 있다. 최근에 인공지능이나 데이터 과학, 영상처리, 업무 자동화 분야는 파이썬으로 프로그램을 작성하는 것이 거의 표준으로 되어 있다. 해가 갈수록 각 분야에서 파이썬 활용이 폭발적으로 늘어나고 있다. 이 책은 다양한 전공의 학생들에게 파이썬을 소개하고, 해당 전공에서 파이썬을 활용하기 위한 목적으로 기획되었다. 이 책을 저술하면서 역점을 두었던 몇 가지는 다음과 같다.\\n\\nㆍ 파이썬 기초부터 심도 있는 내용까지를 다루려고 노력하였다.\\nㆍ 다양한 그림을 사용하여 내용을 쉽게 이해할 수 있도록 노력하였다.\\nㆍ 독자들이 흥미를 가질만한 예제(example)를 간추려서 제공하였다.\\nㆍ 독자들이 다양하게 변형시켜보고 실험할 수 있는 주제는 Lab으로 제공하였고 도전할 수 있는 주제를 제시하였다.\\nㆍ 독자들이 파이썬 기초를 학습한 후에, 다양한 라이브러리를 이용하여 작품을 만들 수 있도록 14장과 15장을 추가하였다. 14장에서는 데이터 과학을 위한 라이브러리들을 소개하였고 15장에서는 넘파이와 영상처리를 위한 라이브러리를 소개하였다.\"\n",
      "\t\t},\n",
      "\t\t{\n",
      "\t\t\t\"title\":\"혼자 만들면서 공부하는 파이썬 (37개 라이브러리와 API로 보고서, 차트, 게임, 맵, AI 챗봇 만들기|저자 직강 유튜브 강의, 오픈 채팅 제공)\",\n",
      "\t\t\t\"link\":\"https:\\/\\/search.shopping.naver.com\\/book\\/catalog\\/52859338841\",\n",
      "\t\t\t\"image\":\"https:\\/\\/shopping-phinf.pstatic.net\\/main_5285933\\/52859338841.20250209071357.jpg\",\n",
      "\t\t\t\"author\":\"문현일\",\n",
      "\t\t\t\"discount\":\"19800\",\n",
      "\t\t\t\"publisher\":\"한빛미디어\",\n",
      "\t\t\t\"pubdate\":\"20250214\",\n",
      "\t\t\t\"isbn\":\"9791169213271\",\n",
      "\t\t\t\"description\":\"“파이썬을 배워서 어디에 활용할 수 있을지 궁금했나요?”\\n나의 신용카드 내역 분석, 우리 아파트 실거래가 시각화해보기, 맛집 지도 웹 앱 만들기 등 \\n생활 속  15가지 파이썬 프로젝트를 직접 완성해 보며 재미있게 실전 경험 쌓기!\\n\\nQR 코드, 이미지 콜라주 등 일상과 가까운 생활형 프로젝트부터 부동산, 경제지표, 시가총액 같은 실용적인 데이터를 다루는 프로젝트, LLM, 멀티모달 AI와 TTS 등 최신 기술까지! 폭넓은 주제를 통해 흥미롭게 따라 해 보세요.\\n\\n●\\t 주식 & 경제 데이터 분석 - 시가총액, 기준금리, 주요 경제지표 데이터 분석 및 시각화하기\\n●\\t 부동산 실거래가 분석 - 지역별 단위면적당 아파트 매매 실거래가 평균 지도로 만들기\\n●\\t 멀티모달 AI & 챗봇 개발 - 생성형 AI와 챗봇을 활용한 실시간 영자 신문 스크레이핑\\n●\\t 웹 자동화 & 크롤링 - 연관 키워드 분석을 통한 연령별, 성별 쇼핑 트렌드 분석\\n●\\t 게임 & GUI 개발 - 슬라이딩 퍼즐, 영어 받아쓰기 앱으로 직접 만들어 보는 인터랙티브 프로젝트\"\n",
      "\t\t},\n",
      "\t\t{\n",
      "\t\t\t\"title\":\"두근두근 파이썬 (만들면서 배우는)\",\n",
      "\t\t\t\"link\":\"https:\\/\\/search.shopping.naver.com\\/book\\/catalog\\/36813141618\",\n",
      "\t\t\t\"image\":\"https:\\/\\/shopping-phinf.pstatic.net\\/main_3681314\\/36813141618.20230131165403.jpg\",\n",
      "\t\t\t\"author\":\"천인국\",\n",
      "\t\t\t\"discount\":\"23000\",\n",
      "\t\t\t\"publisher\":\"생능출판\",\n",
      "\t\t\t\"pubdate\":\"20230105\",\n",
      "\t\t\t\"isbn\":\"9788970506562\",\n",
      "\t\t\t\"description\":\"파이썬은 지금도 프로그래밍 언어 분야에 1위를 지키고 있는 매우 인기있는 언어이다. 파이썬은 인공지능이나 빅데이터 분야의 필수 언어가 되었고, 과학이나 공학 분야 뿐만 아니라 인문, 사회 과학 분야에서도 사용되고 있다. 무엇보다도 간결하고 사용하기가 쉬워서 그럴 것이다. 이번 개정판에서는 다음과 같은 점을 보완하고 수정하였다.\\n\\nㆍ 초판과 마찬가지로 적절한 그림을 가능한, 많이 사용하여 친숙하고, 지루하지 않으며 독자들이 이해하기 쉬운 교재를 만들려고 노력하였다. 터틀 그래픽과 tkinter 등을 이용하여서 흥미있는 예제들을 제공하려고 노력하였다.\\n\\nㆍ 파이썬이 인기있는 또 다른 이유는 강력한 라이브러리 때문이다. 초판에 비하여, 개정판에서는 라이브러리 사용 예제를 추가하였다. 너무 복잡한 라이브러리는 제외하였고 맷플롯립(MatPlotLib), 필로우(Pillow), OpenCV, PyGame 등의 기초적인 예제를 추가하였다.\\n\\nㆍ 예제 중에서 좀 더 심도있게 살펴보아야 할 주제는 LAB으로 제공하였다. LAB의 기본 소스를 학습자들이 수정 보완할 수 있도록 도전 문제를 추가하였다.\\n\\nㆍ 학습자들이 프로젝트로 진행할만한 주제들을 8장과 14장에 배치하여서 프로젝트 주제로 사용될 수 있도록 하였다.\"\n",
      "\t\t},\n",
      "\t\t{\n",
      "\t\t\t\"title\":\"혼자 공부하는 파이썬 (1:1 과외하듯 배우는 프로그래밍 자습서)\",\n",
      "\t\t\t\"link\":\"https:\\/\\/search.shopping.naver.com\\/book\\/catalog\\/32507605957\",\n",
      "\t\t\t\"image\":\"https:\\/\\/shopping-phinf.pstatic.net\\/main_3250760\\/32507605957.20230509170119.jpg\",\n",
      "\t\t\t\"author\":\"윤인성\",\n",
      "\t\t\t\"discount\":\"19800\",\n",
      "\t\t\t\"publisher\":\"한빛미디어\",\n",
      "\t\t\t\"pubdate\":\"20220601\",\n",
      "\t\t\t\"isbn\":\"9791162245651\",\n",
      "\t\t\t\"description\":\"혼자 해도 충분하다! 1:1 과외하듯 배우는 파이썬 프로그래밍 자습서\\n\\n『혼자 공부하는 파이썬』이 더욱 흥미있고 알찬 내용으로 개정되었습니다. 프로그래밍이 정말 처음인 입문자도 따라갈 수 있는 친절한 설명과 단계별 학습은 그대로! 혼자 공부하더라도 체계적으로 계획을 세워 학습할 수 있도록 ‘혼공 계획표’를 새롭게 추가했습니다. 또한 입문자가 자주 물어보는 질문과 오류 해결 방법을 적재적소에 배치하여 예상치 못한 문제에 부딪혀도 좌절하지 않고 끝까지 완독할 수 있도록 도와줍니다. 단순한 문법 암기와 코딩 따라하기에 지쳤다면, 새로운 혼공파와 함께 ‘누적 예제’와 ‘도전 문제’로 프로그래밍의 신세계를 경험해 보세요! 배운 내용을 씹고 뜯고 맛보고 즐기다 보면 응용력은 물론 알고리즘 사고력까지 키워 코딩 실력이 쑥쑥 성장할 것입니다.\\n\\n이 책은 독학으로 파이썬을 배우는 입문자가 ‘꼭 필요한 내용을 제대로 학습’할 수 있도록 구성했습니다. 뭘 모르는지조차 모르는 입문자의 막연한 마음에 십분 공감하여 과외 선생님이 알려주듯 친절하게, 핵심적인 내용만 콕콕 집어줍니다. 책의 첫 페이지를 펼쳐서 마지막 페이지를 덮을 때까지, 혼자서도 충분히 파이썬을 배울 수 있다는 자신감과 확신이 계속될 것입니다!\\n\\n베타리더와 함께 입문자에게 맞는 난이도, 분량, 학습 요소 등을 적극 반영했습니다. 어려운 용어와 개념은 한 번 더 풀어쓰고, 복잡한 설명은 눈에 잘 들어오는 그림으로 풀어냈습니다. ‘혼자 공부해 본’ 여러 입문자의 초심과 눈높이가 책 곳곳에 반영된 것이 이 책의 가장 큰 장점입니다.\"\n",
      "\t\t},\n",
      "\t\t{\n",
      "\t\t\t\"title\":\"밑바닥부터 시작하는 딥러닝 1(리마스터판) (파이썬으로 익히는 딥러닝 이론과 구현)\",\n",
      "\t\t\t\"link\":\"https:\\/\\/search.shopping.naver.com\\/book\\/catalog\\/52615553184\",\n",
      "\t\t\t\"image\":\"https:\\/\\/shopping-phinf.pstatic.net\\/main_5261555\\/52615553184.20250123071242.jpg\",\n",
      "\t\t\t\"author\":\"사이토 고키\",\n",
      "\t\t\t\"discount\":\"23400\",\n",
      "\t\t\t\"publisher\":\"한빛미디어\",\n",
      "\t\t\t\"pubdate\":\"20250124\",\n",
      "\t\t\t\"isbn\":\"9791169213387\",\n",
      "\t\t\t\"description\":\"딥러닝 분야 부동의 베스트셀러!\\n머리로 이해하고 손으로 익히는 가장 쉬운 딥러닝 입문서\\n\\n이 책은 딥러닝의 핵심 개념을 ‘밑바닥부터’ 구현해보며 기초를 한 걸음씩 탄탄하게 다질 수 있도록 도와주는 친절한 안내서입니다. 라이브러리나 프레임워크에 의존하지 않고 딥러닝의 기본 개념부터 이미지 인식에 활용되는 합성곱 신경망(CNN)까지 딥러닝의 원리를 체계적으로 설명합니다. 또한 복잡한 개념은 계산 그래프를 활용해 시각적으로 전달하여 누구나 쉽게 이해할 수 있습니다. 이 책은 딥러닝에 첫발을 내딛는 입문자는 물론이고 기초를 다시금 다지고 싶은 개발자와 연구자에게도 훌륭한 길잡이가 되어줄 것입니다.\"\n",
      "\t\t},\n",
      "\t\t{\n",
      "\t\t\t\"title\":\"Do it! 점프 투 파이썬 (중학생도 첫날부터 실습하는 초고속 입문서)\",\n",
      "\t\t\t\"link\":\"https:\\/\\/search.shopping.naver.com\\/book\\/catalog\\/40354085633\",\n",
      "\t\t\t\"image\":\"https:\\/\\/shopping-phinf.pstatic.net\\/main_4035408\\/40354085633.20230927071024.jpg\",\n",
      "\t\t\t\"author\":\"박응용\",\n",
      "\t\t\t\"discount\":\"19800\",\n",
      "\t\t\t\"publisher\":\"이지스퍼블리싱\",\n",
      "\t\t\t\"pubdate\":\"20230615\",\n",
      "\t\t\t\"isbn\":\"9791163034735\",\n",
      "\t\t\t\"description\":\"프로그래밍 분야 8년 연속 베스트셀러!\\n《Do it! 점프 투 파이썬》 전면 개정 2판 출시!\\n\\n중고등학생도, 비전공자도, 직장인도 프로그래밍에 눈뜨게 만든 바로 그 책이 전면 개정 2판으로 새롭게 태어났다! 챗GPT를 시작으로 펼쳐진 생성 AI 시대에 맞춰 설명과 예제를 다듬고, 최신 경향과 심화 내용을 보충했다. 또한 이번 개정 2판도 50만 코딩 유튜버인 조코딩과 협업을 통해 유튜브 동영상을 제공해 파이썬을 더 쉽게 공부할 수 있다.\\n\\n8년 연속 베스트셀러! 위키독스 누적 방문 300만! 독자의 입에서 입으로 전해진 추천과 수많은 대학 및 학원의 교재 채택을 통해 검증은 이미 끝났다. 코딩을 처음 배우는 중고등학생부터 코딩 소양을 기르려는 비전공자, 자기계발에 진심인 직장인까지! 이 책과 함께 파이썬 프로그래밍의 세계로 ‘점프’해 보자!\"\n",
      "\t\t},\n",
      "\t\t{\n",
      "\t\t\t\"title\":\"어서와 파이썬은 처음이지!\",\n",
      "\t\t\t\"link\":\"https:\\/\\/search.shopping.naver.com\\/book\\/catalog\\/45009748619\",\n",
      "\t\t\t\"image\":\"https:\\/\\/shopping-phinf.pstatic.net\\/main_4500974\\/45009748619.20240106090903.jpg\",\n",
      "\t\t\t\"author\":\"천인국\",\n",
      "\t\t\t\"discount\":\"31350\",\n",
      "\t\t\t\"publisher\":\"인피니티북스\",\n",
      "\t\t\t\"pubdate\":\"20240119\",\n",
      "\t\t\t\"isbn\":\"9791192373263\",\n",
      "\t\t\t\"description\":\"알 만한 사람들은 다 아는 파이썬 베스트셀러,\\n『어서와 파이썬은 처음이지!』 2판 출간!\\n\\n파이썬 입문자들에게 많은 사랑을 받았던 『어서와 파이썬은 처음이지!』가 7년만에 개정되었다. 2016년부터 지금까지 꾸준하게 선택받은 본서는, 파이썬의 가장 최신 버전을 반영하고 다음과 같은 부분을 보강하여 더욱 강력하게 돌아왔다.\\n\\n첫 번째, 기존 예제와 LAB을 보강하고 업데이트하였다. 특히 다양한 외부 라이브러리를 활용해 볼 수 있는 LAB들이 추가되었다. \\n두 번째, IT 트렌드에 맞는 주제로 여러 라이브러리를 활용해 볼 수 있도록, 파이썬 라이브러리를 활용한 데이터 분석 내용을 추가하였다(13장). 데이터 분석을 위한 필수 라이브러리인 넘파이(NumPy), 판다스(Pandas), 맷플롯립(MatplotLib)에 대해 설명하였고, 회귀 분석, 정규 분포, 애플 주식 데이터, 월별 매출 데이터 등을 시각화해 볼 수 있도록 하였다. 또한 경량 데이터베이스 엔진인 SQLite, 텍스트 빈도를 시각화할 수 있는 워드 클라우드를 실습해 볼 수 있도록 구성하였다.\\n세 번째, 파이썬 라이브러리를 활용한 인공지능 내용 또한 추가하였다(14장). 머신러닝, 딥러닝을 이해하기 위한 핵심 개념에 대해 설명하였고, 사이킷런을 이용하여 선형 회귀 분석을 구현하고 그래프로 시각화해 볼 수 있도록 하였다. 또한 딥러닝의 대표 라이브러리인 케라스(Keras)를 이용하여 XOR 학습, MNIST 숫자 인식을 구현해 볼 수 있도록 하였다.\\n\\n기초에서 오는 실력,\\n처음부터 탄탄히 쌓아야 한다!\\n본서는 프로그래밍을 처음 시작하는 입문자나 새내기들이 겁먹지 않고 파이썬에 대해 확실히 알아갈 수 있도록 개념부터 활용까지 친절하게 설명하고 있다. 특히 140개의 LAB과 104개의 프로그래밍 실습 문제를 통해 파이썬을 많이 사용해 보고 배운 내용을 점검하여 샐 틈 없이 완벽한 습득을 돕는다. 마지막 15장에서는 파이게임을 이용해 직접 게임을 짜볼 수 있도록 내용을 구성하여, 앞 장에서 배운 파이썬의 모든 것을 활용하고 정리함과 동시에 쌓인 실력을 점검할 수 있도록 하였다.\\n\\n내공 있고 숙련된 학습서로\\n파이썬을 더욱 재미있게!\\n파이썬은 재미있는 언어이다. 이렇게 재밌는 언어를 더욱 재미있게 만드는 것은 독자들로 하여금 꾸준히 따라올 수 있게 만드는 힘이고, 본서는 그런 내공을 충분히 가지고 있다. 『어서와 파이썬은 처음이지! 2판』으로 학습한다면 15장의 슈팅 게임 정도는 웃으면서 짤 수 있으리라 기대된다. 요즘 같은 험난한 시대에 파이썬 같은 강력한 언어를 배워놓는 것은 독자들에게 든든한 힘이 될 것이다.\"\n",
      "\t\t},\n",
      "\t\t{\n",
      "\t\t\t\"title\":\"파이썬 Express\",\n",
      "\t\t\t\"link\":\"https:\\/\\/search.shopping.naver.com\\/book\\/catalog\\/32466599747\",\n",
      "\t\t\t\"image\":\"https:\\/\\/shopping-phinf.pstatic.net\\/main_3246659\\/32466599747.20230313183357.jpg\",\n",
      "\t\t\t\"author\":\"천인국\",\n",
      "\t\t\t\"discount\":\"27600\",\n",
      "\t\t\t\"publisher\":\"생능출판\",\n",
      "\t\t\t\"pubdate\":\"20201120\",\n",
      "\t\t\t\"isbn\":\"9788970504667\",\n",
      "\t\t\t\"description\":\"『파이썬 Express』 는 〈컴퓨터와 프로그램〉, 〈우리는 왜 프로그래밍에 대하여 알아야 할까?〉, 〈프로그래밍 언어〉, 〈파이썬의 설치〉, 〈대화형 모드와 스크립트 모드〉, 〈첫 번째 프로그램 설명〉등을 수록하고 있는 책이다.\"\n",
      "\t\t},\n",
      "\t\t{\n",
      "\t\t\t\"title\":\"최신 파이썬 완전정복 : 기초에서 심화까지\",\n",
      "\t\t\t\"link\":\"https:\\/\\/search.shopping.naver.com\\/book\\/catalog\\/51885412618\",\n",
      "\t\t\t\"image\":\"https:\\/\\/shopping-phinf.pstatic.net\\/main_5188541\\/51885412618.20241212005425.jpg\",\n",
      "\t\t\t\"author\":\"강환수^조진형^김유두\",\n",
      "\t\t\t\"discount\":\"33660\",\n",
      "\t\t\t\"publisher\":\"홍릉\",\n",
      "\t\t\t\"pubdate\":\"20250112\",\n",
      "\t\t\t\"isbn\":\"9791156002352\",\n",
      "\t\t\t\"description\":\"패턴 매칭과 자료 타입 힌트를 \\n총한 최신 파이썬 기능 완벽 학습\\n\\n정규 표현식과 AI에 활용할 수 있는\\n고급 기술까지 모두 담았습니다.\"\n",
      "\t\t}\n",
      "\t]\n",
      "}\n"
     ]
    }
   ],
   "source": [
    "encText = urllib.parse.quote(\"파이썬\")\n",
    "url = \"https://openapi.naver.com/v1/search/book?query=\" + encText # JSON 결과\n",
    "# url = \"https://openapi.naver.com/v1/search/blog.xml?query=\" + encText # XML 결과\n",
    "request = urllib.request.Request(url)\n",
    "request.add_header(\"X-Naver-Client-Id\",client_id)\n",
    "request.add_header(\"X-Naver-Client-Secret\",client_secret)\n",
    "\n",
    "response = urllib.request.urlopen(request)\n",
    "rescode = response.getcode()\n",
    "if(rescode==200):\n",
    "    try:\n",
    "        response_body = response.read()\n",
    "        print(response_body.decode('utf-8'))\n",
    "    except:\n",
    "        print(\"Error Code:\" + rescode)"
   ]
  },
  {
   "cell_type": "code",
   "execution_count": 4,
   "metadata": {},
   "outputs": [
    {
     "name": "stdout",
     "output_type": "stream",
     "text": [
      "{\n",
      "\t\"lastBuildDate\":\"Fri, 07 Mar 2025 11:17:47 +0900\",\n",
      "\t\"total\":204190,\n",
      "\t\"start\":1,\n",
      "\t\"display\":10,\n",
      "\t\"items\":[\n",
      "\t\t{\n",
      "\t\t\t\"title\":\"정보 과목 <b>파이썬<\\/b> 코드 연습 문제\",\n",
      "\t\t\t\"link\":\"http:\\/\\/cafe.naver.com\\/hinongusul\\/54187\",\n",
      "\t\t\t\"description\":\"고수님들은 모른척 해주셔요 ^^ 남고 1학년 입학 후 학교에서 하는 정보 수업이 100% <b>파이썬<\\/b> 실습임을... 아이도 <b>파이썬<\\/b> 문법을 처음 배우는 아이였거든요. <b>파이썬<\\/b> 기초 문법을 학교에서 배운 뒤 집에서 복습 하거나 지필로... \",\n",
      "\t\t\t\"cafename\":\"토마스입시광장\",\n",
      "\t\t\t\"cafeurl\":\"https:\\/\\/cafe.naver.com\\/hinongusul\"\n",
      "\t\t},\n",
      "\t\t{\n",
      "\t\t\t\"title\":\"<b>파이썬<\\/b>. C++ 초6 뭐가 좋아요?\",\n",
      "\t\t\t\"link\":\"http:\\/\\/cafe.naver.com\\/dieselmania\\/45341710\",\n",
      "\t\t\t\"description\":\"문의하니 <b>파이썬<\\/b>을 먼저하라고 하는 곳이 있고 C++ 부터 하라는 곳이 있고 비슷한 결이라는 것만 알지 다른건 모르겠어요. 코딩 자격증도 따고 싶다네요. 제가 무엇을 도와주면 좋을까요? C++ , <b>파이썬<\\/b> 어떤 것부터 시작하면... \",\n",
      "\t\t\t\"cafename\":\"●디젤매니아● 대한민국 일등 패션 커...\",\n",
      "\t\t\t\"cafeurl\":\"https:\\/\\/cafe.naver.com\\/dieselmania\"\n",
      "\t\t},\n",
      "\t\t{\n",
      "\t\t\t\"title\":\"빅분기 합격가능성 측면에서 R와 <b>파이썬<\\/b> 중 어떤게 더 수월할까요?\",\n",
      "\t\t\t\"link\":\"http:\\/\\/cafe.naver.com\\/sqlpd\\/88313\",\n",
      "\t\t\t\"description\":\"<b>파이썬<\\/b>이 자료 양은 많으니 많은분들이 선택을 하는거 같은데.. 들리는 말로는 3유형 해결하는데 있어 R이 <b>파이썬<\\/b>보다 확실히 편하다고 해서 고민이 되네요. 회사 지원으로 20만원 정도까진 쓸수 있을거 같은데 고견을... \",\n",
      "\t\t\t\"cafename\":\"데이터 전문가 포럼 (빅데이터분석기사...\",\n",
      "\t\t\t\"cafeurl\":\"https:\\/\\/cafe.naver.com\\/sqlpd\"\n",
      "\t\t},\n",
      "\t\t{\n",
      "\t\t\t\"title\":\"<b>파이썬<\\/b> 인강 추천\",\n",
      "\t\t\t\"link\":\"http:\\/\\/cafe.naver.com\\/mathall\\/2871621\",\n",
      "\t\t\t\"description\":\"예비중1 아이가 프로그램 언어, 특히 <b>파이썬<\\/b>을 배워보고 싶어하는데요 블록코딩은 아주 시간가는줄 모르고... 자기주도 학습을 잘 하는 편이라 인강으로 해보고 싶은데 혹시 추천해주실 코딩, <b>파이썬<\\/b> 관련 정보 있을까요?\",\n",
      "\t\t\t\"cafename\":\"[상위1%카페] 대한민국 상위1% 교육정...\",\n",
      "\t\t\t\"cafeurl\":\"https:\\/\\/cafe.naver.com\\/mathall\"\n",
      "\t\t},\n",
      "\t\t{\n",
      "\t\t\t\"title\":\"[서평] 야구 데이터로 배우는 <b>파이썬<\\/b>\",\n",
      "\t\t\t\"link\":\"http:\\/\\/cafe.naver.com\\/sqlpd\\/88440\",\n",
      "\t\t\t\"description\":\"*본 서평은 영진닷컴에서 진행한 서평 이벤트에 당첨되어 작성하게 되었습니다* 오랜만에 책 서평 이벤트에 당첨되어 모처럼 편하게 읽어본 이 책 '야구 데이터로 배우는 <b>파이썬<\\/b>' 예전에 저도 야구 데이터 불러와서 <b>파이썬<\\/b>... \",\n",
      "\t\t\t\"cafename\":\"데이터 전문가 포럼 (빅데이터분석기사...\",\n",
      "\t\t\t\"cafeurl\":\"https:\\/\\/cafe.naver.com\\/sqlpd\"\n",
      "\t\t},\n",
      "\t\t{\n",
      "\t\t\t\"title\":\"에어 <b>파이썬<\\/b>과 조2 짐레드\",\n",
      "\t\t\t\"link\":\"http:\\/\\/cafe.naver.com\\/ofad\\/2933330\",\n",
      "\t\t\t\"description\":\"레옥 대체로 신을려고 샀던 두 뱀피 느낌 친구 조2 짐레드는 265인데도 답답하고 <b>파이썬<\\/b>은 260 미드탑급인데도 더 부드러움 질감도 <b>파이썬<\\/b>이 더 좋은듯 간만에 꺼내신었는데 <b>파이썬<\\/b>은 그래도 손이 자주 갈듯\",\n",
      "\t\t\t\"cafename\":\"OFAD-하이엔드 패션\",\n",
      "\t\t\t\"cafeurl\":\"https:\\/\\/cafe.naver.com\\/ofad\"\n",
      "\t\t},\n",
      "\t\t{\n",
      "\t\t\t\"title\":\"[<b>파이썬<\\/b> 예측] 파이코인\",\n",
      "\t\t\t\"link\":\"http:\\/\\/cafe.naver.com\\/austrail\\/209547\",\n",
      "\t\t\t\"description\":\"제가 예측이나 이쪽에 흥미를 느껴서 <b>파이썬<\\/b>으로 한번 예측 프로그램을 만들어봤어요. 향후 (10일 기준) 보시기 전에 믿거나 말거나 입니다 ! 안믿으시면 뒤로가기 클릭~ 파이코인 가격이 급락 급등만 아니라고 하면... \",\n",
      "\t\t\t\"cafename\":\"파이코인 생태계 No.1 커뮤니티 - Pi ...\",\n",
      "\t\t\t\"cafeurl\":\"https:\\/\\/cafe.naver.com\\/austrail\"\n",
      "\t\t},\n",
      "\t\t{\n",
      "\t\t\t\"title\":\"[서평] 야구 데이터로 배우는 <b>파이썬<\\/b>\",\n",
      "\t\t\t\"link\":\"http:\\/\\/cafe.naver.com\\/sqlpd\\/88142\",\n",
      "\t\t\t\"description\":\"*이벤트에 당첨되어 교재를 제공받아 작성했습니다 소개해 드릴 책은 표지부터 너무 예쁘게 생긴 <b>파이썬<\\/b>... 챕터 1 <b>파이썬<\\/b>으로 무엇을 할 수 있을까? 챕터 2 데이터로부터 그래프를 작성해 보자 챕터 3 Python의 기초를... \",\n",
      "\t\t\t\"cafename\":\"데이터 전문가 포럼 (빅데이터분석기사...\",\n",
      "\t\t\t\"cafeurl\":\"https:\\/\\/cafe.naver.com\\/sqlpd\"\n",
      "\t\t},\n",
      "\t\t{\n",
      "\t\t\t\"title\":\"마이크로소프트로 간 <b>파이썬<\\/b>\",\n",
      "\t\t\t\"link\":\"http:\\/\\/cafe.naver.com\\/olddos\\/98084\",\n",
      "\t\t\t\"description\":\"최근 행보를 보면 마이크로소프트에서 <b>파이썬<\\/b>을 적극적으로 끌어들이려는 움직임을 보이고 있습니다 비주얼 스튜디오에서도 <b>파이썬<\\/b>을 채용하는가 하면 오피스웨어의 스크립트도 <b>파이썬<\\/b>으로 가능하게 하려는 것... \",\n",
      "\t\t\t\"cafename\":\"도스 박물관 (DOS MUSEUM)\",\n",
      "\t\t\t\"cafeurl\":\"https:\\/\\/cafe.naver.com\\/olddos\"\n",
      "\t\t},\n",
      "\t\t{\n",
      "\t\t\t\"title\":\"[앱 상품]<b>파이썬<\\/b> 관련 책들\",\n",
      "\t\t\t\"link\":\"http:\\/\\/cafe.naver.com\\/joonggonara\\/1097677463\",\n",
      "\t\t\t\"description\":\"TamfmLggk0EeJiNNpzkF 상품 정보 상품명 <b>파이썬<\\/b> 관련 책들 가격 10,000 원 거래방법 택배거래 거래 희망 지역 - 판매자정보 중고나라#10406510 상품 상세 이것이 데이터 분석이다 with <b>파이썬<\\/b> (한빛미디어) 정가 - 28000... \",\n",
      "\t\t\t\"cafename\":\"중고나라\",\n",
      "\t\t\t\"cafeurl\":\"https:\\/\\/cafe.naver.com\\/joonggonara\"\n",
      "\t\t}\n",
      "\t]\n",
      "}\n"
     ]
    }
   ],
   "source": [
    "encText = urllib.parse.quote(\"파이썬\")\n",
    "url = \"https://openapi.naver.com/v1/search/cafearticle?query=\" + encText # JSON 결과\n",
    "# url = \"https://openapi.naver.com/v1/search/blog.xml?query=\" + encText # XML 결과\n",
    "request = urllib.request.Request(url)\n",
    "request.add_header(\"X-Naver-Client-Id\",client_id)\n",
    "request.add_header(\"X-Naver-Client-Secret\",client_secret)\n",
    "\n",
    "response = urllib.request.urlopen(request)\n",
    "rescode = response.getcode()\n",
    "if(rescode==200):\n",
    "    try:\n",
    "        response_body = response.read()\n",
    "        print(response_body.decode('utf-8'))\n",
    "    except:\n",
    "        print(\"Error Code:\" + rescode)"
   ]
  },
  {
   "cell_type": "code",
   "execution_count": 5,
   "metadata": {},
   "outputs": [],
   "source": [
    "import urllib.parse\n",
    "\n",
    "\n",
    "def gen_search_url(api_node, search_text, start_num, disp_num):\n",
    "    base = \"https://openapi.naver.com/v1/search\"\n",
    "    node = \"/\" + api_node + \".json\"\n",
    "    param_query = \"?query=\" + urllib.parse.quote(search_text)\n",
    "    param_start = \"&start\" + str(start_num)\n",
    "    param_disp = \"&display=\" + str(disp_num)\n",
    "\n",
    "    return base + node + param_query + param_start + param_disp"
   ]
  },
  {
   "cell_type": "code",
   "execution_count": 6,
   "metadata": {},
   "outputs": [
    {
     "data": {
      "text/plain": [
       "'https://openapi.naver.com/v1/search/shop.json?query=TESET&start10&display=3'"
      ]
     },
     "execution_count": 6,
     "metadata": {},
     "output_type": "execute_result"
    }
   ],
   "source": [
    "gen_search_url(\"shop\", \"TESET\", 10, 3)"
   ]
  },
  {
   "cell_type": "code",
   "execution_count": 7,
   "metadata": {},
   "outputs": [],
   "source": [
    "# client_id = \"qHNbmujOG4Hzz77oLZDq\"\n",
    "# client_secret = \"68cSEVia41\"\n",
    "\n",
    "# url = gen_search_url(\"shop\", \"몰스킨\", 10, 3)\n",
    "# one_result = get_re"
   ]
  },
  {
   "cell_type": "code",
   "execution_count": 8,
   "metadata": {},
   "outputs": [],
   "source": [
    "import json\n",
    "import datetime\n",
    "import urllib.request\n",
    "\n",
    "def get_result_onpage(url):\n",
    "    request = urllib.request.Request(url)\n",
    "    request.add_header(\"X-Naver-Client-Id\",client_id)\n",
    "    request.add_header(\"X-Naver-Client-Secret\",client_secret)\n",
    "\n",
    "    response = urllib.request.urlopen(request)\n",
    "\n",
    "    print(\"[%s] Url Request Success\" % datetime.datetime.now())\n",
    "    \n",
    "    return json.loads(response.read().decode(\"utf-8\"))"
   ]
  },
  {
   "cell_type": "code",
   "execution_count": 9,
   "metadata": {},
   "outputs": [
    {
     "name": "stdout",
     "output_type": "stream",
     "text": [
      "[2025-03-07 11:17:49.189298] Url Request Success\n"
     ]
    }
   ],
   "source": [
    "client_id = \"qHNbmujOG4Hzz77oLZDq\"\n",
    "client_secret = \"68cSEVia41\"\n",
    "\n",
    "url = gen_search_url(\"shop\", \"몰스킨\", 10, 3)\n",
    "one_result = get_result_onpage(url)"
   ]
  },
  {
   "cell_type": "code",
   "execution_count": 10,
   "metadata": {},
   "outputs": [
    {
     "data": {
      "text/plain": [
       "{'lastBuildDate': 'Fri, 07 Mar 2025 11:17:49 +0900',\n",
       " 'total': 46173,\n",
       " 'start': 1,\n",
       " 'display': 3,\n",
       " 'items': [{'title': '[<b>몰스킨</b>] 2025년 클래식 다이어리 (12개월) (데일리, 위클리, 먼슬리)',\n",
       "   'link': 'http://www.moleskine.co.kr/index.html?branduid=2557327&ref=naver_open',\n",
       "   'image': 'https://shopping-phinf.pstatic.net/main_5006626/50066265686.jpg',\n",
       "   'lprice': '16200',\n",
       "   'hprice': '',\n",
       "   'mallName': '몰스킨공식온라인스토어',\n",
       "   'productId': '50066265686',\n",
       "   'productType': '2',\n",
       "   'brand': '몰스킨',\n",
       "   'maker': '',\n",
       "   'category1': '생활/건강',\n",
       "   'category2': '문구/사무용품',\n",
       "   'category3': '다이어리/플래너',\n",
       "   'category4': '다이어리'},\n",
       "  {'title': '<b>몰스킨</b> 클래식노트 하드커버',\n",
       "   'link': 'https://search.shopping.naver.com/catalog/46221773618',\n",
       "   'image': 'https://shopping-phinf.pstatic.net/main_4622177/46221773618.20240306165408.jpg',\n",
       "   'lprice': '28800',\n",
       "   'hprice': '',\n",
       "   'mallName': '네이버',\n",
       "   'productId': '46221773618',\n",
       "   'productType': '1',\n",
       "   'brand': '몰스킨',\n",
       "   'maker': '몰스킨',\n",
       "   'category1': '생활/건강',\n",
       "   'category2': '문구/사무용품',\n",
       "   'category3': '노트/수첩',\n",
       "   'category4': '노트'},\n",
       "  {'title': '[백화점] 폴로 랄프로렌 남성 <b>몰스킨</b> 유틸리티 자켓',\n",
       "   'link': 'https://smartstore.naver.com/main/products/11359434366',\n",
       "   'image': 'https://shopping-phinf.pstatic.net/main_8890394/88903944717.jpg',\n",
       "   'lprice': '329000',\n",
       "   'hprice': '',\n",
       "   'mallName': '제이어드',\n",
       "   'productId': '88903944717',\n",
       "   'productType': '2',\n",
       "   'brand': '폴로랄프로렌',\n",
       "   'maker': '폴로랄프로렌',\n",
       "   'category1': '패션의류',\n",
       "   'category2': '남성의류',\n",
       "   'category3': '재킷',\n",
       "   'category4': ''}]}"
      ]
     },
     "execution_count": 10,
     "metadata": {},
     "output_type": "execute_result"
    }
   ],
   "source": [
    "one_result"
   ]
  },
  {
   "cell_type": "code",
   "execution_count": 11,
   "metadata": {},
   "outputs": [
    {
     "data": {
      "text/plain": [
       "'[<b>몰스킨</b>] 2025년 클래식 다이어리 (12개월) (데일리, 위클리, 먼슬리)'"
      ]
     },
     "execution_count": 11,
     "metadata": {},
     "output_type": "execute_result"
    }
   ],
   "source": [
    "one_result[\"items\"][0][\"title\"]"
   ]
  },
  {
   "cell_type": "code",
   "execution_count": 12,
   "metadata": {},
   "outputs": [
    {
     "data": {
      "text/plain": [
       "'16200'"
      ]
     },
     "execution_count": 12,
     "metadata": {},
     "output_type": "execute_result"
    }
   ],
   "source": [
    "one_result[\"items\"][0][\"lprice\"]"
   ]
  },
  {
   "cell_type": "code",
   "execution_count": 13,
   "metadata": {},
   "outputs": [
    {
     "data": {
      "text/plain": [
       "'몰스킨공식온라인스토어'"
      ]
     },
     "execution_count": 13,
     "metadata": {},
     "output_type": "execute_result"
    }
   ],
   "source": [
    "one_result[\"items\"][0][\"mallName\"]"
   ]
  },
  {
   "cell_type": "code",
   "execution_count": 14,
   "metadata": {},
   "outputs": [],
   "source": [
    "import pandas as pd\n",
    "\n",
    "def get_fields(json_data):\n",
    "    title = [each[\"title\"] for each in json_data[\"items\"]]\n",
    "    link = [each[\"link\"] for each in json_data[\"items\"]]\n",
    "    lprice = [each[\"lprice\"] for each in json_data[\"items\"]]\n",
    "    hprice = [each[\"hprice\"] for each in json_data[\"items\"]]\n",
    "    mall_name = [each[\"mallName\"] for each in json_data[\"items\"]]\n",
    "\n",
    "    result_pd = pd.DataFrame({\"title\": title,\n",
    "                              \"link\": link,\n",
    "                              \"lprice\": lprice,\n",
    "                              \"hprice\": hprice,\n",
    "                              \"mall\": mall_name},\n",
    "                              columns=[\"title\", \"link\", \"lprice\", \"hprice\", \"mall\"])\n",
    "    \n",
    "    return result_pd"
   ]
  },
  {
   "cell_type": "code",
   "execution_count": 15,
   "metadata": {},
   "outputs": [
    {
     "data": {
      "text/html": [
       "<div>\n",
       "<style scoped>\n",
       "    .dataframe tbody tr th:only-of-type {\n",
       "        vertical-align: middle;\n",
       "    }\n",
       "\n",
       "    .dataframe tbody tr th {\n",
       "        vertical-align: top;\n",
       "    }\n",
       "\n",
       "    .dataframe thead th {\n",
       "        text-align: right;\n",
       "    }\n",
       "</style>\n",
       "<table border=\"1\" class=\"dataframe\">\n",
       "  <thead>\n",
       "    <tr style=\"text-align: right;\">\n",
       "      <th></th>\n",
       "      <th>title</th>\n",
       "      <th>link</th>\n",
       "      <th>lprice</th>\n",
       "      <th>hprice</th>\n",
       "      <th>mall</th>\n",
       "    </tr>\n",
       "  </thead>\n",
       "  <tbody>\n",
       "    <tr>\n",
       "      <th>0</th>\n",
       "      <td>[&lt;b&gt;몰스킨&lt;/b&gt;] 2025년 클래식 다이어리 (12개월) (데일리, 위클리, ...</td>\n",
       "      <td>http://www.moleskine.co.kr/index.html?branduid...</td>\n",
       "      <td>16200</td>\n",
       "      <td></td>\n",
       "      <td>몰스킨공식온라인스토어</td>\n",
       "    </tr>\n",
       "    <tr>\n",
       "      <th>1</th>\n",
       "      <td>&lt;b&gt;몰스킨&lt;/b&gt; 클래식노트 하드커버</td>\n",
       "      <td>https://search.shopping.naver.com/catalog/4622...</td>\n",
       "      <td>28800</td>\n",
       "      <td></td>\n",
       "      <td>네이버</td>\n",
       "    </tr>\n",
       "    <tr>\n",
       "      <th>2</th>\n",
       "      <td>[백화점] 폴로 랄프로렌 남성 &lt;b&gt;몰스킨&lt;/b&gt; 유틸리티 자켓</td>\n",
       "      <td>https://smartstore.naver.com/main/products/113...</td>\n",
       "      <td>329000</td>\n",
       "      <td></td>\n",
       "      <td>제이어드</td>\n",
       "    </tr>\n",
       "  </tbody>\n",
       "</table>\n",
       "</div>"
      ],
      "text/plain": [
       "                                               title  \\\n",
       "0  [<b>몰스킨</b>] 2025년 클래식 다이어리 (12개월) (데일리, 위클리, ...   \n",
       "1                              <b>몰스킨</b> 클래식노트 하드커버   \n",
       "2                [백화점] 폴로 랄프로렌 남성 <b>몰스킨</b> 유틸리티 자켓   \n",
       "\n",
       "                                                link  lprice hprice  \\\n",
       "0  http://www.moleskine.co.kr/index.html?branduid...   16200          \n",
       "1  https://search.shopping.naver.com/catalog/4622...   28800          \n",
       "2  https://smartstore.naver.com/main/products/113...  329000          \n",
       "\n",
       "          mall  \n",
       "0  몰스킨공식온라인스토어  \n",
       "1          네이버  \n",
       "2         제이어드  "
      ]
     },
     "execution_count": 15,
     "metadata": {},
     "output_type": "execute_result"
    }
   ],
   "source": [
    "get_fields(one_result)"
   ]
  },
  {
   "cell_type": "code",
   "execution_count": 16,
   "metadata": {},
   "outputs": [],
   "source": [
    "def delete_tag(input_str):\n",
    "    input_str = input_str.replace(\"<b>\", \"\")\n",
    "    input_str = input_str.replace(\"</b>\", \"\")\n",
    "\n",
    "    return input_str"
   ]
  },
  {
   "cell_type": "code",
   "execution_count": 17,
   "metadata": {},
   "outputs": [],
   "source": [
    "import pandas as pd\n",
    "\n",
    "def get_fields(json_data):\n",
    "    title = [delete_tag(each[\"title\"]) for each in json_data[\"items\"]]\n",
    "    link = [each[\"link\"] for each in json_data[\"items\"]]\n",
    "    lprice = [each[\"lprice\"] for each in json_data[\"items\"]]\n",
    "    hprice = [each[\"hprice\"] for each in json_data[\"items\"]]\n",
    "    mall_name = [each[\"mallName\"] for each in json_data[\"items\"]]\n",
    "\n",
    "    result_pd = pd.DataFrame({\"title\": title,\n",
    "                              \"link\": link,\n",
    "                              \"lprice\": lprice,\n",
    "                              \"hprice\": hprice,\n",
    "                              \"mall\": mall_name},\n",
    "                              columns=[\"title\", \"link\", \"lprice\", \"hprice\", \"mall\"])\n",
    "    \n",
    "    return result_pd"
   ]
  },
  {
   "cell_type": "code",
   "execution_count": 18,
   "metadata": {},
   "outputs": [
    {
     "name": "stdout",
     "output_type": "stream",
     "text": [
      "[2025-03-07 11:17:51.241495] Url Request Success\n"
     ]
    }
   ],
   "source": [
    "url = gen_search_url(\"shop\", \"몰스킨\", 10, 3)\n",
    "json_result = get_result_onpage(url)\n",
    "pd_result = get_fields(one_result)"
   ]
  },
  {
   "cell_type": "code",
   "execution_count": 19,
   "metadata": {},
   "outputs": [
    {
     "data": {
      "text/html": [
       "<div>\n",
       "<style scoped>\n",
       "    .dataframe tbody tr th:only-of-type {\n",
       "        vertical-align: middle;\n",
       "    }\n",
       "\n",
       "    .dataframe tbody tr th {\n",
       "        vertical-align: top;\n",
       "    }\n",
       "\n",
       "    .dataframe thead th {\n",
       "        text-align: right;\n",
       "    }\n",
       "</style>\n",
       "<table border=\"1\" class=\"dataframe\">\n",
       "  <thead>\n",
       "    <tr style=\"text-align: right;\">\n",
       "      <th></th>\n",
       "      <th>title</th>\n",
       "      <th>link</th>\n",
       "      <th>lprice</th>\n",
       "      <th>hprice</th>\n",
       "      <th>mall</th>\n",
       "    </tr>\n",
       "  </thead>\n",
       "  <tbody>\n",
       "    <tr>\n",
       "      <th>0</th>\n",
       "      <td>[몰스킨] 2025년 클래식 다이어리 (12개월) (데일리, 위클리, 먼슬리)</td>\n",
       "      <td>http://www.moleskine.co.kr/index.html?branduid...</td>\n",
       "      <td>16200</td>\n",
       "      <td></td>\n",
       "      <td>몰스킨공식온라인스토어</td>\n",
       "    </tr>\n",
       "    <tr>\n",
       "      <th>1</th>\n",
       "      <td>몰스킨 클래식노트 하드커버</td>\n",
       "      <td>https://search.shopping.naver.com/catalog/4622...</td>\n",
       "      <td>28800</td>\n",
       "      <td></td>\n",
       "      <td>네이버</td>\n",
       "    </tr>\n",
       "    <tr>\n",
       "      <th>2</th>\n",
       "      <td>[백화점] 폴로 랄프로렌 남성 몰스킨 유틸리티 자켓</td>\n",
       "      <td>https://smartstore.naver.com/main/products/113...</td>\n",
       "      <td>329000</td>\n",
       "      <td></td>\n",
       "      <td>제이어드</td>\n",
       "    </tr>\n",
       "  </tbody>\n",
       "</table>\n",
       "</div>"
      ],
      "text/plain": [
       "                                         title  \\\n",
       "0  [몰스킨] 2025년 클래식 다이어리 (12개월) (데일리, 위클리, 먼슬리)   \n",
       "1                               몰스킨 클래식노트 하드커버   \n",
       "2                 [백화점] 폴로 랄프로렌 남성 몰스킨 유틸리티 자켓   \n",
       "\n",
       "                                                link  lprice hprice  \\\n",
       "0  http://www.moleskine.co.kr/index.html?branduid...   16200          \n",
       "1  https://search.shopping.naver.com/catalog/4622...   28800          \n",
       "2  https://smartstore.naver.com/main/products/113...  329000          \n",
       "\n",
       "          mall  \n",
       "0  몰스킨공식온라인스토어  \n",
       "1          네이버  \n",
       "2         제이어드  "
      ]
     },
     "execution_count": 19,
     "metadata": {},
     "output_type": "execute_result"
    }
   ],
   "source": [
    "pd_result"
   ]
  },
  {
   "cell_type": "code",
   "execution_count": 20,
   "metadata": {},
   "outputs": [
    {
     "name": "stdout",
     "output_type": "stream",
     "text": [
      "1\n",
      "101\n",
      "201\n",
      "301\n",
      "401\n",
      "501\n",
      "601\n",
      "701\n",
      "801\n",
      "901\n"
     ]
    }
   ],
   "source": [
    "for n in range(1, 1000, 100):\n",
    "    print(n)"
   ]
  },
  {
   "cell_type": "code",
   "execution_count": 29,
   "metadata": {},
   "outputs": [
    {
     "name": "stdout",
     "output_type": "stream",
     "text": [
      "[2025-03-07 11:20:29.457411] Url Request Success\n",
      "[2025-03-07 11:20:29.511365] Url Request Success\n",
      "[2025-03-07 11:20:29.562293] Url Request Success\n",
      "[2025-03-07 11:20:29.614034] Url Request Success\n",
      "[2025-03-07 11:20:29.660767] Url Request Success\n",
      "[2025-03-07 11:20:29.705926] Url Request Success\n",
      "[2025-03-07 11:20:29.758274] Url Request Success\n",
      "[2025-03-07 11:20:29.817577] Url Request Success\n",
      "[2025-03-07 11:20:29.871754] Url Request Success\n",
      "[2025-03-07 11:20:30.035325] Url Request Success\n"
     ]
    }
   ],
   "source": [
    "result_mol = []\n",
    "\n",
    "for n in range(1, 1000, 100):\n",
    "    url = gen_search_url(\"shop\", \"'몰스킨\", n, 100)\n",
    "    json_result = get_result_onpage(url)\n",
    "    pd_result = get_fields(json_result)\n",
    "\n",
    "    result_mol.append(pd_result)\n",
    "\n",
    "result_mol = pd.concat(result_mol)"
   ]
  },
  {
   "cell_type": "code",
   "execution_count": 30,
   "metadata": {},
   "outputs": [
    {
     "name": "stdout",
     "output_type": "stream",
     "text": [
      "<class 'pandas.core.frame.DataFrame'>\n",
      "Index: 1000 entries, 0 to 99\n",
      "Data columns (total 5 columns):\n",
      " #   Column  Non-Null Count  Dtype \n",
      "---  ------  --------------  ----- \n",
      " 0   title   1000 non-null   object\n",
      " 1   link    1000 non-null   object\n",
      " 2   lprice  1000 non-null   object\n",
      " 3   hprice  1000 non-null   object\n",
      " 4   mall    1000 non-null   object\n",
      "dtypes: object(5)\n",
      "memory usage: 46.9+ KB\n"
     ]
    }
   ],
   "source": [
    "result_mol.info()"
   ]
  },
  {
   "cell_type": "code",
   "execution_count": 31,
   "metadata": {},
   "outputs": [],
   "source": [
    "result_mol.reset_index(drop=True, inplace=True)"
   ]
  },
  {
   "cell_type": "code",
   "execution_count": 32,
   "metadata": {},
   "outputs": [
    {
     "name": "stdout",
     "output_type": "stream",
     "text": [
      "<class 'pandas.core.frame.DataFrame'>\n",
      "RangeIndex: 1000 entries, 0 to 999\n",
      "Data columns (total 5 columns):\n",
      " #   Column  Non-Null Count  Dtype \n",
      "---  ------  --------------  ----- \n",
      " 0   title   1000 non-null   object\n",
      " 1   link    1000 non-null   object\n",
      " 2   lprice  1000 non-null   object\n",
      " 3   hprice  1000 non-null   object\n",
      " 4   mall    1000 non-null   object\n",
      "dtypes: object(5)\n",
      "memory usage: 39.2+ KB\n"
     ]
    }
   ],
   "source": [
    "result_mol.info()"
   ]
  },
  {
   "cell_type": "code",
   "execution_count": 33,
   "metadata": {},
   "outputs": [
    {
     "data": {
      "text/html": [
       "<div>\n",
       "<style scoped>\n",
       "    .dataframe tbody tr th:only-of-type {\n",
       "        vertical-align: middle;\n",
       "    }\n",
       "\n",
       "    .dataframe tbody tr th {\n",
       "        vertical-align: top;\n",
       "    }\n",
       "\n",
       "    .dataframe thead th {\n",
       "        text-align: right;\n",
       "    }\n",
       "</style>\n",
       "<table border=\"1\" class=\"dataframe\">\n",
       "  <thead>\n",
       "    <tr style=\"text-align: right;\">\n",
       "      <th></th>\n",
       "      <th>title</th>\n",
       "      <th>link</th>\n",
       "      <th>lprice</th>\n",
       "      <th>hprice</th>\n",
       "      <th>mall</th>\n",
       "    </tr>\n",
       "  </thead>\n",
       "  <tbody>\n",
       "    <tr>\n",
       "      <th>0</th>\n",
       "      <td>[몰스킨] 2025년 클래식 다이어리 (12개월) (데일리, 위클리, 먼슬리)</td>\n",
       "      <td>http://www.moleskine.co.kr/index.html?branduid...</td>\n",
       "      <td>16200</td>\n",
       "      <td></td>\n",
       "      <td>몰스킨공식온라인스토어</td>\n",
       "    </tr>\n",
       "    <tr>\n",
       "      <th>1</th>\n",
       "      <td>몰스킨 클래식노트 하드커버</td>\n",
       "      <td>https://search.shopping.naver.com/catalog/4622...</td>\n",
       "      <td>28800</td>\n",
       "      <td></td>\n",
       "      <td>네이버</td>\n",
       "    </tr>\n",
       "    <tr>\n",
       "      <th>2</th>\n",
       "      <td>로이텀 2025 다이어리 위클리&amp;amp;노트 소프트커버 하드커버 A5</td>\n",
       "      <td>https://smartstore.naver.com/main/products/108...</td>\n",
       "      <td>25200</td>\n",
       "      <td></td>\n",
       "      <td>몰스킨스토어</td>\n",
       "    </tr>\n",
       "    <tr>\n",
       "      <th>3</th>\n",
       "      <td>몰스킨 2025 위클리 다이어리 상품선택</td>\n",
       "      <td>https://search.shopping.naver.com/catalog/5101...</td>\n",
       "      <td>18000</td>\n",
       "      <td></td>\n",
       "      <td>네이버</td>\n",
       "    </tr>\n",
       "    <tr>\n",
       "      <th>4</th>\n",
       "      <td>[정품당일발송] 스타벅스 2025년 몰스킨 다이어리 데일리 플래너 일기장 스케줄러 ...</td>\n",
       "      <td>https://smartstore.naver.com/main/products/110...</td>\n",
       "      <td>28000</td>\n",
       "      <td></td>\n",
       "      <td>유니스스토어</td>\n",
       "    </tr>\n",
       "  </tbody>\n",
       "</table>\n",
       "</div>"
      ],
      "text/plain": [
       "                                               title  \\\n",
       "0        [몰스킨] 2025년 클래식 다이어리 (12개월) (데일리, 위클리, 먼슬리)   \n",
       "1                                     몰스킨 클래식노트 하드커버   \n",
       "2             로이텀 2025 다이어리 위클리&amp;노트 소프트커버 하드커버 A5   \n",
       "3                             몰스킨 2025 위클리 다이어리 상품선택   \n",
       "4  [정품당일발송] 스타벅스 2025년 몰스킨 다이어리 데일리 플래너 일기장 스케줄러 ...   \n",
       "\n",
       "                                                link lprice hprice  \\\n",
       "0  http://www.moleskine.co.kr/index.html?branduid...  16200          \n",
       "1  https://search.shopping.naver.com/catalog/4622...  28800          \n",
       "2  https://smartstore.naver.com/main/products/108...  25200          \n",
       "3  https://search.shopping.naver.com/catalog/5101...  18000          \n",
       "4  https://smartstore.naver.com/main/products/110...  28000          \n",
       "\n",
       "          mall  \n",
       "0  몰스킨공식온라인스토어  \n",
       "1          네이버  \n",
       "2       몰스킨스토어  \n",
       "3          네이버  \n",
       "4       유니스스토어  "
      ]
     },
     "execution_count": 33,
     "metadata": {},
     "output_type": "execute_result"
    }
   ],
   "source": [
    "result_mol.head()"
   ]
  },
  {
   "cell_type": "code",
   "execution_count": 35,
   "metadata": {},
   "outputs": [
    {
     "name": "stdout",
     "output_type": "stream",
     "text": [
      "<class 'pandas.core.frame.DataFrame'>\n",
      "RangeIndex: 1000 entries, 0 to 999\n",
      "Data columns (total 5 columns):\n",
      " #   Column  Non-Null Count  Dtype  \n",
      "---  ------  --------------  -----  \n",
      " 0   title   1000 non-null   object \n",
      " 1   link    1000 non-null   object \n",
      " 2   lprice  1000 non-null   float64\n",
      " 3   hprice  1000 non-null   float64\n",
      " 4   mall    1000 non-null   object \n",
      "dtypes: float64(2), object(3)\n",
      "memory usage: 39.2+ KB\n"
     ]
    }
   ],
   "source": [
    "result_mol[\"hprice\"].replace(\"\", \"0\", inplace=True)\n",
    "\n",
    "result_mol[\"lprice\"] = result_mol[\"lprice\"].astype(\"float\")\n",
    "result_mol[\"hprice\"] = result_mol[\"hprice\"].astype(\"float\")\n",
    "result_mol.info()"
   ]
  },
  {
   "cell_type": "code",
   "execution_count": 41,
   "metadata": {},
   "outputs": [],
   "source": [
    "writer = pd.ExcelWriter(\"../data/molskin_diary_in_naver_shop.xlsx\", engine=\"xlsxwriter\")\n",
    "result_mol.to_excel(writer, sheet_name=\"Sheet1\")\n",
    "\n",
    "workbook = writer.book\n",
    "worksheet = writer.sheets[\"Sheet1\"]\n",
    "worksheet.set_column(\"A:A\", 4)\n",
    "worksheet.set_column(\"B:B\", 65)\n",
    "worksheet.set_column(\"C:C\", 50)\n",
    "worksheet.set_column(\"D:D\", 10)\n",
    "worksheet.set_column(\"E:E\", 10)\n",
    "worksheet.set_column(\"F:F\", 15)\n",
    "\n",
    "worksheet.conditional_format(\"D2:D1001\", {\"type\":\"3_color_scale\"})\n",
    "\n",
    "writer.close()"
   ]
  },
  {
   "cell_type": "code",
   "execution_count": null,
   "metadata": {},
   "outputs": [],
   "source": []
  }
 ],
 "metadata": {
  "kernelspec": {
   "display_name": "eda_venv",
   "language": "python",
   "name": "python3"
  },
  "language_info": {
   "codemirror_mode": {
    "name": "ipython",
    "version": 3
   },
   "file_extension": ".py",
   "mimetype": "text/x-python",
   "name": "python",
   "nbconvert_exporter": "python",
   "pygments_lexer": "ipython3",
   "version": "3.10.12"
  }
 },
 "nbformat": 4,
 "nbformat_minor": 2
}
